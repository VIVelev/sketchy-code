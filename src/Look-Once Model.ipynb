{
 "cells": [
  {
   "cell_type": "code",
   "execution_count": 1,
   "metadata": {
    "ExecuteTime": {
     "end_time": "2019-03-27T23:49:57.341368Z",
     "start_time": "2019-03-27T23:49:56.402420Z"
    }
   },
   "outputs": [
    {
     "name": "stderr",
     "output_type": "stream",
     "text": [
      "Using TensorFlow backend.\n"
     ]
    }
   ],
   "source": [
    "import numpy as np\n",
    "\n",
    "import matplotlib.pyplot as plt\n",
    "%matplotlib inline\n",
    "\n",
    "# Data Preprocessing\n",
    "from keras.utils import to_categorical\n",
    "from keras.preprocessing.sequence import pad_sequences\n",
    "\n",
    "# Models\n",
    "from keras import Model\n",
    "from keras.callbacks import ReduceLROnPlateau, ModelCheckpoint, LambdaCallback\n",
    "from keras.layers import (Input, Embedding, Dropout, LSTM, Conv2D, MaxPool2D,\n",
    "                          Dense, Activation, Reshape, Flatten, TimeDistributed)\n",
    "from keras.optimizers import Adam, RMSprop\n",
    "from keras.utils import plot_model"
   ]
  },
  {
   "cell_type": "code",
   "execution_count": 2,
   "metadata": {
    "ExecuteTime": {
     "end_time": "2019-03-27T23:49:57.726210Z",
     "start_time": "2019-03-27T23:49:57.708976Z"
    }
   },
   "outputs": [
    {
     "data": {
      "text/plain": [
       "['/job:localhost/replica:0/task:0/device:GPU:0']"
      ]
     },
     "execution_count": 2,
     "metadata": {},
     "output_type": "execute_result"
    }
   ],
   "source": [
    "import keras.backend as K\n",
    "K.tensorflow_backend._get_available_gpus()"
   ]
  },
  {
   "cell_type": "markdown",
   "metadata": {},
   "source": [
    "***"
   ]
  },
  {
   "cell_type": "code",
   "execution_count": 3,
   "metadata": {
    "ExecuteTime": {
     "end_time": "2019-03-27T23:50:41.114773Z",
     "start_time": "2019-03-27T23:50:41.111281Z"
    }
   },
   "outputs": [],
   "source": [
    "from utils.data import PATH_TO_DATA, GUIS_CODE, GUIS_SKETCH\n",
    "from utils.data.image import get_preprocessed_img\n",
    "from utils.data.sequence import tokenize_dsl_code\n",
    "from utils.data.sets import (get_sketch_id_code_pair, init_sketch_id_code_map,\n",
    "                             load_vocabulary, init_word2idx, init_idx2word)"
   ]
  },
  {
   "cell_type": "markdown",
   "metadata": {},
   "source": [
    "***"
   ]
  },
  {
   "cell_type": "code",
   "execution_count": 4,
   "metadata": {
    "ExecuteTime": {
     "end_time": "2019-03-27T23:50:42.520532Z",
     "start_time": "2019-03-27T23:50:42.517820Z"
    }
   },
   "outputs": [],
   "source": [
    "demo_sketch_id = '00150311-A7AE-4804-8B7D-9273687B4FC0'"
   ]
  },
  {
   "cell_type": "markdown",
   "metadata": {},
   "source": [
    "### Init Sketch to DSL Code map"
   ]
  },
  {
   "cell_type": "code",
   "execution_count": 5,
   "metadata": {
    "ExecuteTime": {
     "end_time": "2019-03-27T23:50:43.614081Z",
     "start_time": "2019-03-27T23:50:43.523926Z"
    }
   },
   "outputs": [
    {
     "name": "stdout",
     "output_type": "stream",
     "text": [
      "header {\n",
      "btn-inactive, btn-inactive, btn-inactive, btn-inactive\n",
      "}\n",
      "row {\n",
      "single {\n",
      "small-title, text, btn-orange\n",
      "}\n",
      "}\n",
      "row {\n",
      "double {\n",
      "small-title, text, btn-orange\n",
      "}\n",
      "double {\n",
      "small-title, text, btn-orange\n",
      "}\n",
      "}\n",
      "row {\n",
      "double {\n",
      "small-title, text, btn-orange\n",
      "}\n",
      "double {\n",
      "small-title, text, btn-orange\n",
      "}\n",
      "}\n",
      "\n"
     ]
    }
   ],
   "source": [
    "sketch_id_code_map = init_sketch_id_code_map(GUIS_CODE)\n",
    "print(sketch_id_code_map[demo_sketch_id])"
   ]
  },
  {
   "cell_type": "markdown",
   "metadata": {},
   "source": [
    "### Load / Show the Sketch"
   ]
  },
  {
   "cell_type": "code",
   "execution_count": 6,
   "metadata": {
    "ExecuteTime": {
     "end_time": "2019-03-27T23:50:44.734131Z",
     "start_time": "2019-03-27T23:50:44.550115Z"
    }
   },
   "outputs": [
    {
     "data": {
      "image/png": "[encoded data removed]",
      "text/plain": [
       "<Figure size 432x288 with 1 Axes>"
      ]
     },
     "metadata": {
      "needs_background": "light"
     },
     "output_type": "display_data"
    }
   ],
   "source": [
    "image = get_preprocessed_img(PATH_TO_DATA+demo_sketch_id+'.png')\n",
    "plt.imshow(image);"
   ]
  },
  {
   "cell_type": "markdown",
   "metadata": {},
   "source": [
    "***"
   ]
  },
  {
   "cell_type": "markdown",
   "metadata": {},
   "source": [
    "## Create a Vocabulary"
   ]
  },
  {
   "cell_type": "code",
   "execution_count": 7,
   "metadata": {
    "ExecuteTime": {
     "end_time": "2019-03-27T23:51:04.351556Z",
     "start_time": "2019-03-27T23:51:04.348645Z"
    }
   },
   "outputs": [],
   "source": [
    "vocabulary = load_vocabulary('../vocabulary.txt')"
   ]
  },
  {
   "cell_type": "code",
   "execution_count": 8,
   "metadata": {
    "ExecuteTime": {
     "end_time": "2019-03-27T23:51:05.094142Z",
     "start_time": "2019-03-27T23:51:05.090265Z"
    }
   },
   "outputs": [
    {
     "data": {
      "text/plain": [
       "18"
      ]
     },
     "execution_count": 8,
     "metadata": {},
     "output_type": "execute_result"
    }
   ],
   "source": [
    "len(vocabulary)"
   ]
  },
  {
   "cell_type": "markdown",
   "metadata": {},
   "source": [
    "### Word2Idx, Idx2Word maps"
   ]
  },
  {
   "cell_type": "code",
   "execution_count": 9,
   "metadata": {
    "ExecuteTime": {
     "end_time": "2019-03-27T23:51:26.535030Z",
     "start_time": "2019-03-27T23:51:26.532367Z"
    }
   },
   "outputs": [],
   "source": [
    "word2idx = init_word2idx(vocabulary)\n",
    "idx2word = init_idx2word(vocabulary)"
   ]
  },
  {
   "cell_type": "code",
   "execution_count": 10,
   "metadata": {
    "ExecuteTime": {
     "end_time": "2019-03-27T23:51:27.123751Z",
     "start_time": "2019-03-27T23:51:27.119827Z"
    }
   },
   "outputs": [
    {
     "data": {
      "text/plain": [
       "{',': 1,\n",
       " '0': 0,\n",
       " '<END>': 16,\n",
       " '<START>': 13,\n",
       " 'btn-active': 15,\n",
       " 'btn-green': 10,\n",
       " 'btn-inactive': 8,\n",
       " 'btn-orange': 9,\n",
       " 'btn-red': 11,\n",
       " 'double': 12,\n",
       " 'header': 14,\n",
       " 'quadruple': 6,\n",
       " 'row': 7,\n",
       " 'single': 17,\n",
       " 'small-title': 4,\n",
       " 'text': 5,\n",
       " '{': 2,\n",
       " '}': 3}"
      ]
     },
     "execution_count": 10,
     "metadata": {},
     "output_type": "execute_result"
    }
   ],
   "source": [
    "word2idx"
   ]
  },
  {
   "cell_type": "code",
   "execution_count": 11,
   "metadata": {
    "ExecuteTime": {
     "end_time": "2019-03-27T23:51:28.005600Z",
     "start_time": "2019-03-27T23:51:28.001418Z"
    },
    "scrolled": true
   },
   "outputs": [
    {
     "data": {
      "text/plain": [
       "{0: '0',\n",
       " 1: ',',\n",
       " 2: '{',\n",
       " 3: '}',\n",
       " 4: 'small-title',\n",
       " 5: 'text',\n",
       " 6: 'quadruple',\n",
       " 7: 'row',\n",
       " 8: 'btn-inactive',\n",
       " 9: 'btn-orange',\n",
       " 10: 'btn-green',\n",
       " 11: 'btn-red',\n",
       " 12: 'double',\n",
       " 13: '<START>',\n",
       " 14: 'header',\n",
       " 15: 'btn-active',\n",
       " 16: '<END>',\n",
       " 17: 'single'}"
      ]
     },
     "execution_count": 11,
     "metadata": {},
     "output_type": "execute_result"
    }
   ],
   "source": [
    "idx2word"
   ]
  },
  {
   "cell_type": "markdown",
   "metadata": {},
   "source": [
    "***"
   ]
  },
  {
   "cell_type": "markdown",
   "metadata": {},
   "source": [
    "## Max DSL Code Length"
   ]
  },
  {
   "cell_type": "code",
   "execution_count": 12,
   "metadata": {
    "ExecuteTime": {
     "end_time": "2019-03-27T23:51:35.501719Z",
     "start_time": "2019-03-27T23:51:35.498049Z"
    }
   },
   "outputs": [
    {
     "name": "stdout",
     "output_type": "stream",
     "text": [
      "Total number of DSL Codes: 1700\n"
     ]
    }
   ],
   "source": [
    "print('Total number of DSL Codes: {}'.format(len(sketch_id_code_map.values())))"
   ]
  },
  {
   "cell_type": "code",
   "execution_count": 13,
   "metadata": {
    "ExecuteTime": {
     "end_time": "2019-03-27T23:51:37.141289Z",
     "start_time": "2019-03-27T23:51:37.109180Z"
    }
   },
   "outputs": [
    {
     "name": "stdout",
     "output_type": "stream",
     "text": [
      "Longes code:\n",
      "==============================\n",
      "\n",
      "header {\n",
      "btn-inactive, btn-inactive, btn-inactive, btn-inactive\n",
      "}\n",
      "row {\n",
      "quadruple {\n",
      "small-title, text, btn-orange\n",
      "}\n",
      "quadruple {\n",
      "small-title, text, btn-orange\n",
      "}\n",
      "quadruple {\n",
      "small-title, text, btn-orange\n",
      "}\n",
      "quadruple {\n",
      "small-title, text, btn-orange\n",
      "}\n",
      "}\n",
      "row {\n",
      "quadruple {\n",
      "small-title, text, btn-orange\n",
      "}\n",
      "quadruple {\n",
      "small-title, text, btn-orange\n",
      "}\n",
      "quadruple {\n",
      "small-title, text, btn-orange\n",
      "}\n",
      "quadruple {\n",
      "small-title, text, btn-orange\n",
      "}\n",
      "}\n",
      "row {\n",
      "quadruple {\n",
      "small-title, text, btn-orange\n",
      "}\n",
      "quadruple {\n",
      "small-title, text, btn-orange\n",
      "}\n",
      "quadruple {\n",
      "small-title, text, btn-orange\n",
      "}\n",
      "quadruple {\n",
      "small-title, text, btn-orange\n",
      "}\n",
      "}\n",
      "\n"
     ]
    }
   ],
   "source": [
    "longets_code = max(\n",
    "    sketch_id_code_map.values(), key=lambda x: len(tokenize_dsl_code(x)))\n",
    "\n",
    "print('Longes code:')\n",
    "print('=' * 30)\n",
    "print()\n",
    "print(longets_code)"
   ]
  },
  {
   "cell_type": "code",
   "execution_count": 14,
   "metadata": {
    "ExecuteTime": {
     "end_time": "2019-03-27T23:51:38.683997Z",
     "start_time": "2019-03-27T23:51:38.680721Z"
    }
   },
   "outputs": [
    {
     "name": "stdout",
     "output_type": "stream",
     "text": [
      "Max DSL Code Length: 117\n"
     ]
    }
   ],
   "source": [
    "max_code_length = len(tokenize_dsl_code(longets_code)) + 2\n",
    "\n",
    "print('Max DSL Code Length: {}'.format(max_code_length))"
   ]
  },
  {
   "cell_type": "code",
   "execution_count": 15,
   "metadata": {
    "ExecuteTime": {
     "end_time": "2019-03-27T23:51:39.247699Z",
     "start_time": "2019-03-27T23:51:39.244921Z"
    }
   },
   "outputs": [],
   "source": [
    "max_code_length = 117"
   ]
  },
  {
   "cell_type": "markdown",
   "metadata": {},
   "source": [
    "***"
   ]
  },
  {
   "cell_type": "markdown",
   "metadata": {},
   "source": [
    "## Train/Dev/Test split"
   ]
  },
  {
   "cell_type": "code",
   "execution_count": 16,
   "metadata": {
    "ExecuteTime": {
     "end_time": "2019-03-27T23:51:40.922023Z",
     "start_time": "2019-03-27T23:51:40.917998Z"
    }
   },
   "outputs": [
    {
     "data": {
      "text/plain": [
       "1700"
      ]
     },
     "execution_count": 16,
     "metadata": {},
     "output_type": "execute_result"
    }
   ],
   "source": [
    "len(sketch_id_code_map)"
   ]
  },
  {
   "cell_type": "code",
   "execution_count": 17,
   "metadata": {
    "ExecuteTime": {
     "end_time": "2019-03-27T23:51:41.294792Z",
     "start_time": "2019-03-27T23:51:41.292181Z"
    }
   },
   "outputs": [],
   "source": [
    "SPLIT = (.8, .1, .1)"
   ]
  },
  {
   "cell_type": "code",
   "execution_count": 18,
   "metadata": {
    "ExecuteTime": {
     "end_time": "2019-03-27T23:51:42.407709Z",
     "start_time": "2019-03-27T23:51:42.401922Z"
    }
   },
   "outputs": [],
   "source": [
    "items = list(sketch_id_code_map.items())\n",
    "total_num = len(items)\n",
    "\n",
    "borders = (\n",
    "    int(total_num * SPLIT[0]),\n",
    "    int(total_num * SPLIT[0]) + int(total_num * SPLIT[1]),\n",
    "    int(total_num * SPLIT[0]) + int(total_num * SPLIT[1]) + int(\n",
    "        total_num * SPLIT[2]),\n",
    ")\n",
    "\n",
    "train_sketch_id_code_map = dict(items[0:borders[0]])\n",
    "dev_sketch_id_code_map = dict(items[borders[0]:borders[1]])\n",
    "test_sketch_id_code_map = dict(items[borders[1]:borders[2]])"
   ]
  },
  {
   "cell_type": "code",
   "execution_count": 19,
   "metadata": {
    "ExecuteTime": {
     "end_time": "2019-03-27T23:51:42.756508Z",
     "start_time": "2019-03-27T23:51:42.753626Z"
    }
   },
   "outputs": [],
   "source": [
    "assert len(train_sketch_id_code_map) + len(dev_sketch_id_code_map) + len(\n",
    "    test_sketch_id_code_map) == len(sketch_id_code_map)"
   ]
  },
  {
   "cell_type": "code",
   "execution_count": 20,
   "metadata": {
    "ExecuteTime": {
     "end_time": "2019-03-27T23:51:43.161210Z",
     "start_time": "2019-03-27T23:51:43.157135Z"
    }
   },
   "outputs": [
    {
     "name": "stdout",
     "output_type": "stream",
     "text": [
      "Train Set size: 1360\n",
      "Dev Set size: 170\n",
      "Test Set size: 170\n"
     ]
    }
   ],
   "source": [
    "print('Train Set size: {}'.format(len(train_sketch_id_code_map)))\n",
    "print('Dev Set size: {}'.format(len(dev_sketch_id_code_map)))\n",
    "print('Test Set size: {}'.format(len(test_sketch_id_code_map)))"
   ]
  },
  {
   "cell_type": "markdown",
   "metadata": {},
   "source": [
    "***"
   ]
  },
  {
   "cell_type": "markdown",
   "metadata": {},
   "source": [
    "## Data Generator"
   ]
  },
  {
   "cell_type": "code",
   "execution_count": 21,
   "metadata": {
    "ExecuteTime": {
     "end_time": "2019-03-27T23:51:46.859102Z",
     "start_time": "2019-03-27T23:51:46.849961Z"
    }
   },
   "outputs": [],
   "source": [
    "# data generator, intended to be used in a call to model.fit_generator()\n",
    "\n",
    "\n",
    "def data_generator(sketch_id_code_set, word2idx, batch_size, maxlen=max_code_length):\n",
    "    X_img = np.zeros((batch_size, 256, 256, 3))\n",
    "    X_seq = []\n",
    "    Y_seq = []\n",
    "    n = 0\n",
    "\n",
    "    # loop for ever over images\n",
    "    while True:\n",
    "        keys = list(sketch_id_code_set.keys())\n",
    "        np.random.shuffle(keys)\n",
    "        data_set = [(key, sketch_id_code_set[key]) for key in keys]\n",
    "        \n",
    "        for sketch_id, code in data_set:\n",
    "            # load sketch\n",
    "            sketch = get_preprocessed_img(PATH_TO_DATA+sketch_id+'.png')\n",
    "            X_img[n] = sketch\n",
    "\n",
    "            # encode the sequence\n",
    "            y_seq = [word2idx[word] for word in tokenize_dsl_code(code)] + [word2idx['<END>']]\n",
    "            x_seq = [word2idx['<START>']] + y_seq[:-1]\n",
    "\n",
    "            Y_seq.append(y_seq)\n",
    "            X_seq.append(x_seq)\n",
    "\n",
    "            n += 1\n",
    "            # yield the batch data\n",
    "            if n == batch_size:\n",
    "                X_seq = pad_sequences(X_seq, maxlen=maxlen, padding='post')\n",
    "                Y_seq = pad_sequences(Y_seq, maxlen=maxlen, padding='post')\n",
    "\n",
    "                # One-hot\n",
    "                Y_seq = [[\n",
    "                    to_categorical(idx, len(vocabulary)) for idx in sent\n",
    "                ] for sent in Y_seq]\n",
    "\n",
    "                yield [[X_img, X_seq], np.array(Y_seq)]\n",
    "\n",
    "                X_img = np.zeros((batch_size, 256, 256, 3))\n",
    "                X_seq = []\n",
    "                Y_seq = []\n",
    "                n = 0"
   ]
  },
  {
   "cell_type": "markdown",
   "metadata": {},
   "source": [
    "***"
   ]
  },
  {
   "cell_type": "code",
   "execution_count": 22,
   "metadata": {
    "ExecuteTime": {
     "end_time": "2019-03-27T17:48:00.442381Z",
     "start_time": "2019-03-27T17:48:00.439780Z"
    }
   },
   "outputs": [],
   "source": [
    "EMBEDDING_DIM = 128\n",
    "NUM_HIDDEN_NEURONS = [256, 256]"
   ]
  },
  {
   "cell_type": "markdown",
   "metadata": {},
   "source": [
    "# Sketch Encoder (ConvNet)"
   ]
  },
  {
   "cell_type": "code",
   "execution_count": 23,
   "metadata": {
    "ExecuteTime": {
     "end_time": "2019-03-27T17:48:37.171009Z",
     "start_time": "2019-03-27T17:48:36.934924Z"
    }
   },
   "outputs": [
    {
     "name": "stdout",
     "output_type": "stream",
     "text": [
      "WARNING:tensorflow:From /usr/local/lib/python3.5/dist-packages/tensorflow/python/framework/op_def_library.py:263: colocate_with (from tensorflow.python.framework.ops) is deprecated and will be removed in a future version.\n",
      "Instructions for updating:\n",
      "Colocations handled automatically by placer.\n",
      "WARNING:tensorflow:From /usr/local/lib/python3.5/dist-packages/keras/backend/tensorflow_backend.py:3445: calling dropout (from tensorflow.python.ops.nn_ops) with keep_prob is deprecated and will be removed in a future version.\n",
      "Instructions for updating:\n",
      "Please use `rate` instead of `keep_prob`. Rate should be set to `rate = 1 - keep_prob`.\n"
     ]
    }
   ],
   "source": [
    "img_in = Input((256, 256, 3), name='image_input')\n",
    "\n",
    "x = Conv2D(32, (3, 3), activation='relu', padding='valid', name='conv_32_1')(img_in)\n",
    "x = Conv2D(32, (3, 3), activation='relu', padding='valid', name='conv_32_2')(x)\n",
    "x = MaxPool2D(pool_size=(2, 2), name='maxpool_1')(x)\n",
    "x = Dropout(0.3, name='conv_dropout_1')(x)\n",
    "\n",
    "x = Conv2D(64, (3, 3), activation='relu', padding='valid', name='conv_64_1')(x)\n",
    "x = Conv2D(64, (3, 3), activation='relu', padding='valid', name='conv_64_2')(x)\n",
    "x = MaxPool2D(pool_size=(2, 2), name='maxpool_2')(x)\n",
    "x = Dropout(0.3, name='conv_dropout_2')(x)\n",
    "\n",
    "x = Conv2D(128, (3, 3), activation='relu', padding='valid', name='conv_128_1')(x)\n",
    "x = Conv2D(128, (3, 3), activation='relu', padding='valid', name='conv_128_2')(x)\n",
    "x = MaxPool2D(pool_size=(2, 2), name='maxpool_3')(x)\n",
    "x = Dropout(0.3, name='conv_dropout_3')(x)\n",
    "\n",
    "x = Flatten(name='flatten')(x)\n",
    "\n",
    "x = Dense(1024, activation='relu', name='dense_relu_1')(x)\n",
    "x = Dropout(0.3, name='dense_dropout_1')(x)\n",
    "\n",
    "x = Dense(1024, activation='relu', name='dense_relu_2')(x)\n",
    "x = Dropout(0.3, name='dense_dropout_2')(x)\n",
    "\n",
    "x = Dense(EMBEDDING_DIM, activation='relu', name='dense_relu_encoder')(x)\n",
    "x = Reshape((1, EMBEDDING_DIM), name='embedding_reshapor')(x)\n",
    "\n",
    "sketch_encoder = Model(img_in, x, name='sketch_encoder')"
   ]
  },
  {
   "cell_type": "code",
   "execution_count": 24,
   "metadata": {
    "ExecuteTime": {
     "end_time": "2019-03-27T17:48:38.158580Z",
     "start_time": "2019-03-27T17:48:38.058347Z"
    }
   },
   "outputs": [
    {
     "name": "stdout",
     "output_type": "stream",
     "text": [
      "_________________________________________________________________\n",
      "Layer (type)                 Output Shape              Param #   \n",
      "=================================================================\n",
      "image_input (InputLayer)     (None, 256, 256, 3)       0         \n",
      "_________________________________________________________________\n",
      "conv_32_1 (Conv2D)           (None, 254, 254, 32)      896       \n",
      "_________________________________________________________________\n",
      "conv_32_2 (Conv2D)           (None, 252, 252, 32)      9248      \n",
      "_________________________________________________________________\n",
      "maxpool_1 (MaxPooling2D)     (None, 126, 126, 32)      0         \n",
      "_________________________________________________________________\n",
      "conv_dropout_1 (Dropout)     (None, 126, 126, 32)      0         \n",
      "_________________________________________________________________\n",
      "conv_64_1 (Conv2D)           (None, 124, 124, 64)      18496     \n",
      "_________________________________________________________________\n",
      "conv_64_2 (Conv2D)           (None, 122, 122, 64)      36928     \n",
      "_________________________________________________________________\n",
      "maxpool_2 (MaxPooling2D)     (None, 61, 61, 64)        0         \n",
      "_________________________________________________________________\n",
      "conv_dropout_2 (Dropout)     (None, 61, 61, 64)        0         \n",
      "_________________________________________________________________\n",
      "conv_128_1 (Conv2D)          (None, 59, 59, 128)       73856     \n",
      "_________________________________________________________________\n",
      "conv_128_2 (Conv2D)          (None, 57, 57, 128)       147584    \n",
      "_________________________________________________________________\n",
      "maxpool_3 (MaxPooling2D)     (None, 28, 28, 128)       0         \n",
      "_________________________________________________________________\n",
      "conv_dropout_3 (Dropout)     (None, 28, 28, 128)       0         \n",
      "_________________________________________________________________\n",
      "flatten (Flatten)            (None, 100352)            0         \n",
      "_________________________________________________________________\n",
      "dense_relu_1 (Dense)         (None, 1024)              102761472 \n",
      "_________________________________________________________________\n",
      "dense_dropout_1 (Dropout)    (None, 1024)              0         \n",
      "_________________________________________________________________\n",
      "dense_relu_2 (Dense)         (None, 1024)              1049600   \n",
      "_________________________________________________________________\n",
      "dense_dropout_2 (Dropout)    (None, 1024)              0         \n",
      "_________________________________________________________________\n",
      "dense_relu_encoder (Dense)   (None, 128)               131200    \n",
      "_________________________________________________________________\n",
      "embedding_reshapor (Reshape) (None, 1, 128)            0         \n",
      "=================================================================\n",
      "Total params: 104,229,280\n",
      "Trainable params: 104,229,280\n",
      "Non-trainable params: 0\n",
      "_________________________________________________________________\n",
      "None\n"
     ]
    }
   ],
   "source": [
    "# plot_model(sketch_encoder, to_file='./model_plots/look_once/sketch_encoder.png', show_shapes=True, show_layer_names=True)\n",
    "\n",
    "print(sketch_encoder.summary())"
   ]
  },
  {
   "cell_type": "markdown",
   "metadata": {},
   "source": [
    "***"
   ]
  },
  {
   "cell_type": "markdown",
   "metadata": {},
   "source": [
    "# Sequence Decoder (LSTM)\n",
    "<br>\n",
    "A LSTM network\n",
    "\n",
    "![LSTM_net](../img/LSTM.png)"
   ]
  },
  {
   "cell_type": "code",
   "execution_count": 25,
   "metadata": {
    "ExecuteTime": {
     "end_time": "2019-03-27T17:48:53.492775Z",
     "start_time": "2019-03-27T17:48:52.866445Z"
    }
   },
   "outputs": [],
   "source": [
    "# Sequence Input\n",
    "seq_in = Input((max_code_length,), name='sequence_input')\n",
    "sketch_emb_in = Input((1, EMBEDDING_DIM), name='sketch_emb_input')\n",
    "\n",
    "\n",
    "# Embeddings\n",
    "embeddings = Embedding(\n",
    "    len(vocabulary),\n",
    "    EMBEDDING_DIM,\n",
    "    input_length=max_code_length,\n",
    "    mask_zero=True,\n",
    "    name='embeddings'\n",
    ")\n",
    "x = embeddings(seq_in)\n",
    "    \n",
    "# Dropout\n",
    "embeddings_dropout = Dropout(0.3, name='embeddings_dropout')\n",
    "x = embeddings_dropout(x)\n",
    "\n",
    "# Sequence Decoder\n",
    "lstm_decoder_1 = LSTM(NUM_HIDDEN_NEURONS[0], return_sequences=True, return_state=True, name='lstm_decoder_1')\n",
    "lstm_decoder_2 = LSTM(NUM_HIDDEN_NEURONS[1], return_sequences=True, return_state=True, name='lstm_decoder_2')\n",
    "\n",
    "# Get the context from the Sketch\n",
    "_, h_state, c_state = lstm_decoder_1(sketch_emb_in)\n",
    "\n",
    "# Generate code\n",
    "x, _, _ = lstm_decoder_1(x, initial_state=[h_state, c_state])\n",
    "x, _, _ = lstm_decoder_2(x)\n",
    "\n",
    "# Dense -> Softmax\n",
    "dense_decoder = TimeDistributed(Dense(len(vocabulary)), name='dense_decoder')\n",
    "x = dense_decoder(x)\n",
    "softmax_decoder = TimeDistributed(Activation('softmax'), name='softmax_decoder')\n",
    "x = softmax_decoder(x)\n",
    "\n",
    "sequence_decoder = Model(inputs=[seq_in, sketch_emb_in], outputs=x, name='sequence_decoder')"
   ]
  },
  {
   "cell_type": "code",
   "execution_count": 26,
   "metadata": {
    "ExecuteTime": {
     "end_time": "2019-03-27T17:48:57.127394Z",
     "start_time": "2019-03-27T17:48:57.038199Z"
    }
   },
   "outputs": [
    {
     "name": "stdout",
     "output_type": "stream",
     "text": [
      "__________________________________________________________________________________________________\n",
      "Layer (type)                    Output Shape         Param #     Connected to                     \n",
      "==================================================================================================\n",
      "sequence_input (InputLayer)     (None, 117)          0                                            \n",
      "__________________________________________________________________________________________________\n",
      "embeddings (Embedding)          (None, 117, 128)     2304        sequence_input[0][0]             \n",
      "__________________________________________________________________________________________________\n",
      "sketch_emb_input (InputLayer)   (None, 1, 128)       0                                            \n",
      "__________________________________________________________________________________________________\n",
      "lstm_decoder_1 (LSTM)           multiple             394240      sketch_emb_input[0][0]           \n",
      "                                                                 embeddings_dropout[0][0]         \n",
      "                                                                 lstm_decoder_1[0][1]             \n",
      "                                                                 lstm_decoder_1[0][2]             \n",
      "__________________________________________________________________________________________________\n",
      "embeddings_dropout (Dropout)    (None, 117, 128)     0           embeddings[0][0]                 \n",
      "__________________________________________________________________________________________________\n",
      "lstm_decoder_2 (LSTM)           [(None, 117, 256), ( 525312      lstm_decoder_1[1][0]             \n",
      "__________________________________________________________________________________________________\n",
      "dense_decoder (TimeDistributed) (None, 117, 18)      4626        lstm_decoder_2[0][0]             \n",
      "__________________________________________________________________________________________________\n",
      "softmax_decoder (TimeDistribute (None, 117, 18)      0           dense_decoder[0][0]              \n",
      "==================================================================================================\n",
      "Total params: 926,482\n",
      "Trainable params: 926,482\n",
      "Non-trainable params: 0\n",
      "__________________________________________________________________________________________________\n",
      "None\n"
     ]
    }
   ],
   "source": [
    "# plot_model(sequence_decoder, to_file='./model_plots/look_once/sequence_decoder.png', show_shapes=True, show_layer_names=True)\n",
    "\n",
    "print(sequence_decoder.summary())"
   ]
  },
  {
   "cell_type": "markdown",
   "metadata": {},
   "source": [
    "***"
   ]
  },
  {
   "cell_type": "markdown",
   "metadata": {},
   "source": [
    "# Model\n",
    "\n",
    "![NIC_model](../img/Model.png)"
   ]
  },
  {
   "cell_type": "code",
   "execution_count": 27,
   "metadata": {
    "ExecuteTime": {
     "end_time": "2019-03-27T17:50:03.775880Z",
     "start_time": "2019-03-27T17:50:03.479431Z"
    }
   },
   "outputs": [],
   "source": [
    "sketch_emb = sketch_encoder(img_in)\n",
    "seq_out = sequence_decoder([seq_in, sketch_emb])\n",
    "\n",
    "# Build the model\n",
    "model = Model(inputs=[img_in, seq_in], outputs=seq_out, name='model')\n"
   ]
  },
  {
   "cell_type": "markdown",
   "metadata": {},
   "source": [
    "### Visualize the model"
   ]
  },
  {
   "cell_type": "code",
   "execution_count": 28,
   "metadata": {
    "ExecuteTime": {
     "end_time": "2019-03-27T17:50:06.343116Z",
     "start_time": "2019-03-27T17:50:06.263939Z"
    }
   },
   "outputs": [
    {
     "name": "stdout",
     "output_type": "stream",
     "text": [
      "__________________________________________________________________________________________________\n",
      "Layer (type)                    Output Shape         Param #     Connected to                     \n",
      "==================================================================================================\n",
      "image_input (InputLayer)        (None, 256, 256, 3)  0                                            \n",
      "__________________________________________________________________________________________________\n",
      "sequence_input (InputLayer)     (None, 117)          0                                            \n",
      "__________________________________________________________________________________________________\n",
      "sketch_encoder (Model)          (None, 1, 128)       104229280   image_input[0][0]                \n",
      "__________________________________________________________________________________________________\n",
      "sequence_decoder (Model)        (None, 117, 18)      926482      sequence_input[0][0]             \n",
      "                                                                 sketch_encoder[1][0]             \n",
      "==================================================================================================\n",
      "Total params: 105,155,762\n",
      "Trainable params: 105,155,762\n",
      "Non-trainable params: 0\n",
      "__________________________________________________________________________________________________\n",
      "None\n"
     ]
    }
   ],
   "source": [
    "# plot_model(model, to_file='./model_plots/look_once/model.png', show_shapes=True, show_layer_names=True)\n",
    "\n",
    "print(model.summary())"
   ]
  },
  {
   "cell_type": "markdown",
   "metadata": {},
   "source": [
    "***"
   ]
  },
  {
   "cell_type": "markdown",
   "metadata": {},
   "source": [
    "# Inference\n",
    "\n",
    "![LSTM_sampling](../img/Sampling.png)"
   ]
  },
  {
   "cell_type": "code",
   "execution_count": 34,
   "metadata": {
    "ExecuteTime": {
     "end_time": "2019-03-27T18:01:17.198200Z",
     "start_time": "2019-03-27T18:01:17.186966Z"
    }
   },
   "outputs": [],
   "source": [
    "def init_inference_decoder():\n",
    "    h_state_input_1 = Input((NUM_HIDDEN_NEURONS[0],), name='h_state_input_1')\n",
    "    c_state_input_1 = Input((NUM_HIDDEN_NEURONS[0],), name='c_state_input_1')\n",
    "    h_state_input_2 = Input((NUM_HIDDEN_NEURONS[1],), name='h_state_input_2')\n",
    "    c_state_input_2 = Input((NUM_HIDDEN_NEURONS[1],), name='c_state_input_2')\n",
    "\n",
    "    embedded_seq = embeddings(seq_in)\n",
    "    embedded_seq = embeddings_dropout(embedded_seq)\n",
    "\n",
    "    output_tokens, h_state_1, c_state_1 = lstm_decoder_1(\n",
    "        embedded_seq, initial_state=[h_state_input_1, c_state_input_1])\n",
    "    output_tokens, h_state_2, c_state_2 = lstm_decoder_2(\n",
    "        output_tokens, initial_state=[h_state_input_2, c_state_input_2])\n",
    "\n",
    "    output_tokens = dense_decoder(output_tokens)\n",
    "    output_tokens = softmax_decoder(output_tokens)\n",
    "\n",
    "    inference_decoder = Model(\n",
    "        [seq_in,\n",
    "         h_state_input_1, c_state_input_1,\n",
    "         h_state_input_2, c_state_input_2],\n",
    "        \n",
    "        [output_tokens,\n",
    "         h_state_1, c_state_1,\n",
    "         h_state_2, c_state_2]\n",
    "    )\n",
    "\n",
    "    return inference_decoder\n",
    "\n",
    "\n",
    "def get_sketch_embedding(sketch):\n",
    "    return sketch_encoder.predict(np.expand_dims(sketch, 0))\n",
    "\n",
    "\n",
    "def get_initial_lstm_states(sketch):\n",
    "    states_model = Model(sketch_emb_in, lstm_decoder_1(sketch_emb_in)[1:])\n",
    "    sketch_emb = get_sketch_embedding(sketch)\n",
    "    states = states_model.predict(sketch_emb)\n",
    "    return states + [np.zeros((1, NUM_HIDDEN_NEURONS[1]))]*2\n",
    "\n",
    "\n",
    "def greedy_search_inference(sketch):\n",
    "    inference_decoder = init_inference_decoder()\n",
    "    \n",
    "    # Get the context of the Sketch\n",
    "    states_values = get_initial_lstm_states(sketch)\n",
    "\n",
    "    target_seq = np.zeros((1, max_code_length))\n",
    "    target_seq[0, 0] = word2idx['<START>']\n",
    "\n",
    "    stop_condition = False\n",
    "    decoded_tokens = []\n",
    "\n",
    "    while not stop_condition:\n",
    "        [output_tokens,\n",
    "         h_state_1, c_state_1,\n",
    "         h_state_2, c_state_2] = inference_decoder.predict(\n",
    "            [target_seq] + states_values)\n",
    "            \n",
    "        # Sample a token\n",
    "        sampled_token_index = np.argmax(output_tokens[0, 0, :])\n",
    "        sampled_word = idx2word[sampled_token_index]\n",
    "        decoded_tokens.append(sampled_word)\n",
    "\n",
    "        # Exit condition\n",
    "        if (sampled_word == '<END>' or len(decoded_tokens) >= max_code_length):\n",
    "            stop_condition = True\n",
    "\n",
    "        target_seq = np.zeros((1, max_code_length))\n",
    "        target_seq[0, 0] = sampled_token_index\n",
    "\n",
    "        states_values = [h_state_1, c_state_1, h_state_2, c_state_2]\n",
    "\n",
    "    return ' '.join(decoded_tokens)"
   ]
  },
  {
   "cell_type": "code",
   "execution_count": 35,
   "metadata": {
    "ExecuteTime": {
     "end_time": "2019-03-27T18:01:21.117665Z",
     "start_time": "2019-03-27T18:01:17.579627Z"
    },
    "scrolled": true
   },
   "outputs": [
    {
     "data": {
      "text/plain": [
       "'btn-red btn-red text text single single quadruple quadruple single single single quadruple } } 0 0 0 0 0 0 0 0 0 0 0 0 0 0 0 0 0 0 0 0 0 0 0 0 0 0 0 0 0 0 0 0 0 0 0 0 0 0 0 0 0 0 0 0 0 0 0 0 0 0 0 0 0 0 0 0 0 0 0 0 0 0 0 0 0 0 0 0 0 0 0 0 0 0 0 0 0 0 0 0 0 0 0 0 0 0 0 0 0 0 0 0 0 0 0 0 0 0 0 0 0 0 0'"
      ]
     },
     "execution_count": 35,
     "metadata": {},
     "output_type": "execute_result"
    }
   ],
   "source": [
    "demo_sketch = get_preprocessed_img(PATH_TO_DATA+demo_sketch_id+'.png')\n",
    "\n",
    "greedy_search_inference(demo_sketch)"
   ]
  },
  {
   "cell_type": "markdown",
   "metadata": {},
   "source": [
    "***"
   ]
  },
  {
   "cell_type": "markdown",
   "metadata": {},
   "source": [
    "## Run Train"
   ]
  },
  {
   "cell_type": "markdown",
   "metadata": {},
   "source": [
    "### Callbacks"
   ]
  },
  {
   "cell_type": "code",
   "execution_count": 38,
   "metadata": {},
   "outputs": [],
   "source": [
    "filepath=\"weights/look-once-weights.hdf5\"\n",
    "checkpoint = ModelCheckpoint(filepath, verbose=True)\n",
    "\n",
    "def on_epoch_end(epoch, logs):\n",
    "    if epoch % 5 == 0:\n",
    "        print()\n",
    "        print('Sampled:')\n",
    "        print('='*30)\n",
    "        print(greedy_search_inference(get_preprocessed_img(\n",
    "            PATH_TO_DATA+np.random.choice(list(dev_sketch_id_code_map.keys()))+'.png'\n",
    "        )))\n",
    "        print()\n",
    "        print()\n",
    "\n",
    "lambda_cb = LambdaCallback(on_epoch_end=on_epoch_end)\n",
    "\n",
    "callbacks = [checkpoint, lambda_cb]"
   ]
  },
  {
   "cell_type": "code",
   "execution_count": 39,
   "metadata": {},
   "outputs": [],
   "source": [
    "# model.load_weights('./weights/look-once-weights.hdf5')\n",
    "\n",
    "model.compile(RMSprop(0.0001), loss='categorical_crossentropy')"
   ]
  },
  {
   "cell_type": "code",
   "execution_count": 40,
   "metadata": {
    "scrolled": true
   },
   "outputs": [
    {
     "name": "stdout",
     "output_type": "stream",
     "text": [
      "WARNING:tensorflow:From /usr/local/lib/python3.5/dist-packages/tensorflow/python/ops/math_ops.py:3066: to_int32 (from tensorflow.python.ops.math_ops) is deprecated and will be removed in a future version.\n",
      "Instructions for updating:\n",
      "Use tf.cast instead.\n",
      "Epoch 1/100\n",
      "21/21 [==============================] - 44s 2s/step - loss: 2.5582\n",
      "\n",
      "Epoch 00001: saving model to weights/look-once-weights.hdf5\n"
     ]
    },
    {
     "name": "stderr",
     "output_type": "stream",
     "text": [
      "/usr/local/lib/python3.5/dist-packages/keras/engine/network.py:877: UserWarning: Layer lstm_decoder_1 was passed non-serializable keyword arguments: {'mask': [<tf.Tensor 'sequence_decoder/embeddings/NotEqual:0' shape=(?, 117) dtype=bool>, None, None], 'initial_state': [<tf.Tensor 'lstm_decoder_1/while/Exit_3:0' shape=(?, 256) dtype=float32>, <tf.Tensor 'lstm_decoder_1/while/Exit_4:0' shape=(?, 256) dtype=float32>]}. They will not be included in the serialized model (and thus will be missing at deserialization time).\n",
      "  '. They will not be included '\n"
     ]
    },
    {
     "name": "stdout",
     "output_type": "stream",
     "text": [
      "\n",
      "Sampled:\n",
      "==============================\n",
      "btn-inactive btn-inactive btn-inactive btn-inactive btn-inactive btn-inactive , , , , , , , , , , , , , , , , , , , , , , , , , , , , , , , , , , , , , , , , , , , , , , , , , , , , , , , , , , , , , , , , , , , , , , , , , , , , , , , , , , , , , , , , , , , , , , , , , , , , , , , , , , , , , , ,\n",
      "\n",
      "\n",
      "Epoch 2/100\n",
      "21/21 [==============================] - 27s 1s/step - loss: 2.1211\n",
      "\n",
      "Epoch 00002: saving model to weights/look-once-weights.hdf5\n",
      "Epoch 3/100\n",
      "21/21 [==============================] - 43s 2s/step - loss: 2.0650\n",
      "\n",
      "Epoch 00003: saving model to weights/look-once-weights.hdf5\n",
      "Epoch 4/100\n",
      "21/21 [==============================] - 42s 2s/step - loss: 2.0323\n",
      "\n",
      "Epoch 00004: saving model to weights/look-once-weights.hdf5\n",
      "Epoch 5/100\n",
      "21/21 [==============================] - 44s 2s/step - loss: 2.0074\n",
      "\n",
      "Epoch 00005: saving model to weights/look-once-weights.hdf5\n",
      "Epoch 6/100\n",
      "21/21 [==============================] - 43s 2s/step - loss: 1.9893\n",
      "\n",
      "Epoch 00006: saving model to weights/look-once-weights.hdf5\n",
      "\n",
      "Sampled:\n",
      "==============================\n",
      "header { btn-inactive btn-inactive , , btn-inactive , { { { , , , , , , , , , , , , , , , , , , , , , , , , , , , , , , , , , , , , , , , , , , , , , , , , , , , , , , , } } } } } } } } } } } } } } } } } } } } } } } } } } } } } } } } } } } } } } } } } } } } } } } } } } }\n",
      "\n",
      "\n",
      "Epoch 7/100\n",
      "21/21 [==============================] - 27s 1s/step - loss: 1.9727\n",
      "\n",
      "Epoch 00007: saving model to weights/look-once-weights.hdf5\n",
      "Epoch 8/100\n",
      "21/21 [==============================] - 44s 2s/step - loss: 1.9588\n",
      "\n",
      "Epoch 00008: saving model to weights/look-once-weights.hdf5\n",
      "Epoch 9/100\n",
      "21/21 [==============================] - 43s 2s/step - loss: 1.9424\n",
      "\n",
      "Epoch 00009: saving model to weights/look-once-weights.hdf5\n",
      "Epoch 10/100\n",
      "21/21 [==============================] - 44s 2s/step - loss: 1.9246\n",
      "\n",
      "Epoch 00010: saving model to weights/look-once-weights.hdf5\n",
      "Epoch 11/100\n",
      "21/21 [==============================] - 43s 2s/step - loss: 1.9034\n",
      "\n",
      "Epoch 00011: saving model to weights/look-once-weights.hdf5\n",
      "\n",
      "Sampled:\n",
      "==============================\n",
      "header { btn-inactive btn-inactive , btn-inactive btn-inactive btn-inactive btn-inactive { { { { , , , , , , , } } { , , , , , , } } { , , , , , } } { , , , , , } } { , , , , , } } , , , , } , , } , , , } , , } , } , } } } , } } } , } } } } , } } } } } , } } } } } , } } } } } } , } } } } } , } } } } } ,\n",
      "\n",
      "\n",
      "Epoch 12/100\n",
      "21/21 [==============================] - 27s 1s/step - loss: 1.8661\n",
      "\n",
      "Epoch 00012: saving model to weights/look-once-weights.hdf5\n",
      "Epoch 13/100\n",
      "21/21 [==============================] - 44s 2s/step - loss: 1.8145\n",
      "\n",
      "Epoch 00013: saving model to weights/look-once-weights.hdf5\n",
      "Epoch 14/100\n",
      "21/21 [==============================] - 43s 2s/step - loss: 1.7283\n",
      "\n",
      "Epoch 00014: saving model to weights/look-once-weights.hdf5\n",
      "Epoch 15/100\n",
      "21/21 [==============================] - 43s 2s/step - loss: 1.6004\n",
      "\n",
      "Epoch 00015: saving model to weights/look-once-weights.hdf5\n",
      "Epoch 16/100\n",
      "21/21 [==============================] - 43s 2s/step - loss: 1.4479\n",
      "\n",
      "Epoch 00016: saving model to weights/look-once-weights.hdf5\n",
      "\n",
      "Sampled:\n",
      "==============================\n",
      "header { btn-inactive , , btn-inactive btn-inactive btn-inactive btn-inactive { { { { , , , btn-orange } } { { small-title , , , btn-orange } } { { small-title , , , btn-orange } } { { small-title , , , btn-orange } } { { small-title , , , btn-orange } } { { small-title , , , btn-orange } } { { small-title , , , btn-orange } } { { small-title , , , btn-orange } } { { small-title , , , btn-orange } } { { small-title , , , btn-orange } } { { small-title , , , btn-orange } } { { small-title , , , btn-orange }\n",
      "\n",
      "\n",
      "Epoch 17/100\n",
      "21/21 [==============================] - 27s 1s/step - loss: 1.3151\n",
      "\n",
      "Epoch 00017: saving model to weights/look-once-weights.hdf5\n",
      "Epoch 18/100\n",
      "21/21 [==============================] - 43s 2s/step - loss: 1.2091\n",
      "\n",
      "Epoch 00018: saving model to weights/look-once-weights.hdf5\n",
      "Epoch 19/100\n",
      "21/21 [==============================] - 43s 2s/step - loss: 1.1257\n",
      "\n",
      "Epoch 00019: saving model to weights/look-once-weights.hdf5\n",
      "Epoch 20/100\n",
      "21/21 [==============================] - 45s 2s/step - loss: 1.0503\n",
      "\n",
      "Epoch 00020: saving model to weights/look-once-weights.hdf5\n",
      "Epoch 21/100\n",
      "21/21 [==============================] - 43s 2s/step - loss: 0.9908\n",
      "\n",
      "Epoch 00021: saving model to weights/look-once-weights.hdf5\n",
      "\n",
      "Sampled:\n",
      "==============================\n",
      "header { btn-inactive , , btn-inactive btn-inactive btn-inactive btn-inactive row { { { small-title , , , btn-orange } } { { small-title , , , btn-orange } } { { small-title , , , btn-orange } } { { small-title , , , btn-orange } } { { small-title , , , btn-orange } } { { small-title , , , btn-orange } } { { small-title , , , btn-orange } } { { small-title , , , btn-orange } } { small-title small-title , , , btn-orange } } { small-title small-title , , , btn-orange } } { small-title small-title , , , btn-orange } } { small-title small-title , , , btn-orange\n",
      "\n",
      "\n",
      "Epoch 22/100\n",
      "21/21 [==============================] - 27s 1s/step - loss: 0.9341\n",
      "\n",
      "Epoch 00022: saving model to weights/look-once-weights.hdf5\n",
      "Epoch 23/100\n",
      "21/21 [==============================] - 43s 2s/step - loss: 0.8816\n",
      "\n",
      "Epoch 00023: saving model to weights/look-once-weights.hdf5\n",
      "Epoch 24/100\n",
      "21/21 [==============================] - 46s 2s/step - loss: 0.8338\n",
      "\n",
      "Epoch 00024: saving model to weights/look-once-weights.hdf5\n",
      "Epoch 25/100\n",
      "21/21 [==============================] - 44s 2s/step - loss: 0.7856\n",
      "\n",
      "Epoch 00025: saving model to weights/look-once-weights.hdf5\n",
      "Epoch 26/100\n",
      "21/21 [==============================] - 44s 2s/step - loss: 0.7437\n",
      "\n",
      "Epoch 00026: saving model to weights/look-once-weights.hdf5\n",
      "\n",
      "Sampled:\n",
      "==============================\n",
      "header { btn-inactive , btn-inactive btn-inactive btn-inactive btn-inactive btn-inactive btn-inactive { { { small-title , text , btn-orange } } { { small-title , text , btn-orange } } { { small-title , text , btn-orange } } { { small-title , text , btn-orange } } { { small-title , text , btn-orange } } { { small-title , text , btn-orange } } { { small-title , text , btn-orange } } { { small-title , text , btn-orange } } { { small-title , text , btn-orange } } <END>\n",
      "\n",
      "\n",
      "Epoch 27/100\n",
      "21/21 [==============================] - 30s 1s/step - loss: 0.7014\n",
      "\n",
      "Epoch 00027: saving model to weights/look-once-weights.hdf5\n",
      "Epoch 28/100\n",
      "21/21 [==============================] - 43s 2s/step - loss: 0.6640\n",
      "\n",
      "Epoch 00028: saving model to weights/look-once-weights.hdf5\n",
      "Epoch 29/100\n",
      "21/21 [==============================] - 43s 2s/step - loss: 0.6214\n",
      "\n",
      "Epoch 00029: saving model to weights/look-once-weights.hdf5\n",
      "Epoch 30/100\n",
      "21/21 [==============================] - 43s 2s/step - loss: 0.5912\n",
      "\n",
      "Epoch 00030: saving model to weights/look-once-weights.hdf5\n",
      "Epoch 31/100\n",
      "21/21 [==============================] - 43s 2s/step - loss: 0.5563\n",
      "\n",
      "Epoch 00031: saving model to weights/look-once-weights.hdf5\n",
      "\n",
      "Sampled:\n",
      "==============================\n",
      "header { btn-inactive , btn-inactive , btn-inactive btn-inactive btn-inactive row { { { small-title , text , btn-orange } quadruple { small-title , text , btn-orange } quadruple { small-title , text , btn-orange } quadruple { small-title , text , btn-orange } quadruple { small-title , text , btn-orange } } { { small-title , text , btn-orange } } <END>\n",
      "\n",
      "\n",
      "Epoch 32/100\n",
      "21/21 [==============================] - 35s 2s/step - loss: 0.5216\n",
      "\n",
      "Epoch 00032: saving model to weights/look-once-weights.hdf5\n",
      "Epoch 33/100\n",
      "21/21 [==============================] - 43s 2s/step - loss: 0.4942\n",
      "\n",
      "Epoch 00033: saving model to weights/look-once-weights.hdf5\n",
      "Epoch 34/100\n",
      "21/21 [==============================] - 43s 2s/step - loss: 0.4669\n",
      "\n",
      "Epoch 00034: saving model to weights/look-once-weights.hdf5\n",
      "Epoch 35/100\n",
      "21/21 [==============================] - 44s 2s/step - loss: 0.4376\n",
      "\n",
      "Epoch 00035: saving model to weights/look-once-weights.hdf5\n",
      "Epoch 36/100\n",
      "21/21 [==============================] - 44s 2s/step - loss: 0.4153\n",
      "\n",
      "Epoch 00036: saving model to weights/look-once-weights.hdf5\n",
      "\n",
      "Sampled:\n",
      "==============================\n",
      "header { btn-inactive , btn-inactive , btn-inactive btn-inactive btn-inactive btn-inactive row { { { small-title , text , btn-orange } } row { { { small-title , text , btn-orange } } row { { { small-title , text , btn-orange } quadruple { small-title , text , btn-orange } quadruple { small-title , text , btn-orange } } row { { { small-title , text , btn-orange } } { { small-title , text , btn-orange } } <END>\n",
      "\n",
      "\n",
      "Epoch 37/100\n"
     ]
    },
    {
     "name": "stdout",
     "output_type": "stream",
     "text": [
      "21/21 [==============================] - 33s 2s/step - loss: 0.3906\n",
      "\n",
      "Epoch 00037: saving model to weights/look-once-weights.hdf5\n",
      "Epoch 38/100\n",
      "21/21 [==============================] - 43s 2s/step - loss: 0.3703\n",
      "\n",
      "Epoch 00038: saving model to weights/look-once-weights.hdf5\n",
      "Epoch 39/100\n",
      "21/21 [==============================] - 45s 2s/step - loss: 0.3461\n",
      "\n",
      "Epoch 00039: saving model to weights/look-once-weights.hdf5\n",
      "Epoch 40/100\n",
      "21/21 [==============================] - 45s 2s/step - loss: 0.3298\n",
      "\n",
      "Epoch 00040: saving model to weights/look-once-weights.hdf5\n",
      "Epoch 41/100\n",
      "21/21 [==============================] - 43s 2s/step - loss: 0.3110\n",
      "\n",
      "Epoch 00041: saving model to weights/look-once-weights.hdf5\n",
      "\n",
      "Sampled:\n",
      "==============================\n",
      "header { btn-inactive , btn-inactive , btn-inactive , btn-inactive } row { { { small-title , text , btn-orange } } row { { { small-title , text , btn-orange } quadruple { small-title , text , btn-orange } quadruple { small-title , text , btn-orange } quadruple { small-title , text , btn-orange } } row { single { small-title , text , btn-orange } } row { { { small-title , text , btn-orange } double { small-title , text , btn-orange } } <END>\n",
      "\n",
      "\n",
      "Epoch 42/100\n",
      "21/21 [==============================] - 32s 2s/step - loss: 0.2893\n",
      "\n",
      "Epoch 00042: saving model to weights/look-once-weights.hdf5\n",
      "Epoch 43/100\n",
      "21/21 [==============================] - 43s 2s/step - loss: 0.2752\n",
      "\n",
      "Epoch 00043: saving model to weights/look-once-weights.hdf5\n",
      "Epoch 44/100\n",
      "21/21 [==============================] - 44s 2s/step - loss: 0.2562\n",
      "\n",
      "Epoch 00044: saving model to weights/look-once-weights.hdf5\n",
      "Epoch 45/100\n",
      "21/21 [==============================] - 44s 2s/step - loss: 0.2418\n",
      "\n",
      "Epoch 00045: saving model to weights/look-once-weights.hdf5\n",
      "Epoch 46/100\n",
      "21/21 [==============================] - 43s 2s/step - loss: 0.2269\n",
      "\n",
      "Epoch 00046: saving model to weights/look-once-weights.hdf5\n",
      "\n",
      "Sampled:\n",
      "==============================\n",
      "header { btn-inactive , btn-inactive , btn-inactive , btn-inactive } row { { { small-title , text , btn-orange } } row { quadruple { small-title , text , btn-orange } double { small-title , text , btn-orange } quadruple { small-title , text , btn-orange } quadruple { small-title , text , btn-orange } } row { single { small-title , text , btn-orange } } row { double { small-title , text , btn-orange } double { small-title , text , btn-orange } } <END>\n",
      "\n",
      "\n",
      "Epoch 47/100\n",
      "21/21 [==============================] - 31s 1s/step - loss: 0.2141\n",
      "\n",
      "Epoch 00047: saving model to weights/look-once-weights.hdf5\n",
      "Epoch 48/100\n",
      "21/21 [==============================] - 43s 2s/step - loss: 0.2004\n",
      "\n",
      "Epoch 00048: saving model to weights/look-once-weights.hdf5\n",
      "Epoch 49/100\n",
      "21/21 [==============================] - 44s 2s/step - loss: 0.1893\n",
      "\n",
      "Epoch 00049: saving model to weights/look-once-weights.hdf5\n",
      "Epoch 50/100\n",
      "21/21 [==============================] - 44s 2s/step - loss: 0.1767\n",
      "\n",
      "Epoch 00050: saving model to weights/look-once-weights.hdf5\n",
      "Epoch 51/100\n",
      "21/21 [==============================] - 43s 2s/step - loss: 0.1671\n",
      "\n",
      "Epoch 00051: saving model to weights/look-once-weights.hdf5\n",
      "\n",
      "Sampled:\n",
      "==============================\n",
      "header { btn-inactive , btn-inactive , btn-inactive , btn-inactive } row { double { small-title , text , btn-orange } } row { quadruple { small-title , text , btn-orange } quadruple { small-title , text , btn-orange } quadruple { small-title , text , btn-orange } quadruple { small-title , text , btn-orange } } row { double { small-title , text , btn-orange } double { small-title , text , btn-orange } } <END>\n",
      "\n",
      "\n",
      "Epoch 52/100\n",
      "21/21 [==============================] - 32s 2s/step - loss: 0.1535\n",
      "\n",
      "Epoch 00052: saving model to weights/look-once-weights.hdf5\n",
      "Epoch 53/100\n",
      "21/21 [==============================] - 42s 2s/step - loss: 0.1454\n",
      "\n",
      "Epoch 00053: saving model to weights/look-once-weights.hdf5\n",
      "Epoch 54/100\n",
      "21/21 [==============================] - 44s 2s/step - loss: 0.1381\n",
      "\n",
      "Epoch 00054: saving model to weights/look-once-weights.hdf5\n",
      "Epoch 55/100\n",
      "21/21 [==============================] - 43s 2s/step - loss: 0.1281\n",
      "\n",
      "Epoch 00055: saving model to weights/look-once-weights.hdf5\n",
      "Epoch 56/100\n",
      "21/21 [==============================] - 43s 2s/step - loss: 0.1197\n",
      "\n",
      "Epoch 00056: saving model to weights/look-once-weights.hdf5\n",
      "\n",
      "Sampled:\n",
      "==============================\n",
      "header { btn-inactive , btn-inactive , btn-inactive , btn-inactive } row { double { small-title , text , btn-orange } double { small-title , text , btn-orange } } row { quadruple { small-title , text , btn-orange } quadruple { small-title , text , btn-orange } quadruple { small-title , text , btn-orange } quadruple { small-title , text , btn-orange } } row { single { small-title , text , btn-orange } } <END>\n",
      "\n",
      "\n",
      "Epoch 57/100\n",
      "21/21 [==============================] - 33s 2s/step - loss: 0.1158\n",
      "\n",
      "Epoch 00057: saving model to weights/look-once-weights.hdf5\n",
      "Epoch 58/100\n",
      "21/21 [==============================] - 44s 2s/step - loss: 0.1088\n",
      "\n",
      "Epoch 00058: saving model to weights/look-once-weights.hdf5\n",
      "Epoch 59/100\n",
      "21/21 [==============================] - 44s 2s/step - loss: 0.1028\n",
      "\n",
      "Epoch 00059: saving model to weights/look-once-weights.hdf5\n",
      "Epoch 60/100\n",
      "21/21 [==============================] - 43s 2s/step - loss: 0.1028\n",
      "\n",
      "Epoch 00060: saving model to weights/look-once-weights.hdf5\n",
      "Epoch 61/100\n",
      "21/21 [==============================] - 43s 2s/step - loss: 0.0940\n",
      "\n",
      "Epoch 00061: saving model to weights/look-once-weights.hdf5\n",
      "\n",
      "Sampled:\n",
      "==============================\n",
      "header { btn-inactive , btn-inactive , btn-inactive , btn-inactive } row { double { small-title , text , btn-orange } double { small-title , text , btn-orange } } row { single { small-title , text , btn-orange } } row { quadruple { small-title , text , btn-orange } quadruple { small-title , text , btn-orange } quadruple { small-title , text , btn-orange } quadruple { small-title , text , btn-orange } } <END>\n",
      "\n",
      "\n",
      "Epoch 62/100\n",
      "21/21 [==============================] - 32s 2s/step - loss: 0.0918\n",
      "\n",
      "Epoch 00062: saving model to weights/look-once-weights.hdf5\n",
      "Epoch 63/100\n",
      "21/21 [==============================] - 43s 2s/step - loss: 0.0903\n",
      "\n",
      "Epoch 00063: saving model to weights/look-once-weights.hdf5\n",
      "Epoch 64/100\n",
      "21/21 [==============================] - 44s 2s/step - loss: 0.0855\n",
      "\n",
      "Epoch 00064: saving model to weights/look-once-weights.hdf5\n",
      "Epoch 65/100\n",
      "21/21 [==============================] - 44s 2s/step - loss: 0.0850\n",
      "\n",
      "Epoch 00065: saving model to weights/look-once-weights.hdf5\n",
      "Epoch 66/100\n",
      "21/21 [==============================] - 43s 2s/step - loss: 0.0804\n",
      "\n",
      "Epoch 00066: saving model to weights/look-once-weights.hdf5\n",
      "\n",
      "Sampled:\n",
      "==============================\n",
      "header { btn-inactive , btn-inactive , btn-inactive , btn-inactive } row { single { small-title , text , btn-orange } } row { double { small-title , text , btn-orange } double { small-title , text , btn-orange } } row { quadruple { small-title , text , btn-orange } quadruple { small-title , text , btn-orange } quadruple { small-title , text , btn-orange } quadruple { small-title , text , btn-orange } } <END>\n",
      "\n",
      "\n",
      "Epoch 67/100\n",
      "21/21 [==============================] - 32s 2s/step - loss: 0.0786\n",
      "\n",
      "Epoch 00067: saving model to weights/look-once-weights.hdf5\n",
      "Epoch 68/100\n",
      "21/21 [==============================] - 42s 2s/step - loss: 0.0791\n",
      "\n",
      "Epoch 00068: saving model to weights/look-once-weights.hdf5\n",
      "Epoch 69/100\n",
      "21/21 [==============================] - 44s 2s/step - loss: 0.0776\n",
      "\n",
      "Epoch 00069: saving model to weights/look-once-weights.hdf5\n",
      "Epoch 70/100\n",
      "21/21 [==============================] - 42s 2s/step - loss: 0.0749\n",
      "\n",
      "Epoch 00070: saving model to weights/look-once-weights.hdf5\n",
      "Epoch 71/100\n",
      "21/21 [==============================] - 45s 2s/step - loss: 0.0752\n",
      "\n",
      "Epoch 00071: saving model to weights/look-once-weights.hdf5\n",
      "\n",
      "Sampled:\n",
      "==============================\n",
      "header { btn-inactive , btn-inactive , btn-inactive , btn-inactive , btn-inactive } row { double { small-title , text , btn-orange } double { small-title , text , btn-orange } } row { quadruple { small-title , text , btn-orange } quadruple { small-title , text , btn-orange } quadruple { small-title , text , btn-orange } quadruple { small-title , text , btn-orange } } row { single { small-title , text , btn-orange } } <END>\n",
      "\n",
      "\n",
      "Epoch 72/100\n"
     ]
    },
    {
     "name": "stdout",
     "output_type": "stream",
     "text": [
      "21/21 [==============================] - 32s 2s/step - loss: 0.0736\n",
      "\n",
      "Epoch 00072: saving model to weights/look-once-weights.hdf5\n",
      "Epoch 73/100\n",
      "21/21 [==============================] - 42s 2s/step - loss: 0.0733\n",
      "\n",
      "Epoch 00073: saving model to weights/look-once-weights.hdf5\n",
      "Epoch 74/100\n",
      "21/21 [==============================] - 43s 2s/step - loss: 0.0711\n",
      "\n",
      "Epoch 00074: saving model to weights/look-once-weights.hdf5\n",
      "Epoch 75/100\n",
      "21/21 [==============================] - 42s 2s/step - loss: 0.0716\n",
      "\n",
      "Epoch 00075: saving model to weights/look-once-weights.hdf5\n",
      "Epoch 76/100\n",
      "21/21 [==============================] - 44s 2s/step - loss: 0.0683\n",
      "\n",
      "Epoch 00076: saving model to weights/look-once-weights.hdf5\n",
      "\n",
      "Sampled:\n",
      "==============================\n",
      "header { btn-inactive , btn-inactive , btn-inactive , btn-inactive , btn-inactive } row { quadruple { small-title , text , btn-orange } quadruple { small-title , text , btn-orange } quadruple { small-title , text , btn-orange } quadruple { small-title , text , btn-orange } } row { double { small-title , text , btn-orange } double { small-title , text , btn-orange } } row { single { small-title , text , btn-orange } } <END>\n",
      "\n",
      "\n",
      "Epoch 77/100\n",
      "21/21 [==============================] - 31s 1s/step - loss: 0.0656\n",
      "\n",
      "Epoch 00077: saving model to weights/look-once-weights.hdf5\n",
      "Epoch 78/100\n",
      "21/21 [==============================] - 44s 2s/step - loss: 0.0625\n",
      "\n",
      "Epoch 00078: saving model to weights/look-once-weights.hdf5\n",
      "Epoch 79/100\n",
      "21/21 [==============================] - 44s 2s/step - loss: 0.0585\n",
      "\n",
      "Epoch 00079: saving model to weights/look-once-weights.hdf5\n",
      "Epoch 80/100\n",
      "21/21 [==============================] - 43s 2s/step - loss: 0.0594\n",
      "\n",
      "Epoch 00080: saving model to weights/look-once-weights.hdf5\n",
      "Epoch 81/100\n",
      "21/21 [==============================] - 44s 2s/step - loss: 0.0551\n",
      "\n",
      "Epoch 00081: saving model to weights/look-once-weights.hdf5\n",
      "\n",
      "Sampled:\n",
      "==============================\n",
      "header { btn-inactive , btn-inactive , btn-inactive , btn-inactive } row { quadruple { small-title , text , btn-orange } quadruple { small-title , text , btn-orange } quadruple { small-title , text , btn-orange } quadruple { small-title , text , btn-orange } } row { double { small-title , text , btn-orange } double { small-title , text , btn-orange } } <END>\n",
      "\n",
      "\n",
      "Epoch 82/100\n",
      "21/21 [==============================] - 34s 2s/step - loss: 0.0531\n",
      "\n",
      "Epoch 00082: saving model to weights/look-once-weights.hdf5\n",
      "Epoch 83/100\n",
      "21/21 [==============================] - 42s 2s/step - loss: 0.0527\n",
      "\n",
      "Epoch 00083: saving model to weights/look-once-weights.hdf5\n",
      "Epoch 84/100\n",
      "21/21 [==============================] - 45s 2s/step - loss: 0.0477\n",
      "\n",
      "Epoch 00084: saving model to weights/look-once-weights.hdf5\n",
      "Epoch 85/100\n",
      "21/21 [==============================] - 42s 2s/step - loss: 0.0481\n",
      "\n",
      "Epoch 00085: saving model to weights/look-once-weights.hdf5\n",
      "Epoch 86/100\n",
      "21/21 [==============================] - 46s 2s/step - loss: 0.0463\n",
      "\n",
      "Epoch 00086: saving model to weights/look-once-weights.hdf5\n",
      "\n",
      "Sampled:\n",
      "==============================\n",
      "header { btn-inactive , btn-inactive , btn-inactive , btn-inactive } row { single { small-title , text , btn-orange } } row { double { small-title , text , btn-orange } double { small-title , text , btn-orange } } row { quadruple { small-title , text , btn-orange } quadruple { small-title , text , btn-orange } quadruple { small-title , text , btn-orange } quadruple { small-title , text , btn-orange } } <END>\n",
      "\n",
      "\n",
      "Epoch 87/100\n",
      "21/21 [==============================] - 32s 2s/step - loss: 0.0448\n",
      "\n",
      "Epoch 00087: saving model to weights/look-once-weights.hdf5\n",
      "Epoch 88/100\n",
      "21/21 [==============================] - 43s 2s/step - loss: 0.0443\n",
      "\n",
      "Epoch 00088: saving model to weights/look-once-weights.hdf5\n",
      "Epoch 89/100\n",
      "21/21 [==============================] - 45s 2s/step - loss: 0.0414\n",
      "\n",
      "Epoch 00089: saving model to weights/look-once-weights.hdf5\n",
      "Epoch 90/100\n",
      "21/21 [==============================] - 42s 2s/step - loss: 0.0427\n",
      "\n",
      "Epoch 00090: saving model to weights/look-once-weights.hdf5\n",
      "Epoch 91/100\n",
      "21/21 [==============================] - 44s 2s/step - loss: 0.0391\n",
      "\n",
      "Epoch 00091: saving model to weights/look-once-weights.hdf5\n",
      "\n",
      "Sampled:\n",
      "==============================\n",
      "header { btn-inactive , btn-inactive , btn-inactive , btn-inactive , btn-inactive } row { quadruple { small-title , text , btn-orange } quadruple { small-title , text , btn-orange } quadruple { small-title , text , btn-orange } quadruple { small-title , text , btn-orange } } row { double { small-title , text , btn-orange } double { small-title , text , btn-orange } } row { single { small-title , text , btn-orange } } <END>\n",
      "\n",
      "\n",
      "Epoch 92/100\n",
      "21/21 [==============================] - 32s 2s/step - loss: 0.0414\n",
      "\n",
      "Epoch 00092: saving model to weights/look-once-weights.hdf5\n",
      "Epoch 93/100\n",
      "21/21 [==============================] - 43s 2s/step - loss: 0.0397\n",
      "\n",
      "Epoch 00093: saving model to weights/look-once-weights.hdf5\n",
      "Epoch 94/100\n",
      "21/21 [==============================] - 43s 2s/step - loss: 0.0389\n",
      "\n",
      "Epoch 00094: saving model to weights/look-once-weights.hdf5\n",
      "Epoch 95/100\n",
      "21/21 [==============================] - 42s 2s/step - loss: 0.0351\n",
      "\n",
      "Epoch 00095: saving model to weights/look-once-weights.hdf5\n",
      "Epoch 96/100\n",
      "21/21 [==============================] - 43s 2s/step - loss: 0.0365\n",
      "\n",
      "Epoch 00096: saving model to weights/look-once-weights.hdf5\n",
      "\n",
      "Sampled:\n",
      "==============================\n",
      "header { btn-inactive , btn-inactive , btn-inactive , btn-inactive , btn-inactive } row { single { small-title , text , btn-orange } } row { double { small-title , text , btn-orange } double { small-title , text , btn-orange } } row { quadruple { small-title , text , btn-orange } quadruple { small-title , text , btn-orange } quadruple { small-title , text , btn-orange } quadruple { small-title , text , btn-orange } } <END>\n",
      "\n",
      "\n",
      "Epoch 97/100\n",
      "21/21 [==============================] - 33s 2s/step - loss: 0.0336\n",
      "\n",
      "Epoch 00097: saving model to weights/look-once-weights.hdf5\n",
      "Epoch 98/100\n",
      "21/21 [==============================] - 45s 2s/step - loss: 0.0323\n",
      "\n",
      "Epoch 00098: saving model to weights/look-once-weights.hdf5\n",
      "Epoch 99/100\n",
      "21/21 [==============================] - 46s 2s/step - loss: 0.0307\n",
      "\n",
      "Epoch 00099: saving model to weights/look-once-weights.hdf5\n",
      "Epoch 100/100\n",
      "21/21 [==============================] - 45s 2s/step - loss: 0.0293\n",
      "\n",
      "Epoch 00100: saving model to weights/look-once-weights.hdf5\n"
     ]
    },
    {
     "data": {
      "text/plain": [
       "<keras.callbacks.History at 0x7fc9d0703ef0>"
      ]
     },
     "execution_count": 40,
     "metadata": {},
     "output_type": "execute_result"
    }
   ],
   "source": [
    "batch_size = 64\n",
    "steps = len(train_sketch_id_code_map) // batch_size\n",
    "\n",
    "model.fit_generator(\n",
    "    data_generator(train_sketch_id_code_map, word2idx, batch_size),\n",
    "    steps_per_epoch=steps,\n",
    "    epochs=100,\n",
    "    verbose=True,\n",
    "    callbacks=callbacks,\n",
    ")"
   ]
  },
  {
   "cell_type": "markdown",
   "metadata": {},
   "source": [
    "***"
   ]
  },
  {
   "cell_type": "markdown",
   "metadata": {},
   "source": [
    "## Dev"
   ]
  },
  {
   "cell_type": "code",
   "execution_count": 41,
   "metadata": {},
   "outputs": [],
   "source": [
    "from nltk.translate import bleu_score"
   ]
  },
  {
   "cell_type": "code",
   "execution_count": 42,
   "metadata": {},
   "outputs": [],
   "source": [
    "def evaluate(path_to_img=None, reference=None):\n",
    "    if path_to_img is None:\n",
    "        sketch_id = np.random.choice(list(train_sketch_id_code_map.keys()))\n",
    "        sketch = get_preprocessed_img(PATH_TO_DATA+sketch_id+'.png')\n",
    "        reference = [sketch_id_code_map[sketch_id]]\n",
    "        \n",
    "    else:\n",
    "        sketch = get_preprocessed_img(path_to_img)\n",
    "\n",
    "    hypothesis = greedy_search_inference(sketch)\n",
    "    \n",
    "    print('Greedy Search Hypothesis:\\n{}'.format(hypothesis))\n",
    "    print()\n",
    "    \n",
    "    print('Reference:\\n{}'.format(reference[0]))\n",
    "    print()\n",
    "    \n",
    "    print('BLEU score: {}'.format(\n",
    "        bleu_score.sentence_bleu(reference, hypothesis)\n",
    "    ))\n",
    "        \n",
    "    plt.imshow(sketch);"
   ]
  },
  {
   "cell_type": "code",
   "execution_count": 43,
   "metadata": {},
   "outputs": [
    {
     "name": "stdout",
     "output_type": "stream",
     "text": [
      "Greedy Search Hypothesis:\n",
      "header { btn-inactive , btn-inactive , btn-inactive , btn-inactive } row { double { small-title , text , btn-orange } double { small-title , text , btn-orange } } row { single { small-title , text , btn-orange } } row { quadruple { small-title , text , btn-orange } quadruple { small-title , text , btn-orange } quadruple { small-title , text , btn-orange } quadruple { small-title , text , btn-orange } } <END>\n",
      "\n",
      "Reference:\n",
      "header {\n",
      "btn-inactive, btn-inactive, btn-inactive, btn-inactive\n",
      "}\n",
      "row {\n",
      "double {\n",
      "small-title, text, btn-orange\n",
      "}\n",
      "double {\n",
      "small-title, text, btn-orange\n",
      "}\n",
      "}\n",
      "row {\n",
      "single {\n",
      "small-title, text, btn-orange\n",
      "}\n",
      "}\n",
      "row {\n",
      "quadruple {\n",
      "small-title, text, btn-orange\n",
      "}\n",
      "quadruple {\n",
      "small-title, text, btn-orange\n",
      "}\n",
      "quadruple {\n",
      "small-title, text, btn-orange\n",
      "}\n",
      "quadruple {\n",
      "small-title, text, btn-orange\n",
      "}\n",
      "}\n",
      "\n",
      "\n",
      "BLEU score: 0.7167043727155006\n"
     ]
    },
    {
     "data": {
      "image/png": "[encoded data removed]",
      "text/plain": [
       "<Figure size 432x288 with 1 Axes>"
      ]
     },
     "metadata": {
      "needs_background": "light"
     },
     "output_type": "display_data"
    }
   ],
   "source": [
    "evaluate()"
   ]
  },
  {
   "cell_type": "code",
   "execution_count": 44,
   "metadata": {},
   "outputs": [
    {
     "name": "stdout",
     "output_type": "stream",
     "text": [
      "Greedy Search Hypothesis:\n",
      "header { btn-inactive , btn-inactive , btn-inactive } row { quadruple { small-title , text , btn-orange } quadruple { small-title , text , btn-orange } quadruple { small-title , text , btn-orange } } row { single { small-title , text , btn-orange } } row { double { small-title , text , btn-orange } double { small-title , text , btn-orange } } <END>\n",
      "\n",
      "Reference:\n",
      "header {\n",
      "btn-inactive, btn-inactive, btn-inactive\n",
      "}\n",
      "row {\n",
      "quadruple {\n",
      "small-title, text, btn-orange\n",
      "}\n",
      "quadruple {\n",
      "small-title, text, btn-orange\n",
      "}\n",
      "quadruple {\n",
      "small-title, text, btn-orange\n",
      "}\n",
      "quadruple {\n",
      "small-title, text, btn-orange\n",
      "}\n",
      "}\n",
      "row {\n",
      "single {\n",
      "small-title, text, btn-orange\n",
      "}\n",
      "}\n",
      "row {\n",
      "double {\n",
      "small-title, text, btn-orange\n",
      "}\n",
      "double {\n",
      "small-title, text, btn-orange\n",
      "}\n",
      "}\n",
      "\n",
      "\n",
      "BLEU score: 0.665298106084537\n"
     ]
    },
    {
     "data": {
      "image/png": "[encoded data removed]",
      "text/plain": [
       "<Figure size 432x288 with 1 Axes>"
      ]
     },
     "metadata": {
      "needs_background": "light"
     },
     "output_type": "display_data"
    }
   ],
   "source": [
    "evaluate()"
   ]
  },
  {
   "cell_type": "code",
   "execution_count": 45,
   "metadata": {},
   "outputs": [
    {
     "name": "stdout",
     "output_type": "stream",
     "text": [
      "Greedy Search Hypothesis:\n",
      "header { btn-inactive , btn-inactive , btn-inactive , btn-inactive , btn-inactive } row { double { small-title , text , btn-orange } double { small-title , text , btn-orange } } row { single { small-title , text , btn-orange } } row { quadruple { small-title , text , btn-orange } quadruple { small-title , text , btn-orange } quadruple { small-title , text , btn-orange } quadruple { small-title , text , btn-orange } } <END>\n",
      "\n",
      "Reference:\n",
      "header {\n",
      "btn-inactive, btn-inactive, btn-inactive, btn-inactive, btn-inactive\n",
      "}\n",
      "row {\n",
      "double {\n",
      "small-title, text, btn-orange\n",
      "}\n",
      "double {\n",
      "small-title, text, btn-orange\n",
      "}\n",
      "}\n",
      "row {\n",
      "single {\n",
      "small-title, text, btn-orange\n",
      "}\n",
      "}\n",
      "row {\n",
      "quadruple {\n",
      "small-title, text, btn-orange\n",
      "}\n",
      "quadruple {\n",
      "small-title, text, btn-orange\n",
      "}\n",
      "quadruple {\n",
      "small-title, text, btn-orange\n",
      "}\n",
      "quadruple {\n",
      "small-title, text, btn-orange\n",
      "}\n",
      "}\n",
      "\n",
      "\n",
      "BLEU score: 0.7207562420146106\n"
     ]
    },
    {
     "data": {
      "image/png": "[encoded data removed]",
      "text/plain": [
       "<Figure size 432x288 with 1 Axes>"
      ]
     },
     "metadata": {
      "needs_background": "light"
     },
     "output_type": "display_data"
    }
   ],
   "source": [
    "evaluate()"
   ]
  },
  {
   "cell_type": "code",
   "execution_count": 46,
   "metadata": {},
   "outputs": [
    {
     "name": "stdout",
     "output_type": "stream",
     "text": [
      "Greedy Search Hypothesis:\n",
      "header { btn-inactive , btn-inactive , btn-inactive } row { quadruple { small-title , text , btn-orange } quadruple { small-title , text , btn-orange } quadruple { small-title , text , btn-orange } } row { single { small-title , text , btn-orange } } row { double { small-title , text , btn-orange } double { small-title , text , btn-orange } } <END>\n",
      "\n",
      "Reference:\n",
      "header {\n",
      "btn-inactive, btn-inactive, btn-inactive\n",
      "}\n",
      "row {\n",
      "quadruple {\n",
      "small-title, text, btn-orange\n",
      "}\n",
      "quadruple {\n",
      "small-title, text, btn-orange\n",
      "}\n",
      "quadruple {\n",
      "small-title, text, btn-orange\n",
      "}\n",
      "quadruple {\n",
      "small-title, text, btn-orange\n",
      "}\n",
      "}\n",
      "row {\n",
      "single {\n",
      "small-title, text, btn-orange\n",
      "}\n",
      "}\n",
      "row {\n",
      "double {\n",
      "small-title, text, btn-orange\n",
      "}\n",
      "double {\n",
      "small-title, text, btn-orange\n",
      "}\n",
      "}\n",
      "\n",
      "\n",
      "BLEU score: 0.665298106084537\n"
     ]
    },
    {
     "data": {
      "image/png": "[encoded data removed]",
      "text/plain": [
       "<Figure size 432x288 with 1 Axes>"
      ]
     },
     "metadata": {
      "needs_background": "light"
     },
     "output_type": "display_data"
    }
   ],
   "source": [
    "evaluate()"
   ]
  },
  {
   "cell_type": "code",
   "execution_count": null,
   "metadata": {},
   "outputs": [],
   "source": []
  }
 ],
 "metadata": {
  "kernelspec": {
   "display_name": "Python 3",
   "language": "python",
   "name": "python3"
  },
  "language_info": {
   "codemirror_mode": {
    "name": "ipython",
    "version": 3
   },
   "file_extension": ".py",
   "mimetype": "text/x-python",
   "name": "python",
   "nbconvert_exporter": "python",
   "pygments_lexer": "ipython3",
   "version": "3.5.2"
  },
  "varInspector": {
   "cols": {
    "lenName": 16,
    "lenType": 16,
    "lenVar": 40
   },
   "kernels_config": {
    "python": {
     "delete_cmd_postfix": "",
     "delete_cmd_prefix": "del ",
     "library": "var_list.py",
     "varRefreshCmd": "print(var_dic_list())"
    },
    "r": {
     "delete_cmd_postfix": ") ",
     "delete_cmd_prefix": "rm(",
     "library": "var_list.r",
     "varRefreshCmd": "cat(var_dic_list()) "
    }
   },
   "position": {
    "height": "144px",
    "left": "1310px",
    "right": "20px",
    "top": "119px",
    "width": "350px"
   },
   "types_to_exclude": [
    "module",
    "function",
    "builtin_function_or_method",
    "instance",
    "_Feature"
   ],
   "window_display": false
  }
 },
 "nbformat": 4,
 "nbformat_minor": 2
}
