{
 "cells": [
  {
   "cell_type": "code",
   "execution_count": 1,
   "metadata": {
    "ExecuteTime": {
     "end_time": "2019-03-28T00:36:51.360271Z",
     "start_time": "2019-03-28T00:36:50.374591Z"
    }
   },
   "outputs": [
    {
     "name": "stderr",
     "output_type": "stream",
     "text": [
      "Using TensorFlow backend.\n"
     ]
    }
   ],
   "source": [
    "import numpy as np\n",
    "\n",
    "import matplotlib.pyplot as plt\n",
    "%matplotlib inline\n",
    "\n",
    "# Data Preprocessing\n",
    "from keras.utils import to_categorical\n",
    "from keras.preprocessing.sequence import pad_sequences\n",
    "\n",
    "# Models\n",
    "from keras import Model\n",
    "from keras.callbacks import ReduceLROnPlateau, ModelCheckpoint, LambdaCallback\n",
    "from keras.layers import (Input, Embedding, Dropout, LSTM, Conv2D, MaxPool2D,\n",
    "                          Dense, Activation, RepeatVector, Flatten, Concatenate)\n",
    "from keras.optimizers import Adam, RMSprop\n",
    "from keras.utils import plot_model"
   ]
  },
  {
   "cell_type": "code",
   "execution_count": 2,
   "metadata": {
    "ExecuteTime": {
     "end_time": "2019-03-28T00:36:51.403162Z",
     "start_time": "2019-03-28T00:36:51.386074Z"
    }
   },
   "outputs": [
    {
     "data": {
      "text/plain": [
       "['/job:localhost/replica:0/task:0/device:GPU:0']"
      ]
     },
     "execution_count": 2,
     "metadata": {},
     "output_type": "execute_result"
    }
   ],
   "source": [
    "import keras.backend as K\n",
    "K.tensorflow_backend._get_available_gpus()"
   ]
  },
  {
   "cell_type": "markdown",
   "metadata": {},
   "source": [
    "***"
   ]
  },
  {
   "cell_type": "code",
   "execution_count": 3,
   "metadata": {
    "ExecuteTime": {
     "end_time": "2019-03-28T00:36:51.489109Z",
     "start_time": "2019-03-28T00:36:51.431418Z"
    }
   },
   "outputs": [],
   "source": [
    "from utils.data import PATH_TO_DATA, GUIS_CODE, GUIS_SKETCH\n",
    "from utils.data.image import get_preprocessed_img\n",
    "from utils.data.sequence import tokenize_dsl_code\n",
    "from utils.data.sets import (get_sketch_id_code_pair, init_sketch_id_code_map,\n",
    "                             load_vocabulary, init_word2idx, init_idx2word)"
   ]
  },
  {
   "cell_type": "markdown",
   "metadata": {},
   "source": [
    "***"
   ]
  },
  {
   "cell_type": "code",
   "execution_count": 4,
   "metadata": {
    "ExecuteTime": {
     "end_time": "2019-03-28T00:36:51.977627Z",
     "start_time": "2019-03-28T00:36:51.975007Z"
    }
   },
   "outputs": [],
   "source": [
    "demo_sketch_id = '00150311-A7AE-4804-8B7D-9273687B4FC0'"
   ]
  },
  {
   "cell_type": "markdown",
   "metadata": {},
   "source": [
    "### Init Sketch to DSL Code map"
   ]
  },
  {
   "cell_type": "code",
   "execution_count": 5,
   "metadata": {
    "ExecuteTime": {
     "end_time": "2019-03-28T00:36:52.679980Z",
     "start_time": "2019-03-28T00:36:52.589841Z"
    }
   },
   "outputs": [
    {
     "name": "stdout",
     "output_type": "stream",
     "text": [
      "header {\n",
      "btn-inactive, btn-inactive, btn-inactive, btn-inactive\n",
      "}\n",
      "row {\n",
      "single {\n",
      "small-title, text, btn-orange\n",
      "}\n",
      "}\n",
      "row {\n",
      "double {\n",
      "small-title, text, btn-orange\n",
      "}\n",
      "double {\n",
      "small-title, text, btn-orange\n",
      "}\n",
      "}\n",
      "row {\n",
      "double {\n",
      "small-title, text, btn-orange\n",
      "}\n",
      "double {\n",
      "small-title, text, btn-orange\n",
      "}\n",
      "}\n",
      "\n"
     ]
    }
   ],
   "source": [
    "sketch_id_code_map = init_sketch_id_code_map(GUIS_CODE)\n",
    "print(sketch_id_code_map[demo_sketch_id])"
   ]
  },
  {
   "cell_type": "markdown",
   "metadata": {},
   "source": [
    "### Load / Show the Sketch"
   ]
  },
  {
   "cell_type": "code",
   "execution_count": 6,
   "metadata": {
    "ExecuteTime": {
     "end_time": "2019-03-28T00:36:53.210686Z",
     "start_time": "2019-03-28T00:36:53.025581Z"
    }
   },
   "outputs": [
    {
     "data": {
      "image/png": "[encoded data removed]",
      "text/plain": [
       "<Figure size 432x288 with 1 Axes>"
      ]
     },
     "metadata": {
      "needs_background": "light"
     },
     "output_type": "display_data"
    }
   ],
   "source": [
    "image = get_preprocessed_img(PATH_TO_DATA+demo_sketch_id+'.png')\n",
    "plt.imshow(image);"
   ]
  },
  {
   "cell_type": "markdown",
   "metadata": {},
   "source": [
    "***"
   ]
  },
  {
   "cell_type": "markdown",
   "metadata": {},
   "source": [
    "## Create a Vocabulary"
   ]
  },
  {
   "cell_type": "code",
   "execution_count": 7,
   "metadata": {
    "ExecuteTime": {
     "end_time": "2019-03-28T00:36:53.692315Z",
     "start_time": "2019-03-28T00:36:53.689132Z"
    }
   },
   "outputs": [],
   "source": [
    "vocabulary = load_vocabulary('../vocabulary.txt')"
   ]
  },
  {
   "cell_type": "code",
   "execution_count": 8,
   "metadata": {
    "ExecuteTime": {
     "end_time": "2019-03-28T00:36:53.900509Z",
     "start_time": "2019-03-28T00:36:53.896685Z"
    }
   },
   "outputs": [
    {
     "data": {
      "text/plain": [
       "18"
      ]
     },
     "execution_count": 8,
     "metadata": {},
     "output_type": "execute_result"
    }
   ],
   "source": [
    "len(vocabulary)"
   ]
  },
  {
   "cell_type": "markdown",
   "metadata": {},
   "source": [
    "### Word2Idx, Idx2Word maps"
   ]
  },
  {
   "cell_type": "code",
   "execution_count": 9,
   "metadata": {
    "ExecuteTime": {
     "end_time": "2019-03-28T00:36:54.316392Z",
     "start_time": "2019-03-28T00:36:54.313445Z"
    }
   },
   "outputs": [],
   "source": [
    "word2idx = init_word2idx(vocabulary)\n",
    "idx2word = init_idx2word(vocabulary)"
   ]
  },
  {
   "cell_type": "code",
   "execution_count": 10,
   "metadata": {
    "ExecuteTime": {
     "end_time": "2019-03-28T00:36:54.471293Z",
     "start_time": "2019-03-28T00:36:54.467438Z"
    }
   },
   "outputs": [
    {
     "data": {
      "text/plain": [
       "{',': 1,\n",
       " '0': 0,\n",
       " '<END>': 16,\n",
       " '<START>': 13,\n",
       " 'btn-active': 15,\n",
       " 'btn-green': 10,\n",
       " 'btn-inactive': 8,\n",
       " 'btn-orange': 9,\n",
       " 'btn-red': 11,\n",
       " 'double': 12,\n",
       " 'header': 14,\n",
       " 'quadruple': 6,\n",
       " 'row': 7,\n",
       " 'single': 17,\n",
       " 'small-title': 4,\n",
       " 'text': 5,\n",
       " '{': 2,\n",
       " '}': 3}"
      ]
     },
     "execution_count": 10,
     "metadata": {},
     "output_type": "execute_result"
    }
   ],
   "source": [
    "word2idx"
   ]
  },
  {
   "cell_type": "code",
   "execution_count": 11,
   "metadata": {
    "ExecuteTime": {
     "end_time": "2019-03-28T00:36:54.614583Z",
     "start_time": "2019-03-28T00:36:54.610549Z"
    },
    "scrolled": true
   },
   "outputs": [
    {
     "data": {
      "text/plain": [
       "{0: '0',\n",
       " 1: ',',\n",
       " 2: '{',\n",
       " 3: '}',\n",
       " 4: 'small-title',\n",
       " 5: 'text',\n",
       " 6: 'quadruple',\n",
       " 7: 'row',\n",
       " 8: 'btn-inactive',\n",
       " 9: 'btn-orange',\n",
       " 10: 'btn-green',\n",
       " 11: 'btn-red',\n",
       " 12: 'double',\n",
       " 13: '<START>',\n",
       " 14: 'header',\n",
       " 15: 'btn-active',\n",
       " 16: '<END>',\n",
       " 17: 'single'}"
      ]
     },
     "execution_count": 11,
     "metadata": {},
     "output_type": "execute_result"
    }
   ],
   "source": [
    "idx2word"
   ]
  },
  {
   "cell_type": "markdown",
   "metadata": {},
   "source": [
    "***"
   ]
  },
  {
   "cell_type": "markdown",
   "metadata": {},
   "source": [
    "## Max DSL Code Length"
   ]
  },
  {
   "cell_type": "code",
   "execution_count": 12,
   "metadata": {
    "ExecuteTime": {
     "end_time": "2019-03-28T00:36:55.285287Z",
     "start_time": "2019-03-28T00:36:55.281955Z"
    }
   },
   "outputs": [
    {
     "name": "stdout",
     "output_type": "stream",
     "text": [
      "Total number of DSL Codes: 1700\n"
     ]
    }
   ],
   "source": [
    "print('Total number of DSL Codes: {}'.format(len(sketch_id_code_map.values())))"
   ]
  },
  {
   "cell_type": "code",
   "execution_count": 13,
   "metadata": {
    "ExecuteTime": {
     "end_time": "2019-03-28T00:36:55.630774Z",
     "start_time": "2019-03-28T00:36:55.601735Z"
    }
   },
   "outputs": [
    {
     "name": "stdout",
     "output_type": "stream",
     "text": [
      "Longes code:\n",
      "==============================\n",
      "\n",
      "header {\n",
      "btn-inactive, btn-inactive, btn-inactive, btn-inactive\n",
      "}\n",
      "row {\n",
      "quadruple {\n",
      "small-title, text, btn-orange\n",
      "}\n",
      "quadruple {\n",
      "small-title, text, btn-orange\n",
      "}\n",
      "quadruple {\n",
      "small-title, text, btn-orange\n",
      "}\n",
      "quadruple {\n",
      "small-title, text, btn-orange\n",
      "}\n",
      "}\n",
      "row {\n",
      "quadruple {\n",
      "small-title, text, btn-orange\n",
      "}\n",
      "quadruple {\n",
      "small-title, text, btn-orange\n",
      "}\n",
      "quadruple {\n",
      "small-title, text, btn-orange\n",
      "}\n",
      "quadruple {\n",
      "small-title, text, btn-orange\n",
      "}\n",
      "}\n",
      "row {\n",
      "quadruple {\n",
      "small-title, text, btn-orange\n",
      "}\n",
      "quadruple {\n",
      "small-title, text, btn-orange\n",
      "}\n",
      "quadruple {\n",
      "small-title, text, btn-orange\n",
      "}\n",
      "quadruple {\n",
      "small-title, text, btn-orange\n",
      "}\n",
      "}\n",
      "\n"
     ]
    }
   ],
   "source": [
    "longets_code = max(\n",
    "    sketch_id_code_map.values(), key=lambda x: len(tokenize_dsl_code(x)))\n",
    "\n",
    "print('Longes code:')\n",
    "print('=' * 30)\n",
    "print()\n",
    "print(longets_code)"
   ]
  },
  {
   "cell_type": "code",
   "execution_count": 14,
   "metadata": {
    "ExecuteTime": {
     "end_time": "2019-03-28T00:36:56.105769Z",
     "start_time": "2019-03-28T00:36:56.102042Z"
    }
   },
   "outputs": [
    {
     "name": "stdout",
     "output_type": "stream",
     "text": [
      "Max DSL Code Length: 117\n"
     ]
    }
   ],
   "source": [
    "max_code_length = len(tokenize_dsl_code(longets_code)) + 2\n",
    "\n",
    "print('Max DSL Code Length: {}'.format(max_code_length))"
   ]
  },
  {
   "cell_type": "markdown",
   "metadata": {},
   "source": [
    "***"
   ]
  },
  {
   "cell_type": "markdown",
   "metadata": {},
   "source": [
    "## Train/Dev/Test split"
   ]
  },
  {
   "cell_type": "code",
   "execution_count": 15,
   "metadata": {
    "ExecuteTime": {
     "end_time": "2019-03-28T00:36:57.073414Z",
     "start_time": "2019-03-28T00:36:57.069658Z"
    }
   },
   "outputs": [
    {
     "data": {
      "text/plain": [
       "1700"
      ]
     },
     "execution_count": 15,
     "metadata": {},
     "output_type": "execute_result"
    }
   ],
   "source": [
    "len(sketch_id_code_map)"
   ]
  },
  {
   "cell_type": "code",
   "execution_count": 16,
   "metadata": {
    "ExecuteTime": {
     "end_time": "2019-03-28T00:36:57.456524Z",
     "start_time": "2019-03-28T00:36:57.453657Z"
    }
   },
   "outputs": [],
   "source": [
    "SPLIT = (.8, .1, .1)"
   ]
  },
  {
   "cell_type": "code",
   "execution_count": 17,
   "metadata": {
    "ExecuteTime": {
     "end_time": "2019-03-28T00:36:57.923901Z",
     "start_time": "2019-03-28T00:36:57.917661Z"
    }
   },
   "outputs": [],
   "source": [
    "items = list(sketch_id_code_map.items())\n",
    "total_num = len(items)\n",
    "\n",
    "borders = (\n",
    "    int(total_num * SPLIT[0]),\n",
    "    int(total_num * SPLIT[0]) + int(total_num * SPLIT[1]),\n",
    "    int(total_num * SPLIT[0]) + int(total_num * SPLIT[1]) + int(\n",
    "        total_num * SPLIT[2]),\n",
    ")\n",
    "\n",
    "train_sketch_id_code_map = dict(items[0:borders[0]])\n",
    "dev_sketch_id_code_map = dict(items[borders[0]:borders[1]])\n",
    "test_sketch_id_code_map = dict(items[borders[1]:borders[2]])"
   ]
  },
  {
   "cell_type": "code",
   "execution_count": 18,
   "metadata": {
    "ExecuteTime": {
     "end_time": "2019-03-28T00:36:58.956730Z",
     "start_time": "2019-03-28T00:36:58.953864Z"
    }
   },
   "outputs": [],
   "source": [
    "assert len(train_sketch_id_code_map) + len(dev_sketch_id_code_map) + len(\n",
    "    test_sketch_id_code_map) == len(sketch_id_code_map)"
   ]
  },
  {
   "cell_type": "code",
   "execution_count": 19,
   "metadata": {
    "ExecuteTime": {
     "end_time": "2019-03-28T00:36:59.124867Z",
     "start_time": "2019-03-28T00:36:59.120674Z"
    }
   },
   "outputs": [
    {
     "name": "stdout",
     "output_type": "stream",
     "text": [
      "Train Set size: 1360\n",
      "Dev Set size: 170\n",
      "Test Set size: 170\n"
     ]
    }
   ],
   "source": [
    "print('Train Set size: {}'.format(len(train_sketch_id_code_map)))\n",
    "print('Dev Set size: {}'.format(len(dev_sketch_id_code_map)))\n",
    "print('Test Set size: {}'.format(len(test_sketch_id_code_map)))"
   ]
  },
  {
   "cell_type": "markdown",
   "metadata": {},
   "source": [
    "***"
   ]
  },
  {
   "cell_type": "markdown",
   "metadata": {},
   "source": [
    "## Data Generator"
   ]
  },
  {
   "cell_type": "code",
   "execution_count": 20,
   "metadata": {
    "ExecuteTime": {
     "end_time": "2019-03-28T00:37:00.365538Z",
     "start_time": "2019-03-28T00:37:00.355527Z"
    }
   },
   "outputs": [],
   "source": [
    "# data generator, intended to be used in a call to model.fit_generator()\n",
    "\n",
    "\n",
    "def data_generator(sketch_id_code_set, word2idx, batch_size, maxlen=max_code_length):\n",
    "    X_img = []\n",
    "    X_seq = []\n",
    "    Y = []\n",
    "    n = 0\n",
    "\n",
    "    # loop for ever over images\n",
    "    while True:\n",
    "        for sketch_id, code in sketch_id_code_set.items():\n",
    "            # load sketch\n",
    "            sketch = get_preprocessed_img(PATH_TO_DATA+sketch_id+'.png')\n",
    "            code = tokenize_dsl_code(code)\n",
    "            \n",
    "            for i in range(len(code)):\n",
    "                X_img.append(sketch)\n",
    "\n",
    "                x_seq = ['<START>'] + code[:i]\n",
    "                x_seq = [word2idx[word] for word in x_seq]\n",
    "                y = word2idx[code[i]]\n",
    "\n",
    "                X_seq.append(x_seq)\n",
    "                Y.append(y)\n",
    "                \n",
    "                n += 1\n",
    "                # yield the batch data\n",
    "                if n == batch_size:\n",
    "                    X_seq = pad_sequences(X_seq, maxlen=maxlen, padding='post')\n",
    "\n",
    "                    # One-hot\n",
    "                    Y = [to_categorical(idx, len(vocabulary)) for idx in Y]\n",
    "                    \n",
    "                    yield [[np.array(X_img), np.array(X_seq)], np.array(Y)]\n",
    "\n",
    "                    X_img = []\n",
    "                    X_seq = []\n",
    "                    Y = []\n",
    "                    n = 0\n",
    "            \n",
    "            X_img.append(sketch)\n",
    "            \n",
    "            x_seq = ['<START>'] + code\n",
    "            x_seq = [word2idx[word] for word in x_seq]\n",
    "            y = word2idx['<END>']\n",
    "\n",
    "            X_seq.append(x_seq)\n",
    "            Y.append(y)\n",
    "            \n",
    "            n += 1\n",
    "            # yield the batch data\n",
    "            if n == batch_size:\n",
    "                X_seq = pad_sequences(X_seq, maxlen=maxlen, padding='post')\n",
    "\n",
    "                # One-hot\n",
    "                Y = [to_categorical(idx, len(vocabulary)) for idx in Y]\n",
    "                \n",
    "                yield [[np.array(X_img), np.array(X_seq)], np.array(Y)]\n",
    "\n",
    "                X_img = []\n",
    "                X_seq = []\n",
    "                Y = []\n",
    "                n = 0\n"
   ]
  },
  {
   "cell_type": "markdown",
   "metadata": {},
   "source": [
    "***"
   ]
  },
  {
   "cell_type": "markdown",
   "metadata": {},
   "source": [
    "# Sketch Encoder (ConvNet)"
   ]
  },
  {
   "cell_type": "code",
   "execution_count": 21,
   "metadata": {
    "ExecuteTime": {
     "end_time": "2019-03-28T00:37:03.183761Z",
     "start_time": "2019-03-28T00:37:03.181280Z"
    }
   },
   "outputs": [],
   "source": [
    "SKETCH_EMBEDDING_DIM = 1024"
   ]
  },
  {
   "cell_type": "code",
   "execution_count": 22,
   "metadata": {
    "ExecuteTime": {
     "end_time": "2019-03-28T00:37:03.717489Z",
     "start_time": "2019-03-28T00:37:03.489873Z"
    }
   },
   "outputs": [
    {
     "name": "stdout",
     "output_type": "stream",
     "text": [
      "WARNING:tensorflow:From /usr/local/lib/python3.5/dist-packages/tensorflow/python/framework/op_def_library.py:263: colocate_with (from tensorflow.python.framework.ops) is deprecated and will be removed in a future version.\n",
      "Instructions for updating:\n",
      "Colocations handled automatically by placer.\n",
      "WARNING:tensorflow:From /usr/local/lib/python3.5/dist-packages/keras/backend/tensorflow_backend.py:3445: calling dropout (from tensorflow.python.ops.nn_ops) with keep_prob is deprecated and will be removed in a future version.\n",
      "Instructions for updating:\n",
      "Please use `rate` instead of `keep_prob`. Rate should be set to `rate = 1 - keep_prob`.\n"
     ]
    }
   ],
   "source": [
    "img_in = Input((256, 256, 3), name='image_input')\n",
    "\n",
    "x = Conv2D(32, (3, 3), activation='relu', padding='valid', name='conv_32_1')(img_in)\n",
    "x = Conv2D(32, (3, 3), activation='relu', padding='valid', name='conv_32_2')(x)\n",
    "x = MaxPool2D(pool_size=(2, 2), name='maxpool_1')(x)\n",
    "x = Dropout(0.3, name='conv_dropout_1')(x)\n",
    "\n",
    "x = Conv2D(64, (3, 3), activation='relu', padding='valid', name='conv_64_1')(x)\n",
    "x = Conv2D(64, (3, 3), activation='relu', padding='valid', name='conv_64_2')(x)\n",
    "x = MaxPool2D(pool_size=(2, 2), name='maxpool_2')(x)\n",
    "x = Dropout(0.3, name='conv_dropout_2')(x)\n",
    "\n",
    "x = Conv2D(128, (3, 3), activation='relu', padding='valid', name='conv_128_1')(x)\n",
    "x = Conv2D(32, (3, 3), activation='relu', padding='valid', name='conv_128_2')(x)\n",
    "x = MaxPool2D(pool_size=(2, 2), name='maxpool_3')(x)\n",
    "x = Dropout(0.3, name='conv_dropout_3')(x)\n",
    "\n",
    "x = Flatten(name='flatten')(x)\n",
    "\n",
    "x = Dense(1024, activation='relu', name='dense_relu_1')(x)\n",
    "x = Dropout(0.3, name='dense_dropout_1')(x)\n",
    "\n",
    "x = Dense(SKETCH_EMBEDDING_DIM, activation='relu', name='dense_relu_2')(x)\n",
    "x = Dropout(0.3, name='dense_dropout_2')(x)\n",
    "\n",
    "x = RepeatVector(max_code_length, name='repeat')(x)\n",
    "\n",
    "sketch_encoder = Model(img_in, x, name='sketch_encoder')"
   ]
  },
  {
   "cell_type": "code",
   "execution_count": 23,
   "metadata": {
    "ExecuteTime": {
     "end_time": "2019-03-28T00:37:04.061495Z",
     "start_time": "2019-03-28T00:37:04.051982Z"
    }
   },
   "outputs": [
    {
     "name": "stdout",
     "output_type": "stream",
     "text": [
      "_________________________________________________________________\n",
      "Layer (type)                 Output Shape              Param #   \n",
      "=================================================================\n",
      "image_input (InputLayer)     (None, 256, 256, 3)       0         \n",
      "_________________________________________________________________\n",
      "conv_32_1 (Conv2D)           (None, 254, 254, 32)      896       \n",
      "_________________________________________________________________\n",
      "conv_32_2 (Conv2D)           (None, 252, 252, 32)      9248      \n",
      "_________________________________________________________________\n",
      "maxpool_1 (MaxPooling2D)     (None, 126, 126, 32)      0         \n",
      "_________________________________________________________________\n",
      "conv_dropout_1 (Dropout)     (None, 126, 126, 32)      0         \n",
      "_________________________________________________________________\n",
      "conv_64_1 (Conv2D)           (None, 124, 124, 64)      18496     \n",
      "_________________________________________________________________\n",
      "conv_64_2 (Conv2D)           (None, 122, 122, 64)      36928     \n",
      "_________________________________________________________________\n",
      "maxpool_2 (MaxPooling2D)     (None, 61, 61, 64)        0         \n",
      "_________________________________________________________________\n",
      "conv_dropout_2 (Dropout)     (None, 61, 61, 64)        0         \n",
      "_________________________________________________________________\n",
      "conv_128_1 (Conv2D)          (None, 59, 59, 128)       73856     \n",
      "_________________________________________________________________\n",
      "conv_128_2 (Conv2D)          (None, 57, 57, 32)        36896     \n",
      "_________________________________________________________________\n",
      "maxpool_3 (MaxPooling2D)     (None, 28, 28, 32)        0         \n",
      "_________________________________________________________________\n",
      "conv_dropout_3 (Dropout)     (None, 28, 28, 32)        0         \n",
      "_________________________________________________________________\n",
      "flatten (Flatten)            (None, 25088)             0         \n",
      "_________________________________________________________________\n",
      "dense_relu_1 (Dense)         (None, 1024)              25691136  \n",
      "_________________________________________________________________\n",
      "dense_dropout_1 (Dropout)    (None, 1024)              0         \n",
      "_________________________________________________________________\n",
      "dense_relu_2 (Dense)         (None, 1024)              1049600   \n",
      "_________________________________________________________________\n",
      "dense_dropout_2 (Dropout)    (None, 1024)              0         \n",
      "_________________________________________________________________\n",
      "repeat (RepeatVector)        (None, 117, 1024)         0         \n",
      "=================================================================\n",
      "Total params: 26,917,056\n",
      "Trainable params: 26,917,056\n",
      "Non-trainable params: 0\n",
      "_________________________________________________________________\n",
      "None\n"
     ]
    }
   ],
   "source": [
    "# plot_model(sketch_encoder, to_file='sketch_encoder.png', show_shapes=True, show_layer_names=True)\n",
    "\n",
    "print(sketch_encoder.summary())"
   ]
  },
  {
   "cell_type": "markdown",
   "metadata": {},
   "source": [
    "***"
   ]
  },
  {
   "cell_type": "markdown",
   "metadata": {},
   "source": [
    "# Sequence Encoder (LSTM)\n",
    "<br>\n",
    "A LSTM network\n",
    "\n",
    "![LSTM_net](../img/LSTM.png)"
   ]
  },
  {
   "cell_type": "code",
   "execution_count": 24,
   "metadata": {
    "ExecuteTime": {
     "end_time": "2019-03-28T00:37:06.964498Z",
     "start_time": "2019-03-28T00:37:06.962053Z"
    }
   },
   "outputs": [],
   "source": [
    "SEQUENCE_EMBEDDING_DIM = 128"
   ]
  },
  {
   "cell_type": "code",
   "execution_count": 25,
   "metadata": {
    "ExecuteTime": {
     "end_time": "2019-03-28T00:37:54.170157Z",
     "start_time": "2019-03-28T00:37:53.808200Z"
    }
   },
   "outputs": [],
   "source": [
    "# Sequence Input\n",
    "seq_in = Input((max_code_length,), name='sequence_input')\n",
    "\n",
    "# Embeddings\n",
    "x = Embedding(\n",
    "    len(vocabulary),\n",
    "    50,\n",
    "    input_length=max_code_length,\n",
    "    mask_zero=True,\n",
    "    name='embeddings'\n",
    ")(seq_in)\n",
    "    \n",
    "# Dropout\n",
    "x = Dropout(0.3, name='embeddings_dropout')(x)\n",
    "\n",
    "# Sequence Encoder\n",
    "x = LSTM(SEQUENCE_EMBEDDING_DIM, return_sequences=True, return_state=False, name='lstm_encoder_1')(x)\n",
    "x = LSTM(SEQUENCE_EMBEDDING_DIM, return_sequences=True, return_state=False, name='lstm_encoder_2')(x)\n",
    "\n",
    "sequence_encoder = Model(inputs=seq_in, outputs=x, name='sequence_encoder')\n"
   ]
  },
  {
   "cell_type": "code",
   "execution_count": 26,
   "metadata": {
    "ExecuteTime": {
     "end_time": "2019-03-28T00:37:55.073841Z",
     "start_time": "2019-03-28T00:37:55.068367Z"
    }
   },
   "outputs": [
    {
     "name": "stdout",
     "output_type": "stream",
     "text": [
      "_________________________________________________________________\n",
      "Layer (type)                 Output Shape              Param #   \n",
      "=================================================================\n",
      "sequence_input (InputLayer)  (None, 117)               0         \n",
      "_________________________________________________________________\n",
      "embeddings (Embedding)       (None, 117, 50)           900       \n",
      "_________________________________________________________________\n",
      "embeddings_dropout (Dropout) (None, 117, 50)           0         \n",
      "_________________________________________________________________\n",
      "lstm_encoder_1 (LSTM)        (None, 117, 128)          91648     \n",
      "_________________________________________________________________\n",
      "lstm_encoder_2 (LSTM)        (None, 117, 128)          131584    \n",
      "=================================================================\n",
      "Total params: 224,132\n",
      "Trainable params: 224,132\n",
      "Non-trainable params: 0\n",
      "_________________________________________________________________\n",
      "None\n"
     ]
    }
   ],
   "source": [
    "# plot_model(sequence_encoder, to_file='sequence_encoder.png', show_shapes=True, show_layer_names=True)\n",
    "\n",
    "print(sequence_encoder.summary())"
   ]
  },
  {
   "cell_type": "markdown",
   "metadata": {},
   "source": [
    "***"
   ]
  },
  {
   "cell_type": "markdown",
   "metadata": {},
   "source": [
    "# Decoder (LSTM)"
   ]
  },
  {
   "cell_type": "code",
   "execution_count": 27,
   "metadata": {
    "ExecuteTime": {
     "end_time": "2019-03-28T00:37:59.971912Z",
     "start_time": "2019-03-28T00:37:59.969222Z"
    }
   },
   "outputs": [],
   "source": [
    "DECODER_NUM_HIDDEN_NEURONS = 512"
   ]
  },
  {
   "cell_type": "code",
   "execution_count": 28,
   "metadata": {
    "ExecuteTime": {
     "end_time": "2019-03-28T00:38:09.081028Z",
     "start_time": "2019-03-28T00:38:08.331402Z"
    }
   },
   "outputs": [],
   "source": [
    "sketch_emb_in = Input((max_code_length, SKETCH_EMBEDDING_DIM), name='sketch_emb_input')\n",
    "sequence_emb_in = Input((max_code_length, SEQUENCE_EMBEDDING_DIM), name='sequence_emb_input')\n",
    "\n",
    "x = Concatenate(name='merger')([sketch_emb_in, sequence_emb_in])\n",
    "\n",
    "x = LSTM(DECODER_NUM_HIDDEN_NEURONS, return_sequences=True, return_state=False, name='lstm_decoder_1')(x)\n",
    "x = LSTM(DECODER_NUM_HIDDEN_NEURONS, return_sequences=False, return_state=False, name='lstm_decoder_2')(x)\n",
    "x = Dense(len(vocabulary), activation='softmax')(x)\n",
    "\n",
    "sequence_decoder = Model([sketch_emb_in, sequence_emb_in], x)"
   ]
  },
  {
   "cell_type": "code",
   "execution_count": 29,
   "metadata": {
    "ExecuteTime": {
     "end_time": "2019-03-28T00:38:21.745343Z",
     "start_time": "2019-03-28T00:38:21.739526Z"
    }
   },
   "outputs": [
    {
     "name": "stdout",
     "output_type": "stream",
     "text": [
      "__________________________________________________________________________________________________\n",
      "Layer (type)                    Output Shape         Param #     Connected to                     \n",
      "==================================================================================================\n",
      "sketch_emb_input (InputLayer)   (None, 117, 1024)    0                                            \n",
      "__________________________________________________________________________________________________\n",
      "sequence_emb_input (InputLayer) (None, 117, 128)     0                                            \n",
      "__________________________________________________________________________________________________\n",
      "merger (Concatenate)            (None, 117, 1152)    0           sketch_emb_input[0][0]           \n",
      "                                                                 sequence_emb_input[0][0]         \n",
      "__________________________________________________________________________________________________\n",
      "lstm_decoder_1 (LSTM)           (None, 117, 512)     3409920     merger[0][0]                     \n",
      "__________________________________________________________________________________________________\n",
      "lstm_decoder_2 (LSTM)           (None, 512)          2099200     lstm_decoder_1[0][0]             \n",
      "__________________________________________________________________________________________________\n",
      "dense_1 (Dense)                 (None, 18)           9234        lstm_decoder_2[0][0]             \n",
      "==================================================================================================\n",
      "Total params: 5,518,354\n",
      "Trainable params: 5,518,354\n",
      "Non-trainable params: 0\n",
      "__________________________________________________________________________________________________\n",
      "None\n"
     ]
    }
   ],
   "source": [
    "# plot_model(sequence_decoder, to_file='sequence_decoder.png', show_shapes=True, show_layer_names=True)\n",
    "\n",
    "print(sequence_decoder.summary())"
   ]
  },
  {
   "cell_type": "markdown",
   "metadata": {},
   "source": [
    "***"
   ]
  },
  {
   "cell_type": "markdown",
   "metadata": {},
   "source": [
    "# Model"
   ]
  },
  {
   "cell_type": "code",
   "execution_count": 30,
   "metadata": {
    "ExecuteTime": {
     "end_time": "2019-03-28T00:39:23.622085Z",
     "start_time": "2019-03-28T00:39:22.984243Z"
    }
   },
   "outputs": [],
   "source": [
    "sketch_emb = sketch_encoder(img_in)\n",
    "seq_emb = sequence_encoder(seq_in)\n",
    "out = sequence_decoder([sketch_emb, seq_emb])\n",
    "\n",
    "# Build the model\n",
    "model = Model(inputs=[img_in, seq_in], outputs=out, name='model')\n"
   ]
  },
  {
   "cell_type": "markdown",
   "metadata": {},
   "source": [
    "### Visualize the model"
   ]
  },
  {
   "cell_type": "code",
   "execution_count": 31,
   "metadata": {
    "ExecuteTime": {
     "end_time": "2019-03-28T00:39:24.705499Z",
     "start_time": "2019-03-28T00:39:24.698938Z"
    }
   },
   "outputs": [
    {
     "name": "stdout",
     "output_type": "stream",
     "text": [
      "__________________________________________________________________________________________________\n",
      "Layer (type)                    Output Shape         Param #     Connected to                     \n",
      "==================================================================================================\n",
      "image_input (InputLayer)        (None, 256, 256, 3)  0                                            \n",
      "__________________________________________________________________________________________________\n",
      "sequence_input (InputLayer)     (None, 117)          0                                            \n",
      "__________________________________________________________________________________________________\n",
      "sketch_encoder (Model)          (None, 117, 1024)    26917056    image_input[0][0]                \n",
      "__________________________________________________________________________________________________\n",
      "sequence_encoder (Model)        (None, 117, 128)     224132      sequence_input[0][0]             \n",
      "__________________________________________________________________________________________________\n",
      "model_1 (Model)                 (None, 18)           5518354     sketch_encoder[1][0]             \n",
      "                                                                 sequence_encoder[1][0]           \n",
      "==================================================================================================\n",
      "Total params: 32,659,542\n",
      "Trainable params: 32,659,542\n",
      "Non-trainable params: 0\n",
      "__________________________________________________________________________________________________\n",
      "None\n"
     ]
    }
   ],
   "source": [
    "# plot_model(model, to_file='model.png', show_shapes=True, show_layer_names=True)\n",
    "\n",
    "print(model.summary())"
   ]
  },
  {
   "cell_type": "markdown",
   "metadata": {},
   "source": [
    "***"
   ]
  },
  {
   "cell_type": "markdown",
   "metadata": {},
   "source": [
    "# Inference"
   ]
  },
  {
   "cell_type": "code",
   "execution_count": 32,
   "metadata": {
    "ExecuteTime": {
     "end_time": "2019-03-28T00:43:57.098253Z",
     "start_time": "2019-03-28T00:43:57.091602Z"
    }
   },
   "outputs": [],
   "source": [
    "def greedy_search_inference(sketch, maxlen=max_code_length):\n",
    "    i = 0\n",
    "    target_seq = np.zeros((1, max_code_length))\n",
    "    target_seq[0, i] = word2idx['<START>']\n",
    "    i+=1\n",
    "\n",
    "    stop_condition = False\n",
    "    decoded_tokens = []\n",
    "\n",
    "    while not stop_condition:\n",
    "        output_tokens = model.predict([np.expand_dims(sketch, 0), target_seq])\n",
    "\n",
    "        # Sample a token\n",
    "        sampled_token_index = np.argmax(output_tokens)\n",
    "        sampled_word = idx2word[sampled_token_index]\n",
    "        decoded_tokens.append(sampled_word)\n",
    "\n",
    "        # Exit condition\n",
    "        if (sampled_word == '<END>' or len(decoded_tokens) >= maxlen):\n",
    "            stop_condition = True\n",
    "        \n",
    "        if not stop_condition:\n",
    "            target_seq[0, i] = sampled_token_index\n",
    "            i+=1\n",
    "\n",
    "    return ' '.join(decoded_tokens)"
   ]
  },
  {
   "cell_type": "code",
   "execution_count": 33,
   "metadata": {
    "ExecuteTime": {
     "end_time": "2019-03-28T00:44:14.713374Z",
     "start_time": "2019-03-28T00:43:57.426568Z"
    },
    "scrolled": true
   },
   "outputs": [
    {
     "data": {
      "text/plain": [
       "'{ { { { { { { { { { { { { { { { { { { { { { { { { { { { { { { { { { { { { { { { { { { { { { { { { { { { { { { { { { { { { { { { { { { { { { { { { { { { { { { { { { { { { { { { { { { { { { { { { { { { { { { { { { { { { { { { { { { { {'"
      ]
     },
     "execution_count": 33,
     "metadata": {},
     "output_type": "execute_result"
    }
   ],
   "source": [
    "\n",
    "greedy_search_inference(get_preprocessed_img(PATH_TO_DATA+demo_sketch_id+'.png'))"
   ]
  },
  {
   "cell_type": "markdown",
   "metadata": {},
   "source": [
    "***"
   ]
  },
  {
   "cell_type": "markdown",
   "metadata": {},
   "source": [
    "## Run Train"
   ]
  },
  {
   "cell_type": "markdown",
   "metadata": {},
   "source": [
    "### Callbacks"
   ]
  },
  {
   "cell_type": "code",
   "execution_count": 40,
   "metadata": {
    "ExecuteTime": {
     "end_time": "2019-03-28T00:44:23.174258Z",
     "start_time": "2019-03-28T00:44:23.168884Z"
    }
   },
   "outputs": [],
   "source": [
    "filepath=\"weights/weights.hdf5\"\n",
    "checkpoint = ModelCheckpoint(filepath, verbose=True)\n",
    "\n",
    "def on_epoch_end(epoch, logs):\n",
    "    if epoch % 5 == 0:\n",
    "        print()\n",
    "        print('Sampled:')\n",
    "        print('='*30)\n",
    "        print(greedy_search_inference(get_preprocessed_img(\n",
    "            PATH_TO_DATA+np.random.choice(list(dev_sketch_id_code_map.keys()))+'.png'\n",
    "        )))\n",
    "        print()\n",
    "        print()\n",
    "\n",
    "lambda_cb = LambdaCallback(on_epoch_end=on_epoch_end)\n",
    "\n",
    "callbacks = [checkpoint, lambda_cb]"
   ]
  },
  {
   "cell_type": "code",
   "execution_count": 41,
   "metadata": {
    "ExecuteTime": {
     "end_time": "2019-03-28T00:44:27.147931Z",
     "start_time": "2019-03-28T00:44:27.113789Z"
    }
   },
   "outputs": [],
   "source": [
    "model.compile(RMSprop(0.0001, clipvalue=1.0), loss='categorical_crossentropy')"
   ]
  },
  {
   "cell_type": "code",
   "execution_count": null,
   "metadata": {
    "ExecuteTime": {
     "end_time": "2019-03-28T00:44:37.618763Z",
     "start_time": "2019-03-28T00:44:30.204939Z"
    },
    "scrolled": true
   },
   "outputs": [
    {
     "name": "stdout",
     "output_type": "stream",
     "text": [
      "Epoch 1/10000\n"
     ]
    }
   ],
   "source": [
    "batch_size = 64\n",
    "steps = len(train_sketch_id_code_map) // batch_size\n",
    "\n",
    "model.fit_generator(\n",
    "    data_generator(train_sketch_id_code_map, word2idx, batch_size),\n",
    "    steps_per_epoch=steps,\n",
    "    epochs=1e4,\n",
    "    verbose=True,\n",
    "    callbacks=callbacks,\n",
    ")"
   ]
  },
  {
   "cell_type": "markdown",
   "metadata": {},
   "source": [
    "***"
   ]
  },
  {
   "cell_type": "markdown",
   "metadata": {},
   "source": [
    "## Dev"
   ]
  },
  {
   "cell_type": "code",
   "execution_count": 37,
   "metadata": {},
   "outputs": [
    {
     "name": "stdout",
     "output_type": "stream",
     "text": [
      "header { btn-inactive , btn-inactive , btn-inactive , btn-inactive { row { small-title { small-title , small-title , small-title , small-title , small-title , , , , , , , , , , , , , , , , , , , , , , , , , , , , , , , , , , , , , , , , , , , , , , , , , , , , , , , , , , , , , , , , , , , , , , , , , , , , , , , , , , , , , , , , , , , , , ,\n"
     ]
    },
    {
     "data": {
      "image/png": "[encoded data removed]",
      "text/plain": [
       "<Figure size 432x288 with 1 Axes>"
      ]
     },
     "metadata": {
      "needs_background": "light"
     },
     "output_type": "display_data"
    }
   ],
   "source": [
    "sketch_id = np.random.choice(list(dev_sketch_id_code_map.keys()))\n",
    "sketch = get_preprocessed_img(PATH_TO_DATA+sketch_id+'.png')\n",
    "\n",
    "plt.imshow(sketch);\n",
    "print(greedy_search_inference(sketch))"
   ]
  },
  {
   "cell_type": "code",
   "execution_count": null,
   "metadata": {},
   "outputs": [],
   "source": []
  }
 ],
 "metadata": {
  "kernelspec": {
   "display_name": "Python 3",
   "language": "python",
   "name": "python3"
  },
  "language_info": {
   "codemirror_mode": {
    "name": "ipython",
    "version": 3
   },
   "file_extension": ".py",
   "mimetype": "text/x-python",
   "name": "python",
   "nbconvert_exporter": "python",
   "pygments_lexer": "ipython3",
   "version": "3.5.2"
  },
  "varInspector": {
   "cols": {
    "lenName": 16,
    "lenType": 16,
    "lenVar": 40
   },
   "kernels_config": {
    "python": {
     "delete_cmd_postfix": "",
     "delete_cmd_prefix": "del ",
     "library": "var_list.py",
     "varRefreshCmd": "print(var_dic_list())"
    },
    "r": {
     "delete_cmd_postfix": ") ",
     "delete_cmd_prefix": "rm(",
     "library": "var_list.r",
     "varRefreshCmd": "cat(var_dic_list()) "
    }
   },
   "position": {
    "height": "144px",
    "left": "1310px",
    "right": "20px",
    "top": "119px",
    "width": "350px"
   },
   "types_to_exclude": [
    "module",
    "function",
    "builtin_function_or_method",
    "instance",
    "_Feature"
   ],
   "window_display": false
  }
 },
 "nbformat": 4,
 "nbformat_minor": 2
}
