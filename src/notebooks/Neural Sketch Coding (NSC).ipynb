{
 "cells": [
  {
   "cell_type": "code",
   "execution_count": 1,
   "metadata": {
    "ExecuteTime": {
     "end_time": "2019-03-27T23:49:57.341368Z",
     "start_time": "2019-03-27T23:49:56.402420Z"
    }
   },
   "outputs": [
    {
     "name": "stderr",
     "output_type": "stream",
     "text": [
      "Using TensorFlow backend.\n"
     ]
    }
   ],
   "source": [
    "import os\n",
    "import sys\n",
    "\n",
    "import numpy as np\n",
    "import matplotlib.pyplot as plt\n",
    "%matplotlib inline\n",
    "\n",
    "import keras.backend as K\n",
    "from keras.callbacks import LambdaCallback, ModelCheckpoint\n",
    "from keras.optimizers import RMSprop\n",
    "from keras.utils import plot_model\n",
    "\n",
    "# Import Custom Module\n",
    "module_path = os.path.abspath(os.path.join('../..'))\n",
    "if module_path not in sys.path:\n",
    "    sys.path.append(module_path)"
   ]
  },
  {
   "cell_type": "code",
   "execution_count": 2,
   "metadata": {
    "ExecuteTime": {
     "end_time": "2019-03-27T23:49:57.726210Z",
     "start_time": "2019-03-27T23:49:57.708976Z"
    }
   },
   "outputs": [
    {
     "data": {
      "text/plain": [
       "[]"
      ]
     },
     "execution_count": 2,
     "metadata": {},
     "output_type": "execute_result"
    }
   ],
   "source": [
    "K.tensorflow_backend._get_available_gpus()"
   ]
  },
  {
   "cell_type": "markdown",
   "metadata": {},
   "source": [
    "***"
   ]
  },
  {
   "cell_type": "code",
   "execution_count": 3,
   "metadata": {
    "ExecuteTime": {
     "end_time": "2019-03-27T23:50:41.114773Z",
     "start_time": "2019-03-27T23:50:41.111281Z"
    }
   },
   "outputs": [],
   "source": [
    "from src.utils.config import PATH_TO_DATA, GUIS_CODE\n",
    "from src.utils.image import get_preprocessed_img\n",
    "from src.utils.sequence import tokenize_dsl_code\n",
    "from src.utils.sets import (init_sketch_id_code_map, load_vocabulary,\n",
    "                            init_word2idx, init_idx2word, data_generator)\n",
    "\n",
    "from src.nn import SketchEncoder, SequenceDecoder, NeuralSketchCoding, NSCInference"
   ]
  },
  {
   "cell_type": "markdown",
   "metadata": {},
   "source": [
    "***"
   ]
  },
  {
   "cell_type": "code",
   "execution_count": 4,
   "metadata": {
    "ExecuteTime": {
     "end_time": "2019-03-27T23:50:42.520532Z",
     "start_time": "2019-03-27T23:50:42.517820Z"
    }
   },
   "outputs": [],
   "source": [
    "demo_sketch_id = '00150311-A7AE-4804-8B7D-9273687B4FC0'"
   ]
  },
  {
   "cell_type": "markdown",
   "metadata": {},
   "source": [
    "### Init Sketch to DSL Code map"
   ]
  },
  {
   "cell_type": "code",
   "execution_count": 5,
   "metadata": {
    "ExecuteTime": {
     "end_time": "2019-03-27T23:50:43.614081Z",
     "start_time": "2019-03-27T23:50:43.523926Z"
    }
   },
   "outputs": [
    {
     "name": "stdout",
     "output_type": "stream",
     "text": [
      "header {\n",
      "btn-inactive, btn-inactive, btn-inactive, btn-inactive\n",
      "}\n",
      "row {\n",
      "single {\n",
      "small-title, text, btn-orange\n",
      "}\n",
      "}\n",
      "row {\n",
      "double {\n",
      "small-title, text, btn-orange\n",
      "}\n",
      "double {\n",
      "small-title, text, btn-orange\n",
      "}\n",
      "}\n",
      "row {\n",
      "double {\n",
      "small-title, text, btn-orange\n",
      "}\n",
      "double {\n",
      "small-title, text, btn-orange\n",
      "}\n",
      "}\n",
      "\n"
     ]
    }
   ],
   "source": [
    "sketch_id_code_map = init_sketch_id_code_map(GUIS_CODE)\n",
    "print(sketch_id_code_map[demo_sketch_id])"
   ]
  },
  {
   "cell_type": "markdown",
   "metadata": {},
   "source": [
    "### Load / Show the Sketch"
   ]
  },
  {
   "cell_type": "code",
   "execution_count": 6,
   "metadata": {
    "ExecuteTime": {
     "end_time": "2019-03-27T23:50:44.734131Z",
     "start_time": "2019-03-27T23:50:44.550115Z"
    }
   },
   "outputs": [
    {
     "data": {
      "image/png": "[encoded data removed]",
      "text/plain": [
       "<Figure size 432x288 with 1 Axes>"
      ]
     },
     "metadata": {
      "needs_background": "light"
     },
     "output_type": "display_data"
    }
   ],
   "source": [
    "image = get_preprocessed_img(PATH_TO_DATA+demo_sketch_id+'.png')\n",
    "plt.imshow(image);"
   ]
  },
  {
   "cell_type": "markdown",
   "metadata": {},
   "source": [
    "***"
   ]
  },
  {
   "cell_type": "markdown",
   "metadata": {},
   "source": [
    "## Create a Vocabulary"
   ]
  },
  {
   "cell_type": "code",
   "execution_count": 7,
   "metadata": {
    "ExecuteTime": {
     "end_time": "2019-03-27T23:51:04.351556Z",
     "start_time": "2019-03-27T23:51:04.348645Z"
    }
   },
   "outputs": [],
   "source": [
    "vocabulary = load_vocabulary('../../vocabulary.txt')"
   ]
  },
  {
   "cell_type": "code",
   "execution_count": 8,
   "metadata": {
    "ExecuteTime": {
     "end_time": "2019-03-27T23:51:05.094142Z",
     "start_time": "2019-03-27T23:51:05.090265Z"
    }
   },
   "outputs": [
    {
     "data": {
      "text/plain": [
       "18"
      ]
     },
     "execution_count": 8,
     "metadata": {},
     "output_type": "execute_result"
    }
   ],
   "source": [
    "len(vocabulary)"
   ]
  },
  {
   "cell_type": "markdown",
   "metadata": {},
   "source": [
    "### Word2Idx, Idx2Word maps"
   ]
  },
  {
   "cell_type": "code",
   "execution_count": 9,
   "metadata": {
    "ExecuteTime": {
     "end_time": "2019-03-27T23:51:26.535030Z",
     "start_time": "2019-03-27T23:51:26.532367Z"
    }
   },
   "outputs": [],
   "source": [
    "word2idx = init_word2idx(vocabulary)\n",
    "idx2word = init_idx2word(vocabulary)"
   ]
  },
  {
   "cell_type": "code",
   "execution_count": 10,
   "metadata": {
    "ExecuteTime": {
     "end_time": "2019-03-27T23:51:27.123751Z",
     "start_time": "2019-03-27T23:51:27.119827Z"
    }
   },
   "outputs": [
    {
     "data": {
      "text/plain": [
       "{'0': 0,\n",
       " ',': 1,\n",
       " '{': 2,\n",
       " '}': 3,\n",
       " 'small-title': 4,\n",
       " 'text': 5,\n",
       " 'quadruple': 6,\n",
       " 'row': 7,\n",
       " 'btn-inactive': 8,\n",
       " 'btn-orange': 9,\n",
       " 'btn-green': 10,\n",
       " 'btn-red': 11,\n",
       " 'double': 12,\n",
       " '<START>': 13,\n",
       " 'header': 14,\n",
       " 'btn-active': 15,\n",
       " '<END>': 16,\n",
       " 'single': 17}"
      ]
     },
     "execution_count": 10,
     "metadata": {},
     "output_type": "execute_result"
    }
   ],
   "source": [
    "word2idx"
   ]
  },
  {
   "cell_type": "markdown",
   "metadata": {},
   "source": [
    "***"
   ]
  },
  {
   "cell_type": "markdown",
   "metadata": {},
   "source": [
    "## Max DSL Code Length"
   ]
  },
  {
   "cell_type": "code",
   "execution_count": 11,
   "metadata": {
    "ExecuteTime": {
     "end_time": "2019-03-27T23:51:35.501719Z",
     "start_time": "2019-03-27T23:51:35.498049Z"
    }
   },
   "outputs": [
    {
     "name": "stdout",
     "output_type": "stream",
     "text": [
      "Total number of DSL Codes: 1700\n"
     ]
    }
   ],
   "source": [
    "print('Total number of DSL Codes: {}'.format(len(sketch_id_code_map.values())))"
   ]
  },
  {
   "cell_type": "code",
   "execution_count": 12,
   "metadata": {
    "ExecuteTime": {
     "end_time": "2019-03-27T23:51:37.141289Z",
     "start_time": "2019-03-27T23:51:37.109180Z"
    }
   },
   "outputs": [
    {
     "name": "stdout",
     "output_type": "stream",
     "text": [
      "Longes code:\n",
      "==============================\n",
      "\n",
      "header {\n",
      "btn-inactive, btn-inactive, btn-inactive, btn-inactive\n",
      "}\n",
      "row {\n",
      "quadruple {\n",
      "small-title, text, btn-orange\n",
      "}\n",
      "quadruple {\n",
      "small-title, text, btn-orange\n",
      "}\n",
      "quadruple {\n",
      "small-title, text, btn-orange\n",
      "}\n",
      "quadruple {\n",
      "small-title, text, btn-orange\n",
      "}\n",
      "}\n",
      "row {\n",
      "quadruple {\n",
      "small-title, text, btn-orange\n",
      "}\n",
      "quadruple {\n",
      "small-title, text, btn-orange\n",
      "}\n",
      "quadruple {\n",
      "small-title, text, btn-orange\n",
      "}\n",
      "quadruple {\n",
      "small-title, text, btn-orange\n",
      "}\n",
      "}\n",
      "row {\n",
      "quadruple {\n",
      "small-title, text, btn-orange\n",
      "}\n",
      "quadruple {\n",
      "small-title, text, btn-orange\n",
      "}\n",
      "quadruple {\n",
      "small-title, text, btn-orange\n",
      "}\n",
      "quadruple {\n",
      "small-title, text, btn-orange\n",
      "}\n",
      "}\n",
      "\n"
     ]
    }
   ],
   "source": [
    "longets_code = max(\n",
    "    sketch_id_code_map.values(), key=lambda x: len(tokenize_dsl_code(x)))\n",
    "\n",
    "print('Longes code:')\n",
    "print('=' * 30)\n",
    "print()\n",
    "print(longets_code)"
   ]
  },
  {
   "cell_type": "code",
   "execution_count": 13,
   "metadata": {
    "ExecuteTime": {
     "end_time": "2019-03-27T23:51:38.683997Z",
     "start_time": "2019-03-27T23:51:38.680721Z"
    }
   },
   "outputs": [
    {
     "name": "stdout",
     "output_type": "stream",
     "text": [
      "Max DSL Code Length: 117\n"
     ]
    }
   ],
   "source": [
    "max_code_length = len(tokenize_dsl_code(longets_code)) + 2\n",
    "\n",
    "print('Max DSL Code Length: {}'.format(max_code_length))"
   ]
  },
  {
   "cell_type": "markdown",
   "metadata": {},
   "source": [
    "***"
   ]
  },
  {
   "cell_type": "markdown",
   "metadata": {},
   "source": [
    "## Train/Dev/Test split"
   ]
  },
  {
   "cell_type": "code",
   "execution_count": 14,
   "metadata": {
    "ExecuteTime": {
     "end_time": "2019-03-27T23:51:40.922023Z",
     "start_time": "2019-03-27T23:51:40.917998Z"
    }
   },
   "outputs": [
    {
     "data": {
      "text/plain": [
       "1700"
      ]
     },
     "execution_count": 14,
     "metadata": {},
     "output_type": "execute_result"
    }
   ],
   "source": [
    "len(sketch_id_code_map)"
   ]
  },
  {
   "cell_type": "code",
   "execution_count": 15,
   "metadata": {
    "ExecuteTime": {
     "end_time": "2019-03-27T23:51:41.294792Z",
     "start_time": "2019-03-27T23:51:41.292181Z"
    }
   },
   "outputs": [],
   "source": [
    "SPLIT = (.8, .1, .1)"
   ]
  },
  {
   "cell_type": "code",
   "execution_count": 16,
   "metadata": {
    "ExecuteTime": {
     "end_time": "2019-03-27T23:51:42.407709Z",
     "start_time": "2019-03-27T23:51:42.401922Z"
    }
   },
   "outputs": [],
   "source": [
    "items = list(sketch_id_code_map.items())\n",
    "total_num = len(items)\n",
    "\n",
    "borders = (\n",
    "    int(total_num * SPLIT[0]),\n",
    "    int(total_num * SPLIT[0]) + int(total_num * SPLIT[1]),\n",
    "    int(total_num * SPLIT[0]) + int(total_num * SPLIT[1]) + int(\n",
    "        total_num * SPLIT[2]),\n",
    ")\n",
    "\n",
    "train_sketch_id_code_map = dict(items[0:borders[0]])\n",
    "dev_sketch_id_code_map = dict(items[borders[0]:borders[1]])\n",
    "test_sketch_id_code_map = dict(items[borders[1]:borders[2]])"
   ]
  },
  {
   "cell_type": "code",
   "execution_count": 17,
   "metadata": {
    "ExecuteTime": {
     "end_time": "2019-03-27T23:51:42.756508Z",
     "start_time": "2019-03-27T23:51:42.753626Z"
    }
   },
   "outputs": [],
   "source": [
    "assert len(train_sketch_id_code_map) + len(dev_sketch_id_code_map) + len(\n",
    "    test_sketch_id_code_map) == len(sketch_id_code_map)"
   ]
  },
  {
   "cell_type": "code",
   "execution_count": 18,
   "metadata": {
    "ExecuteTime": {
     "end_time": "2019-03-27T23:51:43.161210Z",
     "start_time": "2019-03-27T23:51:43.157135Z"
    }
   },
   "outputs": [
    {
     "name": "stdout",
     "output_type": "stream",
     "text": [
      "Train Set size: 1360\n",
      "Dev Set size: 170\n",
      "Test Set size: 170\n"
     ]
    }
   ],
   "source": [
    "print('Train Set size: {}'.format(len(train_sketch_id_code_map)))\n",
    "print('Dev Set size: {}'.format(len(dev_sketch_id_code_map)))\n",
    "print('Test Set size: {}'.format(len(test_sketch_id_code_map)))"
   ]
  },
  {
   "cell_type": "markdown",
   "metadata": {},
   "source": [
    "***"
   ]
  },
  {
   "cell_type": "code",
   "execution_count": 19,
   "metadata": {
    "ExecuteTime": {
     "end_time": "2019-03-27T17:48:00.442381Z",
     "start_time": "2019-03-27T17:48:00.439780Z"
    }
   },
   "outputs": [],
   "source": [
    "EMBEDDING_DIM = 128\n",
    "NUM_HIDDEN_NEURONS = [256, 256]"
   ]
  },
  {
   "cell_type": "markdown",
   "metadata": {},
   "source": [
    "# Sketch Encoder (ConvNet)"
   ]
  },
  {
   "cell_type": "code",
   "execution_count": 20,
   "metadata": {
    "ExecuteTime": {
     "end_time": "2019-03-27T17:48:37.171009Z",
     "start_time": "2019-03-27T17:48:36.934924Z"
    }
   },
   "outputs": [
    {
     "name": "stdout",
     "output_type": "stream",
     "text": [
      "WARNING:tensorflow:From /Users/victor/.local/share/virtualenvs/sketchy-code-RLgl2Hed/lib/python3.7/site-packages/tensorflow/python/framework/op_def_library.py:263: colocate_with (from tensorflow.python.framework.ops) is deprecated and will be removed in a future version.\n",
      "Instructions for updating:\n",
      "Colocations handled automatically by placer.\n",
      "WARNING:tensorflow:From /Users/victor/.local/share/virtualenvs/sketchy-code-RLgl2Hed/lib/python3.7/site-packages/keras/backend/tensorflow_backend.py:3445: calling dropout (from tensorflow.python.ops.nn_ops) with keep_prob is deprecated and will be removed in a future version.\n",
      "Instructions for updating:\n",
      "Please use `rate` instead of `keep_prob`. Rate should be set to `rate = 1 - keep_prob`.\n"
     ]
    }
   ],
   "source": [
    "sketch_encoder = SketchEncoder(EMBEDDING_DIM).build_model()"
   ]
  },
  {
   "cell_type": "code",
   "execution_count": 21,
   "metadata": {
    "ExecuteTime": {
     "end_time": "2019-03-27T17:48:38.158580Z",
     "start_time": "2019-03-27T17:48:38.058347Z"
    }
   },
   "outputs": [
    {
     "name": "stdout",
     "output_type": "stream",
     "text": [
      "_________________________________________________________________\n",
      "Layer (type)                 Output Shape              Param #   \n",
      "=================================================================\n",
      "image_input (InputLayer)     (None, 256, 256, 3)       0         \n",
      "_________________________________________________________________\n",
      "conv_32_1 (Conv2D)           (None, 254, 254, 32)      896       \n",
      "_________________________________________________________________\n",
      "conv_32_2 (Conv2D)           (None, 252, 252, 32)      9248      \n",
      "_________________________________________________________________\n",
      "maxpool_1 (MaxPooling2D)     (None, 126, 126, 32)      0         \n",
      "_________________________________________________________________\n",
      "conv_dropout_1 (Dropout)     (None, 126, 126, 32)      0         \n",
      "_________________________________________________________________\n",
      "conv_64_1 (Conv2D)           (None, 124, 124, 64)      18496     \n",
      "_________________________________________________________________\n",
      "conv_64_2 (Conv2D)           (None, 122, 122, 64)      36928     \n",
      "_________________________________________________________________\n",
      "maxpool_2 (MaxPooling2D)     (None, 61, 61, 64)        0         \n",
      "_________________________________________________________________\n",
      "conv_dropout_2 (Dropout)     (None, 61, 61, 64)        0         \n",
      "_________________________________________________________________\n",
      "conv_128_1 (Conv2D)          (None, 59, 59, 128)       73856     \n",
      "_________________________________________________________________\n",
      "conv_128_2 (Conv2D)          (None, 57, 57, 128)       147584    \n",
      "_________________________________________________________________\n",
      "maxpool_3 (MaxPooling2D)     (None, 28, 28, 128)       0         \n",
      "_________________________________________________________________\n",
      "conv_dropout_3 (Dropout)     (None, 28, 28, 128)       0         \n",
      "_________________________________________________________________\n",
      "flatten (Flatten)            (None, 100352)            0         \n",
      "_________________________________________________________________\n",
      "dense_relu_1 (Dense)         (None, 1024)              102761472 \n",
      "_________________________________________________________________\n",
      "dense_dropout_1 (Dropout)    (None, 1024)              0         \n",
      "_________________________________________________________________\n",
      "dense_relu_2 (Dense)         (None, 1024)              1049600   \n",
      "_________________________________________________________________\n",
      "dense_dropout_2 (Dropout)    (None, 1024)              0         \n",
      "_________________________________________________________________\n",
      "dense_relu_encoder (Dense)   (None, 128)               131200    \n",
      "_________________________________________________________________\n",
      "embedding_reshapor (Reshape) (None, 1, 128)            0         \n",
      "=================================================================\n",
      "Total params: 104,229,280\n",
      "Trainable params: 104,229,280\n",
      "Non-trainable params: 0\n",
      "_________________________________________________________________\n",
      "None\n"
     ]
    }
   ],
   "source": [
    "plot_model(sketch_encoder.model, to_file='./plots/sketch_encoder.png', show_shapes=True, show_layer_names=True)\n",
    "\n",
    "print(sketch_encoder.model.summary())"
   ]
  },
  {
   "cell_type": "markdown",
   "metadata": {},
   "source": [
    "***"
   ]
  },
  {
   "cell_type": "markdown",
   "metadata": {},
   "source": [
    "# Sequence Decoder (LSTM)\n",
    "<br>\n",
    "A LSTM network\n",
    "\n",
    "![LSTM_net](../../img/LSTM.png)"
   ]
  },
  {
   "cell_type": "code",
   "execution_count": 22,
   "metadata": {},
   "outputs": [],
   "source": [
    "sequence_decoder = SequenceDecoder(max_code_length, EMBEDDING_DIM, len(vocabulary), NUM_HIDDEN_NEURONS).build_model()"
   ]
  },
  {
   "cell_type": "code",
   "execution_count": 23,
   "metadata": {
    "ExecuteTime": {
     "end_time": "2019-03-27T17:48:57.127394Z",
     "start_time": "2019-03-27T17:48:57.038199Z"
    }
   },
   "outputs": [
    {
     "name": "stdout",
     "output_type": "stream",
     "text": [
      "__________________________________________________________________________________________________\n",
      "Layer (type)                    Output Shape         Param #     Connected to                     \n",
      "==================================================================================================\n",
      "sequence_input (InputLayer)     (None, 117)          0                                            \n",
      "__________________________________________________________________________________________________\n",
      "embeddings (Embedding)          (None, 117, 128)     2304        sequence_input[0][0]             \n",
      "__________________________________________________________________________________________________\n",
      "sketch_embedding_input (InputLa (None, 1, 128)       0                                            \n",
      "__________________________________________________________________________________________________\n",
      "lstm_decoder_1 (LSTM)           multiple             394240      sketch_embedding_input[0][0]     \n",
      "                                                                 embeddings_dropout[0][0]         \n",
      "                                                                 lstm_decoder_1[0][1]             \n",
      "                                                                 lstm_decoder_1[0][2]             \n",
      "__________________________________________________________________________________________________\n",
      "embeddings_dropout (Dropout)    (None, 117, 128)     0           embeddings[0][0]                 \n",
      "__________________________________________________________________________________________________\n",
      "lstm_decoder_2 (LSTM)           [(None, 117, 256), ( 525312      lstm_decoder_1[1][0]             \n",
      "__________________________________________________________________________________________________\n",
      "dense_decoder (TimeDistributed) (None, 117, 18)      4626        lstm_decoder_2[0][0]             \n",
      "__________________________________________________________________________________________________\n",
      "softmax_decoder (TimeDistribute (None, 117, 18)      0           dense_decoder[0][0]              \n",
      "==================================================================================================\n",
      "Total params: 926,482\n",
      "Trainable params: 926,482\n",
      "Non-trainable params: 0\n",
      "__________________________________________________________________________________________________\n",
      "None\n"
     ]
    }
   ],
   "source": [
    "plot_model(sequence_decoder.model, to_file='./plots/sequence_decoder.png', show_shapes=True, show_layer_names=True)\n",
    "\n",
    "print(sequence_decoder.model.summary())"
   ]
  },
  {
   "cell_type": "markdown",
   "metadata": {},
   "source": [
    "***"
   ]
  },
  {
   "cell_type": "markdown",
   "metadata": {},
   "source": [
    "# Model\n",
    "\n",
    "![NSC_model](../../img/NSC.png)"
   ]
  },
  {
   "cell_type": "code",
   "execution_count": 24,
   "metadata": {},
   "outputs": [],
   "source": [
    "neural_sketch_coding = NeuralSketchCoding(\n",
    "    EMBEDDING_DIM, max_code_length, len(vocabulary), NUM_HIDDEN_NEURONS).build_model()"
   ]
  },
  {
   "cell_type": "code",
   "execution_count": 25,
   "metadata": {
    "ExecuteTime": {
     "end_time": "2019-03-27T17:50:06.343116Z",
     "start_time": "2019-03-27T17:50:06.263939Z"
    }
   },
   "outputs": [
    {
     "name": "stdout",
     "output_type": "stream",
     "text": [
      "__________________________________________________________________________________________________\n",
      "Layer (type)                    Output Shape         Param #     Connected to                     \n",
      "==================================================================================================\n",
      "image_input (InputLayer)        (None, 256, 256, 3)  0                                            \n",
      "__________________________________________________________________________________________________\n",
      "sequence_input (InputLayer)     (None, 117)          0                                            \n",
      "__________________________________________________________________________________________________\n",
      "sketch_encoder (Model)          (None, 1, 128)       104229280   image_input[0][0]                \n",
      "__________________________________________________________________________________________________\n",
      "sequence_decoder (Model)        (None, 117, 18)      926482      sequence_input[0][0]             \n",
      "                                                                 sketch_encoder[1][0]             \n",
      "==================================================================================================\n",
      "Total params: 105,155,762\n",
      "Trainable params: 105,155,762\n",
      "Non-trainable params: 0\n",
      "__________________________________________________________________________________________________\n",
      "None\n"
     ]
    }
   ],
   "source": [
    "plot_model(neural_sketch_coding.model, to_file='./plots/neural_sketch_coding.png', show_shapes=True, show_layer_names=True)\n",
    "\n",
    "print(neural_sketch_coding.model.summary())"
   ]
  },
  {
   "cell_type": "markdown",
   "metadata": {},
   "source": [
    "***"
   ]
  },
  {
   "cell_type": "markdown",
   "metadata": {},
   "source": [
    "# Inference\n",
    "\n",
    "![LSTM_sampling](../../img/Sampling.png)"
   ]
  },
  {
   "cell_type": "code",
   "execution_count": 26,
   "metadata": {
    "ExecuteTime": {
     "end_time": "2019-03-27T18:01:17.198200Z",
     "start_time": "2019-03-27T18:01:17.186966Z"
    }
   },
   "outputs": [],
   "source": [
    "inference = NSCInference(neural_sketch_coding, word2idx)"
   ]
  },
  {
   "cell_type": "code",
   "execution_count": 27,
   "metadata": {},
   "outputs": [
    {
     "data": {
      "text/plain": [
       "'small-title, , , , , , , , , , , , , , , , , , , , , , , , , , , , , , , , , , , , , , , , , , , , , , , , , , , , , , , , , , , , , , , , , , , , , , , , , , , , , , , , , , , , , , , , , , , , , , , , , , , , , , , , , , , , , , , , , , , , , , , , , , , , , , , , , , , , , , , , , , , , , , , , , , , , , , , , , , , , , , , , , , , , , , , , , , , , , , , , '"
      ]
     },
     "execution_count": 27,
     "metadata": {},
     "output_type": "execute_result"
    }
   ],
   "source": [
    "inference.greedy_search(\n",
    "    get_preprocessed_img(PATH_TO_DATA+demo_sketch_id+'.png')\n",
    ")"
   ]
  },
  {
   "cell_type": "markdown",
   "metadata": {},
   "source": [
    "***"
   ]
  },
  {
   "cell_type": "markdown",
   "metadata": {},
   "source": [
    "## Run Train"
   ]
  },
  {
   "cell_type": "markdown",
   "metadata": {},
   "source": [
    "### Callbacks"
   ]
  },
  {
   "cell_type": "code",
   "execution_count": 28,
   "metadata": {},
   "outputs": [],
   "source": [
    "filepath=\"weights/nsc-weights.hdf5\"\n",
    "checkpoint = ModelCheckpoint(filepath, verbose=True)\n",
    "\n",
    "def on_epoch_end(epoch, logs):\n",
    "    if epoch % 5 == 0:\n",
    "        print()\n",
    "        print('Sampled:')\n",
    "        print('='*30)\n",
    "        print(greedy_search_inference(get_preprocessed_img(\n",
    "            PATH_TO_DATA+np.random.choice(list(dev_sketch_id_code_map.keys()))+'.png'\n",
    "        )))\n",
    "        print()\n",
    "        print()\n",
    "\n",
    "lambda_cb = LambdaCallback(on_epoch_end=on_epoch_end)\n",
    "\n",
    "callbacks = [checkpoint, lambda_cb]"
   ]
  },
  {
   "cell_type": "code",
   "execution_count": 107,
   "metadata": {},
   "outputs": [],
   "source": [
    "neural_sketch_coding.model.load_weights('../weights/nsc-weights.hdf5')\n",
    "\n",
    "neural_sketch_coding.model.compile(RMSprop(0.0001), loss='categorical_crossentropy')"
   ]
  },
  {
   "cell_type": "code",
   "execution_count": 110,
   "metadata": {
    "scrolled": true
   },
   "outputs": [],
   "source": [
    "batch_size = 64\n",
    "steps = len(train_sketch_id_code_map) // batch_size\n",
    "\n",
    "neural_sketch_coding.model.fit_generator(\n",
    "    data_generator(train_sketch_id_code_map, word2idx, batch_size, max_code_length, len(vocabulary)),\n",
    "    steps_per_epoch=steps,\n",
    "    epochs=100,\n",
    "    verbose=True,\n",
    "    callbacks=callbacks,\n",
    ")"
   ]
  },
  {
   "cell_type": "markdown",
   "metadata": {},
   "source": [
    "***"
   ]
  },
  {
   "cell_type": "markdown",
   "metadata": {},
   "source": [
    "## Dev"
   ]
  },
  {
   "cell_type": "code",
   "execution_count": 111,
   "metadata": {},
   "outputs": [],
   "source": [
    "from nltk.translate import bleu_score\n",
    "\n",
    "inference = NSCInference(neural_sketch_coding, word2idx)"
   ]
  },
  {
   "cell_type": "code",
   "execution_count": 112,
   "metadata": {},
   "outputs": [],
   "source": [
    "def evaluate(path_to_img=None, reference=None):\n",
    "    if path_to_img is None:\n",
    "        sketch_id = np.random.choice(list(dev_sketch_id_code_map.keys()))\n",
    "        sketch = get_preprocessed_img(PATH_TO_DATA+sketch_id+'.png')\n",
    "        reference = [dev_sketch_id_code_map[sketch_id]]\n",
    "        \n",
    "    else:\n",
    "        sketch = get_preprocessed_img(path_to_img)\n",
    "\n",
    "    hypothesis = inference.greedy_search(sketch)\n",
    "    \n",
    "    print('Greedy Search Hypothesis:')\n",
    "    print('='*30)\n",
    "    print()\n",
    "    print(hypothesis)\n",
    "    print(end='\\n\\n')\n",
    "    \n",
    "    print('Reference:')\n",
    "    print('='*30)\n",
    "    print()\n",
    "    print(reference[0])\n",
    "    print(end='\\n\\n')\n",
    "    \n",
    "    print('BLEU score: {}'.format(\n",
    "        bleu_score.sentence_bleu(reference, hypothesis)\n",
    "    ))\n",
    "        \n",
    "    plt.imshow(sketch);"
   ]
  },
  {
   "cell_type": "code",
   "execution_count": 113,
   "metadata": {},
   "outputs": [
    {
     "name": "stdout",
     "output_type": "stream",
     "text": [
      "Greedy Search Hypothesis:\n",
      "==============================\n",
      "\n",
      "header {\n",
      "btn-inactive, btn-inactive, btn-inactive, btn-inactive, btn-inactive\n",
      "}\n",
      "row {\n",
      "single {\n",
      "small-title, text, btn-orange\n",
      "}\n",
      "}\n",
      "row {\n",
      "quadruple {\n",
      "small-title, text, btn-orange\n",
      "}\n",
      "quadruple {\n",
      "small-title, text, btn-orange\n",
      "}\n",
      "quadruple {\n",
      "small-title, text, btn-orange\n",
      "}\n",
      "quadruple {\n",
      "small-title, text, btn-orange\n",
      "}\n",
      "}\n",
      "row {\n",
      "double {\n",
      "small-title, text, btn-orange\n",
      "}\n",
      "double {\n",
      "small-title, text, btn-orange\n",
      "}\n",
      "}\n",
      "\n",
      "\n",
      "\n",
      "Reference:\n",
      "==============================\n",
      "\n",
      "header {\n",
      "btn-inactive, btn-inactive, btn-inactive, btn-inactive, btn-inactive\n",
      "}\n",
      "row {\n",
      "single {\n",
      "small-title, text, btn-orange\n",
      "}\n",
      "}\n",
      "row {\n",
      "quadruple {\n",
      "small-title, text, btn-orange\n",
      "}\n",
      "quadruple {\n",
      "small-title, text, btn-orange\n",
      "}\n",
      "quadruple {\n",
      "small-title, text, btn-orange\n",
      "}\n",
      "quadruple {\n",
      "small-title, text, btn-orange\n",
      "}\n",
      "}\n",
      "row {\n",
      "double {\n",
      "small-title, text, btn-orange\n",
      "}\n",
      "double {\n",
      "small-title, text, btn-orange\n",
      "}\n",
      "}\n",
      "\n",
      "\n",
      "\n",
      "BLEU score: 1.0\n"
     ]
    },
    {
     "data": {
      "image/png": "[encoded data removed]",
      "text/plain": [
       "<Figure size 432x288 with 1 Axes>"
      ]
     },
     "metadata": {
      "needs_background": "light"
     },
     "output_type": "display_data"
    }
   ],
   "source": [
    "evaluate()"
   ]
  },
  {
   "cell_type": "markdown",
   "metadata": {},
   "source": [
    "***"
   ]
  },
  {
   "cell_type": "markdown",
   "metadata": {},
   "source": [
    "# Compilation"
   ]
  },
  {
   "cell_type": "code",
   "execution_count": 114,
   "metadata": {},
   "outputs": [],
   "source": [
    "from src.compilers import web"
   ]
  },
  {
   "cell_type": "code",
   "execution_count": 116,
   "metadata": {},
   "outputs": [],
   "source": [
    "sketch = get_preprocessed_img('./test.png')\n",
    "\n",
    "dsl_code = inference.greedy_search(sketch)\n",
    "with open('./dsl_code.gui', 'w') as f:\n",
    "    f.write(dsl_code)"
   ]
  },
  {
   "cell_type": "code",
   "execution_count": 117,
   "metadata": {},
   "outputs": [
    {
     "data": {
      "image/png": "[encoded data removed]",
      "text/plain": [
       "<Figure size 432x288 with 1 Axes>"
      ]
     },
     "metadata": {
      "needs_background": "light"
     },
     "output_type": "display_data"
    }
   ],
   "source": [
    "plt.imshow(sketch);"
   ]
  },
  {
   "cell_type": "code",
   "execution_count": 118,
   "metadata": {},
   "outputs": [],
   "source": [
    "web_compiler = web.Compiler(dsl_mapping_file_path='../compilers/web/dsl_mapping.json')\n",
    "web_compiler.compile('./dsl_code.gui', './out.html')"
   ]
  },
  {
   "cell_type": "code",
   "execution_count": null,
   "metadata": {},
   "outputs": [],
   "source": []
  },
  {
   "cell_type": "code",
   "execution_count": null,
   "metadata": {},
   "outputs": [],
   "source": []
  }
 ],
 "metadata": {
  "kernelspec": {
   "display_name": "Python 3",
   "language": "python",
   "name": "python3"
  },
  "language_info": {
   "codemirror_mode": {
    "name": "ipython",
    "version": 3
   },
   "file_extension": ".py",
   "mimetype": "text/x-python",
   "name": "python",
   "nbconvert_exporter": "python",
   "pygments_lexer": "ipython3",
   "version": "3.7.3"
  },
  "varInspector": {
   "cols": {
    "lenName": 16,
    "lenType": 16,
    "lenVar": 40
   },
   "kernels_config": {
    "python": {
     "delete_cmd_postfix": "",
     "delete_cmd_prefix": "del ",
     "library": "var_list.py",
     "varRefreshCmd": "print(var_dic_list())"
    },
    "r": {
     "delete_cmd_postfix": ") ",
     "delete_cmd_prefix": "rm(",
     "library": "var_list.r",
     "varRefreshCmd": "cat(var_dic_list()) "
    }
   },
   "position": {
    "height": "144px",
    "left": "1310px",
    "right": "20px",
    "top": "119px",
    "width": "350px"
   },
   "types_to_exclude": [
    "module",
    "function",
    "builtin_function_or_method",
    "instance",
    "_Feature"
   ],
   "window_display": false
  }
 },
 "nbformat": 4,
 "nbformat_minor": 2
}
