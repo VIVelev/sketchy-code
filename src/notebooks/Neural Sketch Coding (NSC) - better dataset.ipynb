{
 "cells": [
  {
   "cell_type": "code",
   "execution_count": 1,
   "metadata": {
    "ExecuteTime": {
     "end_time": "2019-03-27T23:49:57.341368Z",
     "start_time": "2019-03-27T23:49:56.402420Z"
    }
   },
   "outputs": [
    {
     "name": "stderr",
     "output_type": "stream",
     "text": [
      "Using TensorFlow backend.\n"
     ]
    }
   ],
   "source": [
    "import os\n",
    "import sys\n",
    "\n",
    "import numpy as np\n",
    "import matplotlib.pyplot as plt\n",
    "%matplotlib inline\n",
    "\n",
    "import keras.backend as K\n",
    "from keras.callbacks import LambdaCallback, ModelCheckpoint\n",
    "from keras.optimizers import RMSprop\n",
    "from keras.utils import plot_model\n",
    "\n",
    "# Import Custom Module\n",
    "module_path = os.path.abspath(os.path.join('../..'))\n",
    "if module_path not in sys.path:\n",
    "    sys.path.append(module_path)"
   ]
  },
  {
   "cell_type": "code",
   "execution_count": 2,
   "metadata": {
    "ExecuteTime": {
     "end_time": "2019-03-27T23:49:57.726210Z",
     "start_time": "2019-03-27T23:49:57.708976Z"
    }
   },
   "outputs": [
    {
     "data": {
      "text/plain": [
       "[]"
      ]
     },
     "execution_count": 2,
     "metadata": {},
     "output_type": "execute_result"
    }
   ],
   "source": [
    "K.tensorflow_backend._get_available_gpus()"
   ]
  },
  {
   "cell_type": "markdown",
   "metadata": {},
   "source": [
    "***"
   ]
  },
  {
   "cell_type": "code",
   "execution_count": 3,
   "metadata": {
    "ExecuteTime": {
     "end_time": "2019-03-27T23:50:41.114773Z",
     "start_time": "2019-03-27T23:50:41.111281Z"
    }
   },
   "outputs": [],
   "source": [
    "from src.utils.config import PATH_TO_DATA, HTML_CODE\n",
    "from src.utils.image import get_preprocessed_img\n",
    "from src.utils.sequence import tokenize_html_code\n",
    "from src.utils.sets import (init_sketch_id_code_map, load_vocabulary,\n",
    "                            init_word2idx, init_idx2word, data_generator)\n",
    "\n",
    "from src.nn import SketchEncoder, SequenceDecoder, NeuralSketchCoding, NSCInference"
   ]
  },
  {
   "cell_type": "markdown",
   "metadata": {},
   "source": [
    "***"
   ]
  },
  {
   "cell_type": "code",
   "execution_count": 4,
   "metadata": {
    "ExecuteTime": {
     "end_time": "2019-03-27T23:50:42.520532Z",
     "start_time": "2019-03-27T23:50:42.517820Z"
    }
   },
   "outputs": [],
   "source": [
    "demo_sketch_id = '4fd5c47c-c546-4ee4-a53e-ffe34deed54e'"
   ]
  },
  {
   "cell_type": "markdown",
   "metadata": {},
   "source": [
    "### Init Sketch to DSL Code map"
   ]
  },
  {
   "cell_type": "code",
   "execution_count": 5,
   "metadata": {
    "ExecuteTime": {
     "end_time": "2019-03-27T23:50:43.614081Z",
     "start_time": "2019-03-27T23:50:43.523926Z"
    }
   },
   "outputs": [
    {
     "name": "stdout",
     "output_type": "stream",
     "text": [
      "<!DOCTYPE html>\n",
      "<html lang=\"en\">\n",
      "<head>\n",
      "  <meta name=\"generator\" content=\"HTML Tidy for HTML5 for Apple macOS version 5.6.0\">\n",
      "  <meta name=\"viewport\" content=\"width=device-width\">\n",
      "  <title>HTML Result</title>\n",
      "  <link rel=\"stylesheet\" href=\"https://stackpath.bootstrapcdn.com/bootstrap/4.3.1/css/bootstrap.min.css\" integrity=\n",
      "  \"sha384-WskhaSGFgHYWDcbwN70/dfYBj47jz9qbsMId/iRN3ewGhXQFZCSftd1LZCfmhktB\" crossorigin=\"anonymous\">\n",
      "</head>\n",
      "<body>\n",
      "  <div class=\"container body-content\">\n",
      "    <div class=\"container\">\n",
      "      <div class=\"row justify-content-center\" style=\"padding-top:10px;\">\n",
      "        <label>Select your payment method</label>\n",
      "      </div>\n",
      "      <div class=\"row justify-content-center\" style=\"padding-top:10px;\">\n",
      "        <label><input type=\"radio\"> @ Credit Card</label>\n",
      "      </div>\n",
      "      <div class=\"row justify-content-start\" style=\"padding-top:10px;\">\n",
      "        <label><input type=\"radio\"> 0 Paypal</label>\n",
      "      </div>\n",
      "      <div class=\"row justify-content-center\" style=\"padding-top:10px;\">\n",
      "        <label><input type=\"radio\"> a Bank transfor</label>\n",
      "      </div>\n",
      "      <div class=\"row justify-content-center\" style=\"padding-top:10px;\">\n",
      "        <label>Enter your data</label>\n",
      "      </div>\n",
      "      <div class=\"row justify-content-start\" style=\"padding-top:10px;\">\n",
      "        <label>Card Number</label>\n",
      "      </div>\n",
      "      <div class=\"row justify-content-center\" style=\"padding-top:10px;\">\n",
      "        <input class=\"form-control\">\n",
      "      </div>\n",
      "      <div class=\"row justify-content-start\" style=\"padding-top:10px;\">\n",
      "        <div class=\"col\" style=\"padding-top:10px;\">\n",
      "          <label>Expiration date</label>\n",
      "        </div>\n",
      "        <div class=\"col\" style=\"padding-top:10px;\">\n",
      "          <label>CEV</label>\n",
      "        </div>\n",
      "      </div>\n",
      "      <div class=\"row justify-content-start\" style=\"padding-top:10px;\">\n",
      "        <div class=\"col\" style=\"padding-top:10px;\">\n",
      "          <div class=\"dropdown\">\n",
      "            <div class=\"dropdown-menu\">\n",
      "              <a class=\"dropdown-item\" href=\"#\" title=\"Drop down list\"></a>\n",
      "            </div>\n",
      "          </div>\n",
      "        </div>\n",
      "        <div class=\"col\" style=\"padding-top:10px;\">\n",
      "          <div class=\"dropdown\">\n",
      "            <div class=\"dropdown-menu\">\n",
      "              <a class=\"dropdown-item\" href=\"#\" title=\"Drop down list\"></a>\n",
      "            </div>\n",
      "          </div>\n",
      "        </div>\n",
      "        <div class=\"col\" style=\"padding-top:10px;\">\n",
      "          <input class=\"form-control\">\n",
      "        </div>\n",
      "      </div>\n",
      "      <div class=\"row justify-content-center\" style=\"padding-top:10px;\">\n",
      "        <button class=\"btn btn-primary\">Compatele</button>\n",
      "      </div>\n",
      "    </div>\n",
      "  </div>\n",
      "</body>\n",
      "</html>\n",
      "\n"
     ]
    }
   ],
   "source": [
    "sketch_id_code_map = init_sketch_id_code_map(HTML_CODE)\n",
    "print(sketch_id_code_map[demo_sketch_id])"
   ]
  },
  {
   "cell_type": "markdown",
   "metadata": {},
   "source": [
    "### Load / Show the Sketch"
   ]
  },
  {
   "cell_type": "code",
   "execution_count": 6,
   "metadata": {
    "ExecuteTime": {
     "end_time": "2019-03-27T23:50:44.734131Z",
     "start_time": "2019-03-27T23:50:44.550115Z"
    }
   },
   "outputs": [
    {
     "data": {
      "image/png": "[encoded data removed]",
      "text/plain": [
       "<Figure size 432x288 with 1 Axes>"
      ]
     },
     "metadata": {
      "needs_background": "light"
     },
     "output_type": "display_data"
    }
   ],
   "source": [
    "image = get_preprocessed_img(PATH_TO_DATA+demo_sketch_id+'.png')\n",
    "plt.imshow(image);"
   ]
  },
  {
   "cell_type": "markdown",
   "metadata": {},
   "source": [
    "***"
   ]
  },
  {
   "cell_type": "markdown",
   "metadata": {},
   "source": [
    "## Create a Vocabulary"
   ]
  },
  {
   "cell_type": "code",
   "execution_count": 26,
   "metadata": {},
   "outputs": [],
   "source": [
    "from string import printable\n",
    "\n",
    "vocabulary = sorted(set(printable))\n",
    "vocabulary.append('<START>')\n",
    "vocabulary.append('<END>')"
   ]
  },
  {
   "cell_type": "code",
   "execution_count": 27,
   "metadata": {
    "ExecuteTime": {
     "end_time": "2019-03-27T23:51:05.094142Z",
     "start_time": "2019-03-27T23:51:05.090265Z"
    }
   },
   "outputs": [
    {
     "data": {
      "text/plain": [
       "102"
      ]
     },
     "execution_count": 27,
     "metadata": {},
     "output_type": "execute_result"
    }
   ],
   "source": [
    "len(vocabulary)"
   ]
  },
  {
   "cell_type": "markdown",
   "metadata": {},
   "source": [
    "### Word2Idx, Idx2Word maps"
   ]
  },
  {
   "cell_type": "code",
   "execution_count": 28,
   "metadata": {
    "ExecuteTime": {
     "end_time": "2019-03-27T23:51:26.535030Z",
     "start_time": "2019-03-27T23:51:26.532367Z"
    }
   },
   "outputs": [],
   "source": [
    "word2idx = init_word2idx(vocabulary)\n",
    "idx2word = init_idx2word(vocabulary)"
   ]
  },
  {
   "cell_type": "code",
   "execution_count": 29,
   "metadata": {
    "ExecuteTime": {
     "end_time": "2019-03-27T23:51:27.123751Z",
     "start_time": "2019-03-27T23:51:27.119827Z"
    }
   },
   "outputs": [
    {
     "data": {
      "text/plain": [
       "{'\\t': 0,\n",
       " '\\n': 1,\n",
       " '\\x0b': 2,\n",
       " '\\x0c': 3,\n",
       " '\\r': 4,\n",
       " ' ': 5,\n",
       " '!': 6,\n",
       " '\"': 7,\n",
       " '#': 8,\n",
       " '$': 9,\n",
       " '%': 10,\n",
       " '&': 11,\n",
       " \"'\": 12,\n",
       " '(': 13,\n",
       " ')': 14,\n",
       " '*': 15,\n",
       " '+': 16,\n",
       " ',': 17,\n",
       " '-': 18,\n",
       " '.': 19,\n",
       " '/': 20,\n",
       " '0': 21,\n",
       " '1': 22,\n",
       " '2': 23,\n",
       " '3': 24,\n",
       " '4': 25,\n",
       " '5': 26,\n",
       " '6': 27,\n",
       " '7': 28,\n",
       " '8': 29,\n",
       " '9': 30,\n",
       " ':': 31,\n",
       " ';': 32,\n",
       " '<': 33,\n",
       " '=': 34,\n",
       " '>': 35,\n",
       " '?': 36,\n",
       " '@': 37,\n",
       " 'A': 38,\n",
       " 'B': 39,\n",
       " 'C': 40,\n",
       " 'D': 41,\n",
       " 'E': 42,\n",
       " 'F': 43,\n",
       " 'G': 44,\n",
       " 'H': 45,\n",
       " 'I': 46,\n",
       " 'J': 47,\n",
       " 'K': 48,\n",
       " 'L': 49,\n",
       " 'M': 50,\n",
       " 'N': 51,\n",
       " 'O': 52,\n",
       " 'P': 53,\n",
       " 'Q': 54,\n",
       " 'R': 55,\n",
       " 'S': 56,\n",
       " 'T': 57,\n",
       " 'U': 58,\n",
       " 'V': 59,\n",
       " 'W': 60,\n",
       " 'X': 61,\n",
       " 'Y': 62,\n",
       " 'Z': 63,\n",
       " '[': 64,\n",
       " '\\\\': 65,\n",
       " ']': 66,\n",
       " '^': 67,\n",
       " '_': 68,\n",
       " '`': 69,\n",
       " 'a': 70,\n",
       " 'b': 71,\n",
       " 'c': 72,\n",
       " 'd': 73,\n",
       " 'e': 74,\n",
       " 'f': 75,\n",
       " 'g': 76,\n",
       " 'h': 77,\n",
       " 'i': 78,\n",
       " 'j': 79,\n",
       " 'k': 80,\n",
       " 'l': 81,\n",
       " 'm': 82,\n",
       " 'n': 83,\n",
       " 'o': 84,\n",
       " 'p': 85,\n",
       " 'q': 86,\n",
       " 'r': 87,\n",
       " 's': 88,\n",
       " 't': 89,\n",
       " 'u': 90,\n",
       " 'v': 91,\n",
       " 'w': 92,\n",
       " 'x': 93,\n",
       " 'y': 94,\n",
       " 'z': 95,\n",
       " '{': 96,\n",
       " '|': 97,\n",
       " '}': 98,\n",
       " '~': 99,\n",
       " '<START>': 100,\n",
       " '<END>': 101}"
      ]
     },
     "execution_count": 29,
     "metadata": {},
     "output_type": "execute_result"
    }
   ],
   "source": [
    "word2idx"
   ]
  },
  {
   "cell_type": "markdown",
   "metadata": {},
   "source": [
    "***"
   ]
  },
  {
   "cell_type": "markdown",
   "metadata": {},
   "source": [
    "## Max DSL Code Length"
   ]
  },
  {
   "cell_type": "code",
   "execution_count": 30,
   "metadata": {
    "ExecuteTime": {
     "end_time": "2019-03-27T23:51:35.501719Z",
     "start_time": "2019-03-27T23:51:35.498049Z"
    }
   },
   "outputs": [
    {
     "name": "stdout",
     "output_type": "stream",
     "text": [
      "Total number of examples: 58\n"
     ]
    }
   ],
   "source": [
    "print('Total number of examples: {}'.format(len(sketch_id_code_map.values())))"
   ]
  },
  {
   "cell_type": "code",
   "execution_count": 31,
   "metadata": {
    "ExecuteTime": {
     "end_time": "2019-03-27T23:51:37.141289Z",
     "start_time": "2019-03-27T23:51:37.109180Z"
    }
   },
   "outputs": [
    {
     "name": "stdout",
     "output_type": "stream",
     "text": [
      "Longes code:\n",
      "==============================\n",
      "\n",
      "<!DOCTYPE html>\n",
      "<html lang=\"en\">\n",
      "<head>\n",
      "  <meta name=\"generator\" content=\"HTML Tidy for HTML5 for Apple macOS version 5.6.0\">\n",
      "  <meta name=\"viewport\" content=\"width=device-width\">\n",
      "  <title>HTML Result</title>\n",
      "  <link rel=\"stylesheet\" href=\"https://stackpath.bootstrapcdn.com/bootstrap/4.3.1/css/bootstrap.min.css\" integrity=\n",
      "  \"sha384-WskhaSGFgHYWDcbwN70/dfYBj47jz9qbsMId/iRN3ewGhXQFZCSftd1LZCfmhktB\" crossorigin=\"anonymous\">\n",
      "</head>\n",
      "<body>\n",
      "  <div class=\"container body-content\">\n",
      "    <div class=\"container\">\n",
      "      <div class=\"row justify-content-start\" style=\"padding-top:10px;\">\n",
      "        <div class=\"col\" style=\"padding-top:10px;\">\n",
      "          <div class=\"row justify-content-start\" style=\"padding-top:10px;\">\n",
      "            <h1>TITLE</h1>\n",
      "          </div>\n",
      "          <div class=\"row justify-content-start\" style=\"padding-top:10px;\">\n",
      "            <label>Title Page</label>\n",
      "          </div>\n",
      "        </div>\n",
      "        <div class=\"col\" style=\"padding-top:10px;\"><img alt=\"Image html\" width=\"90%\" height=\"90%\" style=\"max-height:500px;max-width:500px;\" src=\n",
      "        \"./fake_img.svg\"></div>\n",
      "      </div>\n",
      "      <div class=\"row justify-content-start\" style=\"padding-top:10px;\">\n",
      "        <p class=\"text-black-50\">Lorem ipsum dolor sit amet, consectetur adipiscing elit<br>\n",
      "        sed do eiusmod tempor incididunt ut labore et dolore magna aliqua.<br>\n",
      "        Ut enim ad minim veniam, quis nostrud exercitation ullamco laboris</p>\n",
      "      </div>\n",
      "      <div class=\"row justify-content-start\" style=\"padding-top:10px;\">\n",
      "        <div class=\"col\" style=\"padding-top:10px;\">\n",
      "          <h1>Title</h1>\n",
      "        </div>\n",
      "        <div class=\"col\" style=\"padding-top:10px;\">\n",
      "          <h1>Title</h1>\n",
      "        </div>\n",
      "      </div>\n",
      "      <div class=\"row justify-content-start\" style=\"padding-top:10px;\">\n",
      "        <div class=\"col\" style=\"padding-top:10px;\"><img alt=\"Image html\" width=\"90%\" height=\"90%\" style=\"max-height:500px;max-width:500px;\" src=\n",
      "        \"./fake_img.svg\"></div>\n",
      "        <div class=\"col\" style=\"padding-top:10px;\">\n",
      "          <label>Title Fast</label>\n",
      "        </div>\n",
      "        <div class=\"col\" style=\"padding-top:10px;\"><img alt=\"Image html\" width=\"90%\" height=\"90%\" style=\"max-height:500px;max-width:500px;\" src=\n",
      "        \"./fake_img.svg\"></div>\n",
      "        <div class=\"col\" style=\"padding-top:10px;\">\n",
      "          <label>Title Post</label>\n",
      "        </div>\n",
      "      </div>\n",
      "      <div class=\"row justify-content-start\" style=\"padding-top:10px;\">\n",
      "        <div class=\"col\" style=\"padding-top:10px;\">\n",
      "          <p class=\"text-black-50\">Lorem ipsum dolor sit amet, consectetur adipiscing elit<br>\n",
      "          sed do eiusmod tempor incididunt ut labore et dolore magna aliqua.<br>\n",
      "          Ut enim ad minim veniam, quis nostrud exercitation ullamco laboris</p>\n",
      "        </div>\n",
      "        <div class=\"col\" style=\"padding-top:10px;\">\n",
      "          <p class=\"text-black-50\">Lorem ipsum dolor sit amet, consectetur adipiscing elit<br>\n",
      "          sed do eiusmod tempor incididunt ut labore et dolore magna aliqua.<br>\n",
      "          Ut enim ad minim veniam, quis nostrud exercitation ullamco laboris</p>\n",
      "        </div>\n",
      "      </div>\n",
      "      <div class=\"row justify-content-start\" style=\"padding-top:10px;\">\n",
      "        <div class=\"col\" style=\"padding-top:10px;\">\n",
      "          <h1>Title</h1>\n",
      "        </div>\n",
      "        <div class=\"col\" style=\"padding-top:10px;\">\n",
      "          <h1>Title</h1>\n",
      "        </div>\n",
      "      </div>\n",
      "      <div class=\"row justify-content-start\" style=\"padding-top:10px;\">\n",
      "        <div class=\"col\" style=\"padding-top:10px;\"><img alt=\"Image html\" width=\"90%\" height=\"90%\" style=\"max-height:500px;max-width:500px;\" src=\n",
      "        \"./fake_img.svg\"></div>\n",
      "        <div class=\"col\" style=\"padding-top:10px;\">\n",
      "          <label>Title Post</label>\n",
      "        </div>\n",
      "        <div class=\"col\" style=\"padding-top:10px;\"><img alt=\"Image html\" width=\"90%\" height=\"90%\" style=\"max-height:500px;max-width:500px;\" src=\n",
      "        \"./fake_img.svg\"></div>\n",
      "        <div class=\"col\" style=\"padding-top:10px;\">\n",
      "          <label>Title Pos^</label>\n",
      "        </div>\n",
      "      </div>\n",
      "      <div class=\"row justify-content-start\" style=\"padding-top:10px;\">\n",
      "        <div class=\"col\" style=\"padding-top:10px;\">\n",
      "          <p class=\"text-black-50\">Lorem ipsum dolor sit amet, consectetur adipiscing elit<br>\n",
      "          sed do eiusmod tempor incididunt ut labore et dolore magna aliqua.<br>\n",
      "          Ut enim ad minim veniam, quis nostrud exercitation ullamco laboris</p>\n",
      "        </div>\n",
      "        <div class=\"col\" style=\"padding-top:10px;\">\n",
      "          <p class=\"text-black-50\">Lorem ipsum dolor sit amet, consectetur adipiscing elit<br>\n",
      "          sed do eiusmod tempor incididunt ut labore et dolore magna aliqua.<br>\n",
      "          Ut enim ad minim veniam, quis nostrud exercitation ullamco laboris</p>\n",
      "        </div>\n",
      "      </div>\n",
      "    </div>\n",
      "  </div>\n",
      "</body>\n",
      "</html>\n",
      "\n"
     ]
    }
   ],
   "source": [
    "longets_code = max(\n",
    "    sketch_id_code_map.values(), key=lambda x: len(x))\n",
    "\n",
    "print('Longes code:')\n",
    "print('=' * 30)\n",
    "print()\n",
    "print(longets_code)"
   ]
  },
  {
   "cell_type": "code",
   "execution_count": 32,
   "metadata": {
    "ExecuteTime": {
     "end_time": "2019-03-27T23:51:38.683997Z",
     "start_time": "2019-03-27T23:51:38.680721Z"
    }
   },
   "outputs": [
    {
     "name": "stdout",
     "output_type": "stream",
     "text": [
      "Max DSL Code Length: 4996\n"
     ]
    }
   ],
   "source": [
    "max_code_length = len(longets_code) + 2\n",
    "\n",
    "print('Max DSL Code Length: {}'.format(max_code_length))"
   ]
  },
  {
   "cell_type": "markdown",
   "metadata": {},
   "source": [
    "***"
   ]
  },
  {
   "cell_type": "markdown",
   "metadata": {},
   "source": [
    "## Train/Dev/Test split"
   ]
  },
  {
   "cell_type": "code",
   "execution_count": 42,
   "metadata": {
    "ExecuteTime": {
     "end_time": "2019-03-27T23:51:40.922023Z",
     "start_time": "2019-03-27T23:51:40.917998Z"
    }
   },
   "outputs": [
    {
     "data": {
      "text/plain": [
       "58"
      ]
     },
     "execution_count": 42,
     "metadata": {},
     "output_type": "execute_result"
    }
   ],
   "source": [
    "len(sketch_id_code_map)"
   ]
  },
  {
   "cell_type": "code",
   "execution_count": 43,
   "metadata": {
    "ExecuteTime": {
     "end_time": "2019-03-27T23:51:41.294792Z",
     "start_time": "2019-03-27T23:51:41.292181Z"
    }
   },
   "outputs": [],
   "source": [
    "SPLIT = (1., .0, .0)"
   ]
  },
  {
   "cell_type": "code",
   "execution_count": 44,
   "metadata": {
    "ExecuteTime": {
     "end_time": "2019-03-27T23:51:42.407709Z",
     "start_time": "2019-03-27T23:51:42.401922Z"
    }
   },
   "outputs": [],
   "source": [
    "items = list(sketch_id_code_map.items())\n",
    "total_num = len(items)\n",
    "\n",
    "borders = (\n",
    "    int(total_num * SPLIT[0]),\n",
    "    int(total_num * SPLIT[0]) + int(total_num * SPLIT[1]),\n",
    "    int(total_num * SPLIT[0]) + int(total_num * SPLIT[1]) + int(\n",
    "        total_num * SPLIT[2]),\n",
    ")\n",
    "\n",
    "train_sketch_id_code_map = dict(items[0:borders[0]])\n",
    "dev_sketch_id_code_map = dict(items[borders[0]:borders[1]])\n",
    "test_sketch_id_code_map = dict(items[borders[1]:borders[2]])"
   ]
  },
  {
   "cell_type": "code",
   "execution_count": 45,
   "metadata": {
    "ExecuteTime": {
     "end_time": "2019-03-27T23:51:42.756508Z",
     "start_time": "2019-03-27T23:51:42.753626Z"
    }
   },
   "outputs": [],
   "source": [
    "assert len(train_sketch_id_code_map) + len(dev_sketch_id_code_map) + len(\n",
    "    test_sketch_id_code_map) == len(sketch_id_code_map)"
   ]
  },
  {
   "cell_type": "code",
   "execution_count": 46,
   "metadata": {
    "ExecuteTime": {
     "end_time": "2019-03-27T23:51:43.161210Z",
     "start_time": "2019-03-27T23:51:43.157135Z"
    }
   },
   "outputs": [
    {
     "name": "stdout",
     "output_type": "stream",
     "text": [
      "Train Set size: 58\n",
      "Dev Set size: 0\n",
      "Test Set size: 0\n"
     ]
    }
   ],
   "source": [
    "print('Train Set size: {}'.format(len(train_sketch_id_code_map)))\n",
    "print('Dev Set size: {}'.format(len(dev_sketch_id_code_map)))\n",
    "print('Test Set size: {}'.format(len(test_sketch_id_code_map)))"
   ]
  },
  {
   "cell_type": "markdown",
   "metadata": {},
   "source": [
    "***"
   ]
  },
  {
   "cell_type": "code",
   "execution_count": 47,
   "metadata": {
    "ExecuteTime": {
     "end_time": "2019-03-27T17:48:00.442381Z",
     "start_time": "2019-03-27T17:48:00.439780Z"
    }
   },
   "outputs": [],
   "source": [
    "EMBEDDING_DIM = 128\n",
    "NUM_HIDDEN_NEURONS = [256, 256]"
   ]
  },
  {
   "cell_type": "markdown",
   "metadata": {},
   "source": [
    "# Sketch Encoder (ConvNet)"
   ]
  },
  {
   "cell_type": "code",
   "execution_count": 48,
   "metadata": {
    "ExecuteTime": {
     "end_time": "2019-03-27T17:48:37.171009Z",
     "start_time": "2019-03-27T17:48:36.934924Z"
    }
   },
   "outputs": [
    {
     "name": "stdout",
     "output_type": "stream",
     "text": [
      "WARNING:tensorflow:From /Users/victor/.local/share/virtualenvs/sketchy-code-RLgl2Hed/lib/python3.7/site-packages/tensorflow/python/framework/op_def_library.py:263: colocate_with (from tensorflow.python.framework.ops) is deprecated and will be removed in a future version.\n",
      "Instructions for updating:\n",
      "Colocations handled automatically by placer.\n",
      "WARNING:tensorflow:From /Users/victor/.local/share/virtualenvs/sketchy-code-RLgl2Hed/lib/python3.7/site-packages/keras/backend/tensorflow_backend.py:3445: calling dropout (from tensorflow.python.ops.nn_ops) with keep_prob is deprecated and will be removed in a future version.\n",
      "Instructions for updating:\n",
      "Please use `rate` instead of `keep_prob`. Rate should be set to `rate = 1 - keep_prob`.\n"
     ]
    }
   ],
   "source": [
    "sketch_encoder = SketchEncoder(EMBEDDING_DIM).build_model()"
   ]
  },
  {
   "cell_type": "code",
   "execution_count": 49,
   "metadata": {
    "ExecuteTime": {
     "end_time": "2019-03-27T17:48:38.158580Z",
     "start_time": "2019-03-27T17:48:38.058347Z"
    }
   },
   "outputs": [
    {
     "name": "stdout",
     "output_type": "stream",
     "text": [
      "_________________________________________________________________\n",
      "Layer (type)                 Output Shape              Param #   \n",
      "=================================================================\n",
      "image_input (InputLayer)     (None, 256, 256, 3)       0         \n",
      "_________________________________________________________________\n",
      "conv_32_1 (Conv2D)           (None, 254, 254, 32)      896       \n",
      "_________________________________________________________________\n",
      "conv_32_2 (Conv2D)           (None, 252, 252, 32)      9248      \n",
      "_________________________________________________________________\n",
      "maxpool_1 (MaxPooling2D)     (None, 126, 126, 32)      0         \n",
      "_________________________________________________________________\n",
      "conv_dropout_1 (Dropout)     (None, 126, 126, 32)      0         \n",
      "_________________________________________________________________\n",
      "conv_64_1 (Conv2D)           (None, 124, 124, 64)      18496     \n",
      "_________________________________________________________________\n",
      "conv_64_2 (Conv2D)           (None, 122, 122, 64)      36928     \n",
      "_________________________________________________________________\n",
      "maxpool_2 (MaxPooling2D)     (None, 61, 61, 64)        0         \n",
      "_________________________________________________________________\n",
      "conv_dropout_2 (Dropout)     (None, 61, 61, 64)        0         \n",
      "_________________________________________________________________\n",
      "conv_128_1 (Conv2D)          (None, 59, 59, 128)       73856     \n",
      "_________________________________________________________________\n",
      "conv_128_2 (Conv2D)          (None, 57, 57, 128)       147584    \n",
      "_________________________________________________________________\n",
      "maxpool_3 (MaxPooling2D)     (None, 28, 28, 128)       0         \n",
      "_________________________________________________________________\n",
      "conv_dropout_3 (Dropout)     (None, 28, 28, 128)       0         \n",
      "_________________________________________________________________\n",
      "flatten (Flatten)            (None, 100352)            0         \n",
      "_________________________________________________________________\n",
      "dense_relu_1 (Dense)         (None, 1024)              102761472 \n",
      "_________________________________________________________________\n",
      "dense_dropout_1 (Dropout)    (None, 1024)              0         \n",
      "_________________________________________________________________\n",
      "dense_relu_2 (Dense)         (None, 1024)              1049600   \n",
      "_________________________________________________________________\n",
      "dense_dropout_2 (Dropout)    (None, 1024)              0         \n",
      "_________________________________________________________________\n",
      "dense_relu_encoder (Dense)   (None, 128)               131200    \n",
      "_________________________________________________________________\n",
      "embedding_reshapor (Reshape) (None, 1, 128)            0         \n",
      "=================================================================\n",
      "Total params: 104,229,280\n",
      "Trainable params: 104,229,280\n",
      "Non-trainable params: 0\n",
      "_________________________________________________________________\n",
      "None\n"
     ]
    }
   ],
   "source": [
    "plot_model(sketch_encoder.model, to_file='./plots/sketch_encoder.png', show_shapes=True, show_layer_names=True)\n",
    "\n",
    "print(sketch_encoder.model.summary())"
   ]
  },
  {
   "cell_type": "markdown",
   "metadata": {},
   "source": [
    "***"
   ]
  },
  {
   "cell_type": "markdown",
   "metadata": {},
   "source": [
    "# Sequence Decoder (LSTM)\n",
    "<br>\n",
    "A LSTM network\n",
    "\n",
    "![LSTM_net](../../img/LSTM.png)"
   ]
  },
  {
   "cell_type": "code",
   "execution_count": 50,
   "metadata": {},
   "outputs": [],
   "source": [
    "sequence_decoder = SequenceDecoder(max_code_length, EMBEDDING_DIM, len(vocabulary), NUM_HIDDEN_NEURONS).build_model()"
   ]
  },
  {
   "cell_type": "code",
   "execution_count": 51,
   "metadata": {
    "ExecuteTime": {
     "end_time": "2019-03-27T17:48:57.127394Z",
     "start_time": "2019-03-27T17:48:57.038199Z"
    }
   },
   "outputs": [
    {
     "name": "stdout",
     "output_type": "stream",
     "text": [
      "__________________________________________________________________________________________________\n",
      "Layer (type)                    Output Shape         Param #     Connected to                     \n",
      "==================================================================================================\n",
      "sequence_input (InputLayer)     (None, 4996)         0                                            \n",
      "__________________________________________________________________________________________________\n",
      "embeddings (Embedding)          (None, 4996, 128)    13056       sequence_input[0][0]             \n",
      "__________________________________________________________________________________________________\n",
      "sketch_embedding_input (InputLa (None, 1, 128)       0                                            \n",
      "__________________________________________________________________________________________________\n",
      "lstm_decoder_1 (LSTM)           multiple             394240      sketch_embedding_input[0][0]     \n",
      "                                                                 embeddings_dropout[0][0]         \n",
      "                                                                 lstm_decoder_1[0][1]             \n",
      "                                                                 lstm_decoder_1[0][2]             \n",
      "__________________________________________________________________________________________________\n",
      "embeddings_dropout (Dropout)    (None, 4996, 128)    0           embeddings[0][0]                 \n",
      "__________________________________________________________________________________________________\n",
      "lstm_decoder_2 (LSTM)           [(None, 4996, 256),  525312      lstm_decoder_1[1][0]             \n",
      "__________________________________________________________________________________________________\n",
      "dense_decoder (TimeDistributed) (None, 4996, 102)    26214       lstm_decoder_2[0][0]             \n",
      "__________________________________________________________________________________________________\n",
      "softmax_decoder (TimeDistribute (None, 4996, 102)    0           dense_decoder[0][0]              \n",
      "==================================================================================================\n",
      "Total params: 958,822\n",
      "Trainable params: 958,822\n",
      "Non-trainable params: 0\n",
      "__________________________________________________________________________________________________\n",
      "None\n"
     ]
    }
   ],
   "source": [
    "plot_model(sequence_decoder.model, to_file='./plots/sequence_decoder.png', show_shapes=True, show_layer_names=True)\n",
    "\n",
    "print(sequence_decoder.model.summary())"
   ]
  },
  {
   "cell_type": "markdown",
   "metadata": {},
   "source": [
    "***"
   ]
  },
  {
   "cell_type": "markdown",
   "metadata": {},
   "source": [
    "# Model\n",
    "\n",
    "![NSC_model](../../img/NSC.png)"
   ]
  },
  {
   "cell_type": "code",
   "execution_count": 52,
   "metadata": {},
   "outputs": [],
   "source": [
    "neural_sketch_coding = NeuralSketchCoding(\n",
    "    EMBEDDING_DIM, max_code_length, len(vocabulary), NUM_HIDDEN_NEURONS).build_model()"
   ]
  },
  {
   "cell_type": "code",
   "execution_count": 53,
   "metadata": {
    "ExecuteTime": {
     "end_time": "2019-03-27T17:50:06.343116Z",
     "start_time": "2019-03-27T17:50:06.263939Z"
    }
   },
   "outputs": [
    {
     "name": "stdout",
     "output_type": "stream",
     "text": [
      "__________________________________________________________________________________________________\n",
      "Layer (type)                    Output Shape         Param #     Connected to                     \n",
      "==================================================================================================\n",
      "image_input (InputLayer)        (None, 256, 256, 3)  0                                            \n",
      "__________________________________________________________________________________________________\n",
      "sequence_input (InputLayer)     (None, 4996)         0                                            \n",
      "__________________________________________________________________________________________________\n",
      "sketch_encoder (Model)          (None, 1, 128)       104229280   image_input[0][0]                \n",
      "__________________________________________________________________________________________________\n",
      "sequence_decoder (Model)        (None, 4996, 102)    958822      sequence_input[0][0]             \n",
      "                                                                 sketch_encoder[1][0]             \n",
      "==================================================================================================\n",
      "Total params: 105,188,102\n",
      "Trainable params: 105,188,102\n",
      "Non-trainable params: 0\n",
      "__________________________________________________________________________________________________\n",
      "None\n"
     ]
    }
   ],
   "source": [
    "plot_model(neural_sketch_coding.model, to_file='./plots/neural_sketch_coding.png', show_shapes=True, show_layer_names=True)\n",
    "\n",
    "print(neural_sketch_coding.model.summary())"
   ]
  },
  {
   "cell_type": "markdown",
   "metadata": {},
   "source": [
    "***"
   ]
  },
  {
   "cell_type": "markdown",
   "metadata": {},
   "source": [
    "# Inference\n",
    "\n",
    "![LSTM_sampling](../../img/Sampling.png)"
   ]
  },
  {
   "cell_type": "code",
   "execution_count": 54,
   "metadata": {
    "ExecuteTime": {
     "end_time": "2019-03-27T18:01:17.198200Z",
     "start_time": "2019-03-27T18:01:17.186966Z"
    }
   },
   "outputs": [],
   "source": [
    "inference = NSCInference(neural_sketch_coding, word2idx)"
   ]
  },
  {
   "cell_type": "code",
   "execution_count": 56,
   "metadata": {},
   "outputs": [],
   "source": [
    "inference.greedy_search(\n",
    "    get_preprocessed_img(PATH_TO_DATA+demo_sketch_id+'.png')\n",
    ")"
   ]
  },
  {
   "cell_type": "markdown",
   "metadata": {},
   "source": [
    "***"
   ]
  },
  {
   "cell_type": "markdown",
   "metadata": {},
   "source": [
    "## Run Train"
   ]
  },
  {
   "cell_type": "markdown",
   "metadata": {},
   "source": [
    "### Callbacks"
   ]
  },
  {
   "cell_type": "code",
   "execution_count": 28,
   "metadata": {},
   "outputs": [],
   "source": [
    "filepath=\"weights/nsc-weights.hdf5\"\n",
    "checkpoint = ModelCheckpoint(filepath, verbose=True)\n",
    "\n",
    "def on_epoch_end(epoch, logs):\n",
    "    if epoch % 5 == 0:\n",
    "        print()\n",
    "        print('Sampled:')\n",
    "        print('='*30)\n",
    "        print(greedy_search_inference(get_preprocessed_img(\n",
    "            PATH_TO_DATA+np.random.choice(list(dev_sketch_id_code_map.keys()))+'.png'\n",
    "        )))\n",
    "        print()\n",
    "        print()\n",
    "\n",
    "lambda_cb = LambdaCallback(on_epoch_end=on_epoch_end)\n",
    "\n",
    "callbacks = [checkpoint, lambda_cb]"
   ]
  },
  {
   "cell_type": "code",
   "execution_count": 107,
   "metadata": {},
   "outputs": [],
   "source": [
    "neural_sketch_coding.model.load_weights('../weights/nsc-weights.hdf5')\n",
    "\n",
    "neural_sketch_coding.model.compile(RMSprop(0.0001), loss='categorical_crossentropy')"
   ]
  },
  {
   "cell_type": "code",
   "execution_count": 110,
   "metadata": {
    "scrolled": true
   },
   "outputs": [],
   "source": [
    "batch_size = 64\n",
    "steps = len(train_sketch_id_code_map) // batch_size\n",
    "\n",
    "neural_sketch_coding.model.fit_generator(\n",
    "    data_generator(train_sketch_id_code_map, word2idx, batch_size, max_code_length, len(vocabulary)),\n",
    "    steps_per_epoch=steps,\n",
    "    epochs=100,\n",
    "    verbose=True,\n",
    "    callbacks=callbacks,\n",
    ")"
   ]
  },
  {
   "cell_type": "markdown",
   "metadata": {},
   "source": [
    "***"
   ]
  },
  {
   "cell_type": "markdown",
   "metadata": {},
   "source": [
    "## Dev"
   ]
  },
  {
   "cell_type": "code",
   "execution_count": 111,
   "metadata": {},
   "outputs": [],
   "source": [
    "from nltk.translate import bleu_score\n",
    "\n",
    "inference = NSCInference(neural_sketch_coding, word2idx)"
   ]
  },
  {
   "cell_type": "code",
   "execution_count": 112,
   "metadata": {},
   "outputs": [],
   "source": [
    "def evaluate(path_to_img=None, reference=None):\n",
    "    if path_to_img is None:\n",
    "        sketch_id = np.random.choice(list(dev_sketch_id_code_map.keys()))\n",
    "        sketch = get_preprocessed_img(PATH_TO_DATA+sketch_id+'.png')\n",
    "        reference = [dev_sketch_id_code_map[sketch_id]]\n",
    "        \n",
    "    else:\n",
    "        sketch = get_preprocessed_img(path_to_img)\n",
    "\n",
    "    hypothesis = inference.greedy_search(sketch)\n",
    "    \n",
    "    print('Greedy Search Hypothesis:')\n",
    "    print('='*30)\n",
    "    print()\n",
    "    print(hypothesis)\n",
    "    print(end='\\n\\n')\n",
    "    \n",
    "    print('Reference:')\n",
    "    print('='*30)\n",
    "    print()\n",
    "    print(reference[0])\n",
    "    print(end='\\n\\n')\n",
    "    \n",
    "    print('BLEU score: {}'.format(\n",
    "        bleu_score.sentence_bleu(reference, hypothesis)\n",
    "    ))\n",
    "        \n",
    "    plt.imshow(sketch);"
   ]
  },
  {
   "cell_type": "code",
   "execution_count": 113,
   "metadata": {},
   "outputs": [
    {
     "name": "stdout",
     "output_type": "stream",
     "text": [
      "Greedy Search Hypothesis:\n",
      "==============================\n",
      "\n",
      "header {\n",
      "btn-inactive, btn-inactive, btn-inactive, btn-inactive, btn-inactive\n",
      "}\n",
      "row {\n",
      "single {\n",
      "small-title, text, btn-orange\n",
      "}\n",
      "}\n",
      "row {\n",
      "quadruple {\n",
      "small-title, text, btn-orange\n",
      "}\n",
      "quadruple {\n",
      "small-title, text, btn-orange\n",
      "}\n",
      "quadruple {\n",
      "small-title, text, btn-orange\n",
      "}\n",
      "quadruple {\n",
      "small-title, text, btn-orange\n",
      "}\n",
      "}\n",
      "row {\n",
      "double {\n",
      "small-title, text, btn-orange\n",
      "}\n",
      "double {\n",
      "small-title, text, btn-orange\n",
      "}\n",
      "}\n",
      "\n",
      "\n",
      "\n",
      "Reference:\n",
      "==============================\n",
      "\n",
      "header {\n",
      "btn-inactive, btn-inactive, btn-inactive, btn-inactive, btn-inactive\n",
      "}\n",
      "row {\n",
      "single {\n",
      "small-title, text, btn-orange\n",
      "}\n",
      "}\n",
      "row {\n",
      "quadruple {\n",
      "small-title, text, btn-orange\n",
      "}\n",
      "quadruple {\n",
      "small-title, text, btn-orange\n",
      "}\n",
      "quadruple {\n",
      "small-title, text, btn-orange\n",
      "}\n",
      "quadruple {\n",
      "small-title, text, btn-orange\n",
      "}\n",
      "}\n",
      "row {\n",
      "double {\n",
      "small-title, text, btn-orange\n",
      "}\n",
      "double {\n",
      "small-title, text, btn-orange\n",
      "}\n",
      "}\n",
      "\n",
      "\n",
      "\n",
      "BLEU score: 1.0\n"
     ]
    },
    {
     "data": {
      "image/png": "[encoded data removed]",
      "text/plain": [
       "<Figure size 432x288 with 1 Axes>"
      ]
     },
     "metadata": {
      "needs_background": "light"
     },
     "output_type": "display_data"
    }
   ],
   "source": [
    "evaluate()"
   ]
  },
  {
   "cell_type": "markdown",
   "metadata": {},
   "source": [
    "***"
   ]
  },
  {
   "cell_type": "markdown",
   "metadata": {},
   "source": [
    "# Compilation"
   ]
  },
  {
   "cell_type": "code",
   "execution_count": 114,
   "metadata": {},
   "outputs": [],
   "source": [
    "from src.compilers import web"
   ]
  },
  {
   "cell_type": "code",
   "execution_count": 116,
   "metadata": {},
   "outputs": [],
   "source": [
    "sketch = get_preprocessed_img('./test.png')\n",
    "\n",
    "dsl_code = inference.greedy_search(sketch)\n",
    "with open('./dsl_code.gui', 'w') as f:\n",
    "    f.write(dsl_code)"
   ]
  },
  {
   "cell_type": "code",
   "execution_count": 117,
   "metadata": {},
   "outputs": [
    {
     "data": {
      "image/png": "[encoded data removed]",
      "text/plain": [
       "<Figure size 432x288 with 1 Axes>"
      ]
     },
     "metadata": {
      "needs_background": "light"
     },
     "output_type": "display_data"
    }
   ],
   "source": [
    "plt.imshow(sketch);"
   ]
  },
  {
   "cell_type": "code",
   "execution_count": 118,
   "metadata": {},
   "outputs": [],
   "source": [
    "web_compiler = web.Compiler(dsl_mapping_file_path='../compilers/web/dsl_mapping.json')\n",
    "web_compiler.compile('./dsl_code.gui', './out.html')"
   ]
  },
  {
   "cell_type": "code",
   "execution_count": null,
   "metadata": {},
   "outputs": [],
   "source": []
  },
  {
   "cell_type": "code",
   "execution_count": null,
   "metadata": {},
   "outputs": [],
   "source": []
  }
 ],
 "metadata": {
  "kernelspec": {
   "display_name": "Python 3",
   "language": "python",
   "name": "python3"
  },
  "language_info": {
   "codemirror_mode": {
    "name": "ipython",
    "version": 3
   },
   "file_extension": ".py",
   "mimetype": "text/x-python",
   "name": "python",
   "nbconvert_exporter": "python",
   "pygments_lexer": "ipython3",
   "version": "3.7.3"
  },
  "varInspector": {
   "cols": {
    "lenName": 16,
    "lenType": 16,
    "lenVar": 40
   },
   "kernels_config": {
    "python": {
     "delete_cmd_postfix": "",
     "delete_cmd_prefix": "del ",
     "library": "var_list.py",
     "varRefreshCmd": "print(var_dic_list())"
    },
    "r": {
     "delete_cmd_postfix": ") ",
     "delete_cmd_prefix": "rm(",
     "library": "var_list.r",
     "varRefreshCmd": "cat(var_dic_list()) "
    }
   },
   "position": {
    "height": "144px",
    "left": "1310px",
    "right": "20px",
    "top": "119px",
    "width": "350px"
   },
   "types_to_exclude": [
    "module",
    "function",
    "builtin_function_or_method",
    "instance",
    "_Feature"
   ],
   "window_display": false
  }
 },
 "nbformat": 4,
 "nbformat_minor": 2
}
